{
 "cells": [
  {
   "cell_type": "code",
   "execution_count": 3,
   "metadata": {},
   "outputs": [],
   "source": [
    "# Function Decorator\n",
    "\n",
    "def multiply(a,b):\n",
    "    print(\"this function multipy :{a},{b}\")\n",
    "    c = a*b\n",
    "    print(\"the result is {c}\")\n",
    "    return c"
   ]
  },
  {
   "cell_type": "code",
   "execution_count": 4,
   "metadata": {},
   "outputs": [
    {
     "name": "stdout",
     "output_type": "stream",
     "text": [
      "this function multipy :{a},{b}\n",
      "the result is {c}\n"
     ]
    },
    {
     "data": {
      "text/plain": [
       "15"
      ]
     },
     "execution_count": 4,
     "metadata": {},
     "output_type": "execute_result"
    }
   ],
   "source": [
    "multiply(3,5)"
   ]
  },
  {
   "cell_type": "code",
   "execution_count": 5,
   "metadata": {},
   "outputs": [],
   "source": [
    "def add(a,b):\n",
    "    print(\"this function add {a},{b}\")\n",
    "    c = a+b\n",
    "    print(\"the result is {c}\")\n",
    "    return c"
   ]
  },
  {
   "cell_type": "code",
   "execution_count": 6,
   "metadata": {},
   "outputs": [],
   "source": [
    "def sub(a,b):\n",
    "    print(\"this function sub {a},{b}\")\n",
    "    c = a-b\n",
    "    print(\"the result is {c}\")\n",
    "    return c"
   ]
  },
  {
   "cell_type": "code",
   "execution_count": 7,
   "metadata": {},
   "outputs": [],
   "source": [
    "def div(a,b):\n",
    "    print(\"this function div {a},{b}\")\n",
    "    c = a/b\n",
    "    print(\"the result is {c}\")\n",
    "    return c"
   ]
  },
  {
   "cell_type": "code",
   "execution_count": 35,
   "metadata": {},
   "outputs": [],
   "source": [
    "\n",
    "\n",
    "def printingvariable(function):         ## making decorator fun\n",
    "    def printdata(a,b):                 ## wrapper function\n",
    "        print(f\"this function {function.__name__} called with {a} and {b}\")\n",
    "        result = function(a,b)   \n",
    "        print(f\"result is going to be {result}\")\n",
    "        return result\n",
    "    return printdata\n",
    "    "
   ]
  },
  {
   "cell_type": "code",
   "execution_count": 36,
   "metadata": {},
   "outputs": [],
   "source": [
    "@printingvariable\n",
    "def add(a,b):\n",
    "    return a+b"
   ]
  },
  {
   "cell_type": "code",
   "execution_count": 37,
   "metadata": {},
   "outputs": [
    {
     "name": "stdout",
     "output_type": "stream",
     "text": [
      "this function add called with 4 and 5\n",
      "result is going to be 9\n"
     ]
    },
    {
     "data": {
      "text/plain": [
       "9"
      ]
     },
     "execution_count": 37,
     "metadata": {},
     "output_type": "execute_result"
    }
   ],
   "source": [
    "add(4,5)"
   ]
  },
  {
   "cell_type": "markdown",
   "metadata": {},
   "source": [
    "Decorator make code to modular / reusable. "
   ]
  },
  {
   "cell_type": "code",
   "execution_count": 16,
   "metadata": {},
   "outputs": [],
   "source": [
    "@printingvariable # decorator fun calling\n",
    "def sub(a,b):\n",
    "    return a-b"
   ]
  },
  {
   "cell_type": "code",
   "execution_count": 18,
   "metadata": {},
   "outputs": [
    {
     "name": "stdout",
     "output_type": "stream",
     "text": [
      "this function sub called with 4 and 5\n",
      "result is going to be {result}\n"
     ]
    },
    {
     "data": {
      "text/plain": [
       "-1"
      ]
     },
     "execution_count": 18,
     "metadata": {},
     "output_type": "execute_result"
    }
   ],
   "source": [
    "sub(4,5)"
   ]
  },
  {
   "cell_type": "code",
   "execution_count": 23,
   "metadata": {},
   "outputs": [],
   "source": [
    "# time\n",
    "import time\n",
    "\n",
    "def loop_for_list(list):\n",
    "    start_time = time.time()\n",
    "    for i in list:\n",
    "        print(i)\n",
    "        time.sleep(1)\n",
    "    end_time= time.time()\n",
    "    print(f\"The time taken to loop through list: {end_time - start_time} seconds\")"
   ]
  },
  {
   "cell_type": "code",
   "execution_count": 24,
   "metadata": {},
   "outputs": [
    {
     "name": "stdout",
     "output_type": "stream",
     "text": [
      "2\n",
      "4\n",
      "5\n",
      "32\n",
      "15\n",
      "8\n",
      "25\n",
      "The time taken to loop through list: 7.004966497421265 seconds\n"
     ]
    }
   ],
   "source": [
    "loop_for_list([2,4,5,32,15,8,25])"
   ]
  },
  {
   "cell_type": "code",
   "execution_count": 28,
   "metadata": {},
   "outputs": [],
   "source": [
    "def time_decorator(function):\n",
    "    def wrapper(*args,**kwargs):\n",
    "        start_time = time.time()\n",
    "        result = function(*args,**kwargs)\n",
    "        end_time= time.time()\n",
    "        print(f\"Time taken by {function.__name__}: {end_time - start_time} seconds\")\n",
    "        return result\n",
    "    return wrapper"
   ]
  },
  {
   "cell_type": "code",
   "execution_count": 29,
   "metadata": {},
   "outputs": [],
   "source": [
    "@time_decorator\n",
    "def loop_for_list(list):\n",
    "    for i in list:\n",
    "        print(i)\n",
    "        time.sleep(1)"
   ]
  },
  {
   "cell_type": "code",
   "execution_count": 30,
   "metadata": {},
   "outputs": [
    {
     "name": "stdout",
     "output_type": "stream",
     "text": [
      "1\n",
      "3\n",
      "45\n",
      "2\n",
      "4\n",
      "Time taken by loop_for_list: 5.004240274429321 seconds\n"
     ]
    }
   ],
   "source": [
    "loop_for_list([1,3,45,2,4])"
   ]
  },
  {
   "cell_type": "code",
   "execution_count": 39,
   "metadata": {},
   "outputs": [],
   "source": [
    "@printingvariable           ## we can call multiple decorators\n",
    "@time_decorator\n",
    "def additioning(a,b):\n",
    "    time.sleep(1)\n",
    "    return a+b"
   ]
  },
  {
   "cell_type": "code",
   "execution_count": 40,
   "metadata": {},
   "outputs": [
    {
     "name": "stdout",
     "output_type": "stream",
     "text": [
      "this function wrapper called with 4 and 8\n",
      "Time taken by additioning: 1.000431776046753 seconds\n",
      "result is going to be 12\n"
     ]
    },
    {
     "data": {
      "text/plain": [
       "12"
      ]
     },
     "execution_count": 40,
     "metadata": {},
     "output_type": "execute_result"
    }
   ],
   "source": [
    "additioning(4,8)"
   ]
  },
  {
   "cell_type": "code",
   "execution_count": 43,
   "metadata": {},
   "outputs": [
    {
     "name": "stdout",
     "output_type": "stream",
     "text": [
      "['m', 'm', 'm', 'm', 'm', 'm', 'm', 'm', 'm', 'm']\n"
     ]
    }
   ],
   "source": [
    "# example of regular expresion - pattern matching\n",
    "\n",
    "import re\n",
    "\n",
    "data =\"my name is sudhanshu kumar. I am a mentor in python class i use to take classes at 7 am IST for python hindi my mail is sudhanshu@gmail.com\"\n",
    "x = re.findall(\"m\",data) ##findout \n",
    "print(x)"
   ]
  },
  {
   "cell_type": "code",
   "execution_count": 45,
   "metadata": {},
   "outputs": [
    {
     "name": "stdout",
     "output_type": "stream",
     "text": [
      "['+91 3848420224', '+91 7517736729', '+91 7498332738']\n"
     ]
    }
   ],
   "source": [
    "data= \"i have calling number of mr sudh +91 3848420224 and for pradip +91 7517736729 i have a number for prince +91 7498332738\"\n",
    "\n",
    "x = re.findall(r'\\+91[ ]?[0-9]{10}',data)  ## regular expresion\n",
    "print(x)"
   ]
  },
  {
   "cell_type": "code",
   "execution_count": 46,
   "metadata": {},
   "outputs": [
    {
     "name": "stdout",
     "output_type": "stream",
     "text": [
      "['sudhanshu@gmail.com', 'sudhanshu@euron.one', 'avinash@gmail.com', 'avi@gmail.com', 'avinash_1@edu.in']\n"
     ]
    }
   ],
   "source": [
    "data = \"sudhanshu@gmail.com, sudhanshu@euron.one this is  my mail id avinash@gmail.com , avi@gmail.com, avinash_1@edu.in\"\n",
    "x = re.findall(r'[\\w\\.-]+@[\\w\\.-]+\\.\\w+',data) ## regular exp\n",
    "print(x) "
   ]
  },
  {
   "cell_type": "code",
   "execution_count": 50,
   "metadata": {},
   "outputs": [
    {
     "name": "stdout",
     "output_type": "stream",
     "text": [
      "python is present\n",
      "python\n"
     ]
    }
   ],
   "source": [
    "## search fun\n",
    "\n",
    "text= \"we all learning pythonn at euron.one\"\n",
    "if re.search(r\"python\",text):\n",
    "    print(\"python is present\")\n",
    "    print(re.search(r\"python\",text).group())"
   ]
  },
  {
   "cell_type": "code",
   "execution_count": 51,
   "metadata": {},
   "outputs": [
    {
     "data": {
      "text/plain": [
       "['sudhanshu@gmail.com', ' sudhanshu', 'avinash', ' prince', 'pradip']"
      ]
     },
     "execution_count": 51,
     "metadata": {},
     "output_type": "execute_result"
    }
   ],
   "source": [
    "data = \"sudhanshu@gmail.com,sudhanshu,avinash, prince,pradip\"\n",
    "re.split(r\",\",data) # split function"
   ]
  },
  {
   "cell_type": "code",
   "execution_count": 54,
   "metadata": {},
   "outputs": [],
   "source": [
    "#SQL\n",
    "import sqlite3 #in memory db\n",
    "\n",
    "conn = sqlite3.connect('euron.db')\n",
    "\n",
    "cursor = conn.cursor()\n",
    "\n",
    "cursor.execute(''' CREATE TABLE IF NOT EXISTS users (id INTEGER PRIMARY KEY,name TEXT NOT NULL,email TEXT NOT NULL UNIQUE)''')\n",
    "\n",
    "cursor.execute(\"\"\" insert into users(id,name,email) values(254,\"sudhanshu\",\"sudhan84shu@euron.one\")\"\"\")\n",
    "conn.commit()\n",
    "\n",
    "\n"
   ]
  },
  {
   "cell_type": "code",
   "execution_count": 56,
   "metadata": {},
   "outputs": [
    {
     "data": {
      "text/plain": [
       "[(234, 'sudhanshu', 'sudhanshu@euron.one'),\n",
       " (254, 'sudhanshu', 'sudhan84shu@euron.one')]"
      ]
     },
     "execution_count": 56,
     "metadata": {},
     "output_type": "execute_result"
    }
   ],
   "source": [
    "cursor.execute(\"select * from users\")\n",
    "cursor.fetchall()"
   ]
  },
  {
   "cell_type": "code",
   "execution_count": null,
   "metadata": {},
   "outputs": [],
   "source": []
  }
 ],
 "metadata": {
  "kernelspec": {
   "display_name": "Python 3",
   "language": "python",
   "name": "python3"
  },
  "language_info": {
   "codemirror_mode": {
    "name": "ipython",
    "version": 3
   },
   "file_extension": ".py",
   "mimetype": "text/x-python",
   "name": "python",
   "nbconvert_exporter": "python",
   "pygments_lexer": "ipython3",
   "version": "3.13.2"
  }
 },
 "nbformat": 4,
 "nbformat_minor": 2
}
