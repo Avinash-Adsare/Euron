{
 "cells": [
  {
   "cell_type": "code",
   "execution_count": 42,
   "metadata": {},
   "outputs": [],
   "source": [
    "class euron:\n",
    "    def __init__(self,course_name,mentor,student_count):   ##through init we can pass data in class\n",
    "        self.course_name = course_name\n",
    "        self.mentor = mentor\n",
    "        self.student_count = student_count\n",
    "\n",
    "    def __str__(self):           ## str magic function/ prints object data\n",
    "        return f\"Course Name: {self.course_name},Mentor: {self.mentor}, Student Count :{self.student_count}\"\n",
    "    \n",
    " \n",
    "    def __len__(self):       ## len magic fun in class / helper function\n",
    "        return self.student_count\n",
    "    \n",
    "    def __repr__(self): ## representation fun - string repr to classes\n",
    "        return f\"Euron('{self.course_name}','{self.mentor}','{self.student_count}')\""
   ]
  },
  {
   "cell_type": "code",
   "execution_count": 43,
   "metadata": {},
   "outputs": [
    {
     "name": "stdout",
     "output_type": "stream",
     "text": [
      "Course Name: python hindi,Mentor: sudhanshu, Student Count :1000\n",
      "1000\n",
      "Euron('python hindi','sudhanshu','1000')\n"
     ]
    }
   ],
   "source": [
    "eu_obj = euron(\"python hindi\",\"sudhanshu\",1000) ## object\n",
    "#eu_obj.__str__()\n",
    "print(eu_obj)\n",
    "print(len(eu_obj))\n",
    "print(repr(eu_obj))"
   ]
  },
  {
   "cell_type": "code",
   "execution_count": 44,
   "metadata": {},
   "outputs": [],
   "source": [
    "## decorator\n",
    "## private variable can make by double underscore\n",
    "# protected variable can make by single underscore\n",
    "## Encapsulation\n",
    "\n",
    "class euron:\n",
    "    def __init__(self,course_name,mentor,student_count):\n",
    "        self._course_name = course_name\n",
    "        self._mentor = mentor\n",
    "        self._student_count = student_count\n",
    "        ## decorator\n",
    "\n",
    "    @property         #property decorator\n",
    "    def course_name(self):\n",
    "        return self._course_name \n",
    "\n",
    "    @course_name.setter             ## sets new value\n",
    "    def course_name(self,new_name):\n",
    "        self._course_name= new_name \n",
    "\n",
    "    @course_name.deleter\n",
    "    def course_name(self):\n",
    "        del self._course_name             \n",
    "\n"
   ]
  },
  {
   "cell_type": "code",
   "execution_count": 45,
   "metadata": {},
   "outputs": [],
   "source": [
    "eu_obj1 = euron(\"python hindi\",\"sudhanshu\",500)"
   ]
  },
  {
   "cell_type": "code",
   "execution_count": 46,
   "metadata": {},
   "outputs": [],
   "source": [
    "eu_obj1._course_name= \"data science\"  ## assign new name\n"
   ]
  },
  {
   "cell_type": "code",
   "execution_count": 47,
   "metadata": {},
   "outputs": [
    {
     "data": {
      "text/plain": [
       "'data science'"
      ]
     },
     "execution_count": 47,
     "metadata": {},
     "output_type": "execute_result"
    }
   ],
   "source": [
    "eu_obj1._course_name"
   ]
  },
  {
   "cell_type": "code",
   "execution_count": 48,
   "metadata": {},
   "outputs": [],
   "source": [
    "## Abstraction -blue print to classes uses / just creating as skeleton\n",
    "\n",
    "from abc import ABC,abstractmethod\n",
    "\n",
    "class Course(ABC):\n",
    "    @abstractmethod\n",
    "    def get_duration(self):\n",
    "        pass\n",
    "\n",
    "    @abstractmethod\n",
    "    def get_price(self):\n",
    "        pass\n",
    "\n",
    "class euron_class(Course):\n",
    "    def __init__(self):\n",
    "        self.duration = 3\n",
    "        self.price = 1000\n",
    "    def get_duration(self):\n",
    "        return f\"{self.duration}\"\n",
    "    \n",
    "    def get_price(self):\n",
    "        return f\"{self.price}\"\n",
    "\n",
    "class euron_class1(Course):\n",
    "    def __init__(self):\n",
    "        self.duration = 3\n",
    "        self.price = 1000\n",
    "    def get_duration(self):\n",
    "        return f\"This is my duration:{self.duration}\"\n",
    "    \n",
    "    def get_price(self):\n",
    "        return f\"This is my price:{self.price}\""
   ]
  },
  {
   "cell_type": "code",
   "execution_count": 49,
   "metadata": {},
   "outputs": [
    {
     "data": {
      "text/plain": [
       "range(0, 5)"
      ]
     },
     "execution_count": 49,
     "metadata": {},
     "output_type": "execute_result"
    }
   ],
   "source": [
    "range(5)\n",
    "## by default range is itrable not a itrator"
   ]
  },
  {
   "cell_type": "code",
   "execution_count": 50,
   "metadata": {},
   "outputs": [
    {
     "data": {
      "text/plain": [
       "[0, 1, 2, 3, 4]"
      ]
     },
     "execution_count": 50,
     "metadata": {},
     "output_type": "execute_result"
    }
   ],
   "source": [
    "list(range(5))"
   ]
  },
  {
   "cell_type": "code",
   "execution_count": 51,
   "metadata": {},
   "outputs": [],
   "source": [
    "r = range(5)"
   ]
  },
  {
   "cell_type": "code",
   "execution_count": 52,
   "metadata": {},
   "outputs": [
    {
     "ename": "TypeError",
     "evalue": "'range' object is not an iterator",
     "output_type": "error",
     "traceback": [
      "\u001b[1;31m---------------------------------------------------------------------------\u001b[0m",
      "\u001b[1;31mTypeError\u001b[0m                                 Traceback (most recent call last)",
      "Cell \u001b[1;32mIn[52], line 1\u001b[0m\n\u001b[1;32m----> 1\u001b[0m \u001b[38;5;28;43mnext\u001b[39;49m\u001b[43m(\u001b[49m\u001b[43mr\u001b[49m\u001b[43m)\u001b[49m \n",
      "\u001b[1;31mTypeError\u001b[0m: 'range' object is not an iterator"
     ]
    }
   ],
   "source": [
    "next(r) "
   ]
  },
  {
   "cell_type": "code",
   "execution_count": null,
   "metadata": {},
   "outputs": [],
   "source": [
    "r1 = iter(r)"
   ]
  },
  {
   "cell_type": "code",
   "execution_count": null,
   "metadata": {},
   "outputs": [
    {
     "data": {
      "text/plain": [
       "0"
      ]
     },
     "execution_count": 28,
     "metadata": {},
     "output_type": "execute_result"
    }
   ],
   "source": [
    "next(r1)"
   ]
  },
  {
   "cell_type": "code",
   "execution_count": null,
   "metadata": {},
   "outputs": [
    {
     "data": {
      "text/plain": [
       "1"
      ]
     },
     "execution_count": 29,
     "metadata": {},
     "output_type": "execute_result"
    }
   ],
   "source": [
    "next(r1)"
   ]
  },
  {
   "cell_type": "code",
   "execution_count": null,
   "metadata": {},
   "outputs": [
    {
     "data": {
      "text/plain": [
       "2"
      ]
     },
     "execution_count": 30,
     "metadata": {},
     "output_type": "execute_result"
    }
   ],
   "source": [
    "next(r1)\n"
   ]
  },
  {
   "cell_type": "code",
   "execution_count": null,
   "metadata": {},
   "outputs": [
    {
     "data": {
      "text/plain": [
       "3"
      ]
     },
     "execution_count": 31,
     "metadata": {},
     "output_type": "execute_result"
    }
   ],
   "source": [
    "next(r1)"
   ]
  },
  {
   "cell_type": "code",
   "execution_count": null,
   "metadata": {},
   "outputs": [
    {
     "data": {
      "text/plain": [
       "4"
      ]
     },
     "execution_count": 32,
     "metadata": {},
     "output_type": "execute_result"
    }
   ],
   "source": [
    "next(r1)"
   ]
  },
  {
   "cell_type": "code",
   "execution_count": null,
   "metadata": {},
   "outputs": [
    {
     "ename": "StopIteration",
     "evalue": "",
     "output_type": "error",
     "traceback": [
      "\u001b[1;31m---------------------------------------------------------------------------\u001b[0m",
      "\u001b[1;31mStopIteration\u001b[0m                             Traceback (most recent call last)",
      "Cell \u001b[1;32mIn[33], line 1\u001b[0m\n\u001b[1;32m----> 1\u001b[0m \u001b[38;5;28;43mnext\u001b[39;49m\u001b[43m(\u001b[49m\u001b[43mr1\u001b[49m\u001b[43m)\u001b[49m\n",
      "\u001b[1;31mStopIteration\u001b[0m: "
     ]
    }
   ],
   "source": [
    "next(r1)"
   ]
  },
  {
   "cell_type": "code",
   "execution_count": null,
   "metadata": {},
   "outputs": [],
   "source": [
    "s = \"Sudhanshu\""
   ]
  },
  {
   "cell_type": "code",
   "execution_count": null,
   "metadata": {},
   "outputs": [
    {
     "name": "stdout",
     "output_type": "stream",
     "text": [
      "S\n",
      "u\n",
      "d\n",
      "h\n",
      "a\n",
      "n\n",
      "s\n",
      "h\n",
      "u\n"
     ]
    }
   ],
   "source": [
    "for i in s:          # string by default iterable not a iterator\n",
    "    print(i)"
   ]
  },
  {
   "cell_type": "code",
   "execution_count": null,
   "metadata": {},
   "outputs": [
    {
     "ename": "TypeError",
     "evalue": "'str' object is not an iterator",
     "output_type": "error",
     "traceback": [
      "\u001b[1;31m---------------------------------------------------------------------------\u001b[0m",
      "\u001b[1;31mTypeError\u001b[0m                                 Traceback (most recent call last)",
      "Cell \u001b[1;32mIn[36], line 1\u001b[0m\n\u001b[1;32m----> 1\u001b[0m \u001b[38;5;28;43mnext\u001b[39;49m\u001b[43m(\u001b[49m\u001b[43ms\u001b[49m\u001b[43m)\u001b[49m\n",
      "\u001b[1;31mTypeError\u001b[0m: 'str' object is not an iterator"
     ]
    }
   ],
   "source": [
    "next(s)"
   ]
  },
  {
   "cell_type": "code",
   "execution_count": null,
   "metadata": {},
   "outputs": [],
   "source": [
    "# to convert string as iterator\n",
    "s = iter(s)"
   ]
  },
  {
   "cell_type": "code",
   "execution_count": null,
   "metadata": {},
   "outputs": [
    {
     "data": {
      "text/plain": [
       "'S'"
      ]
     },
     "execution_count": 38,
     "metadata": {},
     "output_type": "execute_result"
    }
   ],
   "source": [
    "next(s)"
   ]
  },
  {
   "cell_type": "code",
   "execution_count": null,
   "metadata": {},
   "outputs": [
    {
     "data": {
      "text/plain": [
       "'u'"
      ]
     },
     "execution_count": 39,
     "metadata": {},
     "output_type": "execute_result"
    }
   ],
   "source": [
    "next(s)"
   ]
  },
  {
   "cell_type": "code",
   "execution_count": null,
   "metadata": {},
   "outputs": [
    {
     "data": {
      "text/plain": [
       "'d'"
      ]
     },
     "execution_count": 40,
     "metadata": {},
     "output_type": "execute_result"
    }
   ],
   "source": [
    "next(s)"
   ]
  },
  {
   "cell_type": "code",
   "execution_count": null,
   "metadata": {},
   "outputs": [
    {
     "data": {
      "text/plain": [
       "'h'"
      ]
     },
     "execution_count": 41,
     "metadata": {},
     "output_type": "execute_result"
    }
   ],
   "source": [
    "next(s)"
   ]
  },
  {
   "cell_type": "markdown",
   "metadata": {},
   "source": [
    "# By default all the objects are iterable,but it won't be iterator"
   ]
  },
  {
   "cell_type": "code",
   "execution_count": 55,
   "metadata": {},
   "outputs": [
    {
     "ename": "TypeError",
     "evalue": "'int' object is not an iterator",
     "output_type": "error",
     "traceback": [
      "\u001b[1;31m---------------------------------------------------------------------------\u001b[0m",
      "\u001b[1;31mTypeError\u001b[0m                                 Traceback (most recent call last)",
      "Cell \u001b[1;32mIn[55], line 2\u001b[0m\n\u001b[0;32m      1\u001b[0m a \u001b[38;5;241m=\u001b[39m \u001b[38;5;241m1\u001b[39m\n\u001b[1;32m----> 2\u001b[0m \u001b[38;5;28;43mnext\u001b[39;49m\u001b[43m(\u001b[49m\u001b[38;5;241;43m1\u001b[39;49m\u001b[43m)\u001b[49m\n",
      "\u001b[1;31mTypeError\u001b[0m: 'int' object is not an iterator"
     ]
    }
   ],
   "source": [
    "a = 1\n",
    "next(1)"
   ]
  },
  {
   "cell_type": "code",
   "execution_count": 56,
   "metadata": {},
   "outputs": [
    {
     "ename": "NameError",
     "evalue": "name 'intr' is not defined",
     "output_type": "error",
     "traceback": [
      "\u001b[1;31m---------------------------------------------------------------------------\u001b[0m",
      "\u001b[1;31mNameError\u001b[0m                                 Traceback (most recent call last)",
      "Cell \u001b[1;32mIn[56], line 1\u001b[0m\n\u001b[1;32m----> 1\u001b[0m \u001b[43mintr\u001b[49m(a)\n",
      "\u001b[1;31mNameError\u001b[0m: name 'intr' is not defined"
     ]
    }
   ],
   "source": [
    "intr(a)"
   ]
  },
  {
   "cell_type": "code",
   "execution_count": 57,
   "metadata": {},
   "outputs": [],
   "source": [
    "## objects which are not interable which can not be convert to interato"
   ]
  },
  {
   "cell_type": "code",
   "execution_count": 65,
   "metadata": {},
   "outputs": [
    {
     "data": {
      "text/plain": [
       "range(0, 10)"
      ]
     },
     "execution_count": 65,
     "metadata": {},
     "output_type": "execute_result"
    }
   ],
   "source": [
    "range(10)"
   ]
  },
  {
   "cell_type": "code",
   "execution_count": 58,
   "metadata": {},
   "outputs": [],
   "source": [
    "## lezy evaluation - do not use until it required\n",
    "\n",
    "def lazy_number(n):\n",
    "    for i in range(1,n+1):\n",
    "        print(f\"hello{i}\")\n",
    "        yield i                    ## keyword must to make fun lazy "
   ]
  },
  {
   "cell_type": "code",
   "execution_count": 59,
   "metadata": {},
   "outputs": [],
   "source": [
    "n1= lazy_number(7)"
   ]
  },
  {
   "cell_type": "code",
   "execution_count": 66,
   "metadata": {},
   "outputs": [
    {
     "name": "stdout",
     "output_type": "stream",
     "text": [
      "hello1\n"
     ]
    },
    {
     "data": {
      "text/plain": [
       "1"
      ]
     },
     "execution_count": 66,
     "metadata": {},
     "output_type": "execute_result"
    }
   ],
   "source": [
    "next(n1)"
   ]
  },
  {
   "cell_type": "code",
   "execution_count": 67,
   "metadata": {},
   "outputs": [
    {
     "name": "stdout",
     "output_type": "stream",
     "text": [
      "hello2\n"
     ]
    },
    {
     "data": {
      "text/plain": [
       "2"
      ]
     },
     "execution_count": 67,
     "metadata": {},
     "output_type": "execute_result"
    }
   ],
   "source": [
    "next(n1)"
   ]
  },
  {
   "cell_type": "code",
   "execution_count": 60,
   "metadata": {},
   "outputs": [
    {
     "data": {
      "text/plain": [
       "<generator object lazy_number at 0x000002A646026180>"
      ]
     },
     "execution_count": 60,
     "metadata": {},
     "output_type": "execute_result"
    }
   ],
   "source": [
    "lazy_number(7)"
   ]
  },
  {
   "cell_type": "code",
   "execution_count": 63,
   "metadata": {},
   "outputs": [],
   "source": [
    "def lazy_number1(n):\n",
    "    for i in range(1,n+1):\n",
    "        print(f\"hello {i}\")\n",
    "        "
   ]
  },
  {
   "cell_type": "code",
   "execution_count": 64,
   "metadata": {},
   "outputs": [
    {
     "name": "stdout",
     "output_type": "stream",
     "text": [
      "hello 1\n",
      "hello 2\n",
      "hello 3\n",
      "hello 4\n",
      "hello 5\n",
      "hello 6\n",
      "hello 7\n",
      "hello 8\n"
     ]
    }
   ],
   "source": [
    "lazy_number1(8)"
   ]
  },
  {
   "cell_type": "code",
   "execution_count": null,
   "metadata": {},
   "outputs": [],
   "source": []
  },
  {
   "cell_type": "markdown",
   "metadata": {},
   "source": [
    "## Assignment\n",
    "\n",
    "Assignment Questions for Euron on Object-Oriented Programming and Advanced Python Topics\n",
    "Section 1: Class Basics\n",
    "Defining Classes\n",
    "Create a class called Course with attributes: course_id, course_name, and instructor_name. Add a method to display the course details.\n",
    "Create another class called Student with attributes: student_id, name, and enrolled_courses (a list). Add a method to enroll a student in a course.\n",
    "Section 2: Instance Variables and Methods\n",
    "Working with Instance Variables\n",
    "Define a class Subscription with instance variables user_name, subscription_type, and price. Write methods to:\n",
    "Display the subscription details.\n",
    "Upgrade the subscription type to a higher plan and update the price accordingly.\n",
    "Section 3: Constructors and Destructors\n",
    "Using __init__ and __del__\n",
    "Implement a class DatabaseConnection to simulate connecting to a database. Use:\n",
    "__init__ to initialize the connection and print \"Connected to the database.\"\n",
    "__del__ to print \"Disconnected from the database.\"\n",
    "Section 4: Inheritance and Polymorphism\n",
    "Using Inheritance\n",
    "\n",
    "Create a base class User with attributes user_id and name. Add a method show_user_details.\n",
    "Derive two subclasses: Student and Teacher. Add specific attributes and override the show_user_details method for both.\n",
    "Polymorphism\n",
    "\n",
    "Write a function show_details(entity) that takes an instance of either Student or Teacher and calls the appropriate show_user_details method.\n",
    "Section 5: Encapsulation and Abstraction\n",
    "Encapsulation\n",
    "\n",
    "Implement a class Payment with private attributes _card_number and _cvv. Add methods to:\n",
    "Set and get card details securely.\n",
    "Validate the CVV.\n",
    "Abstraction\n",
    "\n",
    "Define an abstract base class CourseContent with methods get_details() and get_duration(). Create two subclasses VideoCourse and Ebook to implement these methods.\n",
    "Section 6: Advanced OOP Concepts\n",
    "Magic Methods\n",
    "Overloading Magic Methods\n",
    "Create a class CartItem with attributes name, price, and quantity. Overload:\n",
    "__str__ to return a string representation of the item.\n",
    "__add__ to allow addition of two CartItem objects, combining their quantities.\n",
    "Abstract Base Classes\n",
    "Using Abstract Base Classes\n",
    "Create an abstract base class SubscriptionPlan with methods get_price() and get_duration(). Implement two subclasses MonthlyPlan and YearlyPlan with appropriate logic.\n",
    "Property Decorators\n",
    "Using Property Decorators\n",
    "Create a class Subscription with attributes _plan and _price. Use:\n",
    "@property to access _plan and _price.\n",
    "@setter to set _plan and update _price based on the plan.\n",
    "Section 7: Iterators and Generators\n",
    "Creating Iterators\n",
    "Custom Iterators\n",
    "Implement an iterator class CourseIterator that takes a list of courses and iterates over them one by one.\n",
    "Generators and Using yield\n",
    "Using Generators\n",
    "Write a generator function fibonacci_sequence(n) to yield the Fibonacci sequence up to n terms. Test it using a loop.\n",
    "Lazy Evaluation\n",
    "Lazy Evaluation Example\n",
    "Implement a generator function read_large_file(file_path) to read a large file lazily, one line at a time. Use this function to count the number of lines in the file.\n"
   ]
  },
  {
   "cell_type": "code",
   "execution_count": null,
   "metadata": {},
   "outputs": [],
   "source": []
  }
 ],
 "metadata": {
  "kernelspec": {
   "display_name": "Python 3",
   "language": "python",
   "name": "python3"
  },
  "language_info": {
   "codemirror_mode": {
    "name": "ipython",
    "version": 3
   },
   "file_extension": ".py",
   "mimetype": "text/x-python",
   "name": "python",
   "nbconvert_exporter": "python",
   "pygments_lexer": "ipython3",
   "version": "3.13.2"
  }
 },
 "nbformat": 4,
 "nbformat_minor": 2
}
