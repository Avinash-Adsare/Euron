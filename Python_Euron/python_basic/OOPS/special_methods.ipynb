{
 "cells": [
  {
   "cell_type": "code",
   "execution_count": 1,
   "metadata": {},
   "outputs": [],
   "source": [
    "class course:\n",
    "    def __init__(self,title,mentor):\n",
    "        self.title = title\n",
    "        self.metor = mentor"
   ]
  },
  {
   "cell_type": "code",
   "execution_count": 2,
   "metadata": {},
   "outputs": [],
   "source": [
    "a = course(\"python\",\"sudh\")"
   ]
  },
  {
   "cell_type": "code",
   "execution_count": 3,
   "metadata": {},
   "outputs": [
    {
     "data": {
      "text/plain": [
       "'python'"
      ]
     },
     "execution_count": 3,
     "metadata": {},
     "output_type": "execute_result"
    }
   ],
   "source": [
    "a.title"
   ]
  },
  {
   "cell_type": "code",
   "execution_count": 4,
   "metadata": {},
   "outputs": [
    {
     "data": {
      "text/plain": [
       "'sudh'"
      ]
     },
     "execution_count": 4,
     "metadata": {},
     "output_type": "execute_result"
    }
   ],
   "source": [
    "a.metor"
   ]
  },
  {
   "cell_type": "code",
   "execution_count": 5,
   "metadata": {},
   "outputs": [],
   "source": [
    "class course:\n",
    "    def __init__(self,title,mentor):\n",
    "        self.title = title\n",
    "        self.metor = mentor\n",
    "\n",
    "    def __str_(self):\n",
    "        return f\"{self.title} by {self.mentor}\""
   ]
  },
  {
   "cell_type": "code",
   "execution_count": 6,
   "metadata": {},
   "outputs": [],
   "source": [
    "a = course(\"python\",\"sufh\")"
   ]
  },
  {
   "cell_type": "code",
   "execution_count": 7,
   "metadata": {},
   "outputs": [
    {
     "name": "stdout",
     "output_type": "stream",
     "text": [
      "<__main__.course object at 0x00000189758B9400>\n"
     ]
    }
   ],
   "source": [
    "print(a)"
   ]
  },
  {
   "cell_type": "code",
   "execution_count": 8,
   "metadata": {},
   "outputs": [],
   "source": [
    "class course:\n",
    "    def __init__(self,title,mentor):\n",
    "        self.title = title\n",
    "        self.metor = mentor\n",
    "\n",
    "    def __str_(self):\n",
    "        return f\"my name is sudh\"\n",
    "    \n",
    "    def __eq__(self, value):\n",
    "        return self.title == value.title\n",
    "    "
   ]
  },
  {
   "cell_type": "code",
   "execution_count": 9,
   "metadata": {},
   "outputs": [],
   "source": [
    "a = course(\"python\",\"sudh\")\n",
    "b = course(\"python\",\"sudh\")"
   ]
  },
  {
   "cell_type": "code",
   "execution_count": 11,
   "metadata": {},
   "outputs": [
    {
     "data": {
      "text/plain": [
       "True"
      ]
     },
     "execution_count": 11,
     "metadata": {},
     "output_type": "execute_result"
    }
   ],
   "source": [
    "a == b"
   ]
  },
  {
   "cell_type": "code",
   "execution_count": 12,
   "metadata": {},
   "outputs": [],
   "source": [
    "class course:\n",
    "    def __init__(self,title,mentor):\n",
    "        self.title = title\n",
    "        self.metor = mentor\n",
    "\n",
    "    def __str_(self):\n",
    "        return f\"my name is sudh\"\n",
    "    \n",
    "    def __eq__(self, value):\n",
    "        return self.title == value.title\n",
    "    \n",
    "    def __len__(self):\n",
    "        return self.title"
   ]
  },
  {
   "cell_type": "code",
   "execution_count": 14,
   "metadata": {},
   "outputs": [],
   "source": [
    "a =  course([\"python\",\"data science\",\"Gen ai\"],\"sudh\")"
   ]
  },
  {
   "cell_type": "code",
   "execution_count": 15,
   "metadata": {},
   "outputs": [
    {
     "data": {
      "text/plain": [
       "3"
      ]
     },
     "execution_count": 15,
     "metadata": {},
     "output_type": "execute_result"
    }
   ],
   "source": [
    "len(a.title)"
   ]
  },
  {
   "cell_type": "code",
   "execution_count": 24,
   "metadata": {},
   "outputs": [],
   "source": [
    "class course:\n",
    "    def __init__(self,title,mentor):\n",
    "        self.title = title\n",
    "        self.metor = mentor\n",
    "\n",
    "    def __str_(self):\n",
    "        return f\"my name is sudh\"\n",
    "    \n",
    "    def __eq__(self, value):\n",
    "        return self.title == value.title\n",
    "    \n",
    "    def __len__(self):\n",
    "        return self.title\n",
    "    \n",
    "    def __del__(self):\n",
    "        print(\"delete the object\")"
   ]
  },
  {
   "cell_type": "code",
   "execution_count": 17,
   "metadata": {},
   "outputs": [],
   "source": [
    "del a"
   ]
  },
  {
   "cell_type": "code",
   "execution_count": 18,
   "metadata": {},
   "outputs": [
    {
     "ename": "NameError",
     "evalue": "name 'a' is not defined",
     "output_type": "error",
     "traceback": [
      "\u001b[1;31m---------------------------------------------------------------------------\u001b[0m",
      "\u001b[1;31mNameError\u001b[0m                                 Traceback (most recent call last)",
      "Cell \u001b[1;32mIn[18], line 1\u001b[0m\n\u001b[1;32m----> 1\u001b[0m \u001b[43ma\u001b[49m\n",
      "\u001b[1;31mNameError\u001b[0m: name 'a' is not defined"
     ]
    }
   ],
   "source": [
    "a"
   ]
  },
  {
   "cell_type": "code",
   "execution_count": 25,
   "metadata": {},
   "outputs": [],
   "source": [
    "class course:\n",
    "    def __init__(self,title,mentor):\n",
    "        self.title = title\n",
    "        self.metor = mentor\n",
    "\n",
    "    def __str_(self):\n",
    "        return f\"my name is sudh\"\n",
    "    \n",
    "    def __eq__(self, value):\n",
    "        return self.title == value.title\n",
    "    \n",
    "    def __len__(self):\n",
    "        return self.title\n",
    "    \n",
    "    def __del__(self):\n",
    "        print(\"delete the object\")\n",
    "\n",
    "    def __call__(self,*args,**kwds):\n",
    "        return f\"{self.title},{self.mentor},{args},{kwds}\""
   ]
  },
  {
   "cell_type": "code",
   "execution_count": 26,
   "metadata": {},
   "outputs": [],
   "source": [
    "a = course(\"python\",\"sudh\")"
   ]
  },
  {
   "cell_type": "code",
   "execution_count": 27,
   "metadata": {},
   "outputs": [
    {
     "data": {
      "text/plain": [
       "'python'"
      ]
     },
     "execution_count": 27,
     "metadata": {},
     "output_type": "execute_result"
    }
   ],
   "source": [
    "a.title"
   ]
  },
  {
   "cell_type": "code",
   "execution_count": 28,
   "metadata": {},
   "outputs": [
    {
     "name": "stdout",
     "output_type": "stream",
     "text": [
      "delete the object\n"
     ]
    },
    {
     "ename": "AttributeError",
     "evalue": "'course' object has no attribute 'mentor'",
     "output_type": "error",
     "traceback": [
      "\u001b[1;31m---------------------------------------------------------------------------\u001b[0m",
      "\u001b[1;31mAttributeError\u001b[0m                            Traceback (most recent call last)",
      "Cell \u001b[1;32mIn[28], line 1\u001b[0m\n\u001b[1;32m----> 1\u001b[0m \u001b[43ma\u001b[49m\u001b[38;5;241;43m.\u001b[39;49m\u001b[43mmentor\u001b[49m\n",
      "\u001b[1;31mAttributeError\u001b[0m: 'course' object has no attribute 'mentor'"
     ]
    }
   ],
   "source": [
    "a.mentor"
   ]
  },
  {
   "cell_type": "code",
   "execution_count": null,
   "metadata": {},
   "outputs": [],
   "source": []
  }
 ],
 "metadata": {
  "kernelspec": {
   "display_name": "Python 3",
   "language": "python",
   "name": "python3"
  },
  "language_info": {
   "codemirror_mode": {
    "name": "ipython",
    "version": 3
   },
   "file_extension": ".py",
   "mimetype": "text/x-python",
   "name": "python",
   "nbconvert_exporter": "python",
   "pygments_lexer": "ipython3",
   "version": "3.13.5"
  }
 },
 "nbformat": 4,
 "nbformat_minor": 2
}
