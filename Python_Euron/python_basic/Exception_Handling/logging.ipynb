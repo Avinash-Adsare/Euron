{
 "cells": [
  {
   "cell_type": "markdown",
   "metadata": {},
   "source": [
    "# In logging library\n",
    "- Level name - Numerical Value\n",
    "- Debug - 10\n",
    "- Intro - 20\n",
    "- Warning - 30\n",
    "- Error - 40\n",
    "- Critical - 50"
   ]
  },
  {
   "cell_type": "code",
   "execution_count": 1,
   "metadata": {},
   "outputs": [],
   "source": [
    "import logging"
   ]
  },
  {
   "cell_type": "code",
   "execution_count": 2,
   "metadata": {},
   "outputs": [],
   "source": [
    "logging.basicConfig(level = logging.DEBUG)"
   ]
  },
  {
   "cell_type": "code",
   "execution_count": 3,
   "metadata": {},
   "outputs": [],
   "source": [
    "logging.debug(\"this is debug mesg\")\n",
    "logging.info(\"this is a info msg\")\n",
    "logging.warning(\"this is a warning msg\")\n",
    "logging.error(\"this is a error msg\")\n",
    "logging.critical(\"this is a critical msg\")"
   ]
  },
  {
   "cell_type": "code",
   "execution_count": 4,
   "metadata": {},
   "outputs": [],
   "source": [
    "logging.basicConfig(level = logging.warning,filename='test.log')"
   ]
  },
  {
   "cell_type": "code",
   "execution_count": 5,
   "metadata": {},
   "outputs": [],
   "source": [
    "logging.debug(\"this is debug mesg\")\n",
    "logging.info(\"this is a info msg\")\n",
    "logging.warning(\"this is a warning msg\")\n",
    "logging.error(\"this is a error msg\")\n",
    "logging.critical(\"this is a critical msg\")"
   ]
  },
  {
   "cell_type": "code",
   "execution_count": 14,
   "metadata": {},
   "outputs": [],
   "source": [
    "import logging\n",
    "logger = logging.getLogger(\"mytestlogger\")\n",
    "logger.setLevel(logging.DEBUG)\n",
    "handler = logging.StreamHandler()\n",
    "formatter = logging.Formatter('%(asctime)s - %(name)s - %(levelname)s - %(message)s')\n",
    "handler.setFormatter(formatter)\n",
    "logger.addHandler(handler)\n",
    "file_hander =logging.FileHandler(\"my_test_data.log\",mode ='a')\n",
    "file_hander.setFormatter(formatter)\n",
    "logger.addHandler(file_hander)"
   ]
  },
  {
   "cell_type": "code",
   "execution_count": 15,
   "metadata": {},
   "outputs": [
    {
     "name": "stderr",
     "output_type": "stream",
     "text": [
      "2025-07-22 18:15:14,555 - mytestlogger - INFO - My name is sudhanshu\n",
      "2025-07-22 18:15:14,555 - mytestlogger - INFO - My name is sudhanshu\n",
      "2025-07-22 18:15:14,555 - mytestlogger - INFO - My name is sudhanshu\n",
      "2025-07-22 18:15:14,555 - mytestlogger - INFO - My name is sudhanshu\n",
      "2025-07-22 18:15:14,561 - mytestlogger - DEBUG - I am debugging my code\n",
      "2025-07-22 18:15:14,561 - mytestlogger - DEBUG - I am debugging my code\n",
      "2025-07-22 18:15:14,561 - mytestlogger - DEBUG - I am debugging my code\n",
      "2025-07-22 18:15:14,561 - mytestlogger - DEBUG - I am debugging my code\n"
     ]
    }
   ],
   "source": [
    "logger.info(\"My name is sudhanshu\")\n",
    "logger.debug(\"I am debugging my code\")"
   ]
  },
  {
   "cell_type": "code",
   "execution_count": 16,
   "metadata": {},
   "outputs": [],
   "source": [
    "import logging\n",
    "logger = logging.getLogger(\"mytestlogger\")\n",
    "logger.setLevel(logging.DEBUG)\n",
    "handler = logging.StreamHandler()\n",
    "formatter = logging.Formatter('%(asctime)s - %(name)s - %(levelname)s - %(message)s')\n",
    "handler.setFormatter(formatter)\n",
    "logger.addHandler(handler)\n",
    "file_hander =logging.FileHandler(\"my_function.log\",mode ='a')\n",
    "file_hander.setFormatter(formatter)\n",
    "logger.addHandler(file_hander)"
   ]
  },
  {
   "cell_type": "code",
   "execution_count": 20,
   "metadata": {},
   "outputs": [],
   "source": [
    "def addition(a,b):\n",
    "    logger.info(f\"value of a is {a} and b is {b}\")\n",
    "    logger.info(f\"we are doing a calculation operation by doing a addition of{a}and {b}\")\n",
    "    logger.info(f\"it will return {a} + {b}\")\n",
    "    return a+b"
   ]
  },
  {
   "cell_type": "code",
   "execution_count": 21,
   "metadata": {},
   "outputs": [
    {
     "name": "stderr",
     "output_type": "stream",
     "text": [
      "2025-07-22 18:20:04,931 - mytestlogger - INFO - value of a is 3 and b is 4\n",
      "2025-07-22 18:20:04,931 - mytestlogger - INFO - value of a is 3 and b is 4\n",
      "2025-07-22 18:20:04,931 - mytestlogger - INFO - value of a is 3 and b is 4\n",
      "2025-07-22 18:20:04,931 - mytestlogger - INFO - value of a is 3 and b is 4\n",
      "2025-07-22 18:20:04,931 - mytestlogger - INFO - value of a is 3 and b is 4\n",
      "2025-07-22 18:20:04,942 - mytestlogger - INFO - we are doing a calculation operation by doing a addition of3and 4\n",
      "2025-07-22 18:20:04,942 - mytestlogger - INFO - we are doing a calculation operation by doing a addition of3and 4\n",
      "2025-07-22 18:20:04,942 - mytestlogger - INFO - we are doing a calculation operation by doing a addition of3and 4\n",
      "2025-07-22 18:20:04,942 - mytestlogger - INFO - we are doing a calculation operation by doing a addition of3and 4\n",
      "2025-07-22 18:20:04,942 - mytestlogger - INFO - we are doing a calculation operation by doing a addition of3and 4\n",
      "2025-07-22 18:20:04,952 - mytestlogger - INFO - it will return 3 + 4\n",
      "2025-07-22 18:20:04,952 - mytestlogger - INFO - it will return 3 + 4\n",
      "2025-07-22 18:20:04,952 - mytestlogger - INFO - it will return 3 + 4\n",
      "2025-07-22 18:20:04,952 - mytestlogger - INFO - it will return 3 + 4\n",
      "2025-07-22 18:20:04,952 - mytestlogger - INFO - it will return 3 + 4\n"
     ]
    },
    {
     "data": {
      "text/plain": [
       "7"
      ]
     },
     "execution_count": 21,
     "metadata": {},
     "output_type": "execute_result"
    }
   ],
   "source": [
    "addition(3,4)"
   ]
  },
  {
   "cell_type": "code",
   "execution_count": null,
   "metadata": {},
   "outputs": [],
   "source": []
  }
 ],
 "metadata": {
  "kernelspec": {
   "display_name": "Python 3",
   "language": "python",
   "name": "python3"
  },
  "language_info": {
   "codemirror_mode": {
    "name": "ipython",
    "version": 3
   },
   "file_extension": ".py",
   "mimetype": "text/x-python",
   "name": "python",
   "nbconvert_exporter": "python",
   "pygments_lexer": "ipython3",
   "version": "3.13.5"
  }
 },
 "nbformat": 4,
 "nbformat_minor": 2
}
