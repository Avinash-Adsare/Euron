{
 "cells": [
  {
   "cell_type": "code",
   "execution_count": 2,
   "metadata": {},
   "outputs": [],
   "source": [
    "## 11th jan\n",
    "def euron_course(course,mentor,price):\n",
    "    print(course,mentor,price)\n",
    "\n",
    "    "
   ]
  },
  {
   "cell_type": "code",
   "execution_count": 3,
   "metadata": {},
   "outputs": [],
   "source": [
    "class euron:\n",
    "    pass"
   ]
  },
  {
   "cell_type": "code",
   "execution_count": 7,
   "metadata": {},
   "outputs": [],
   "source": [
    "class euron_course:\n",
    "    def __init__(self,course_name,course_mentor,course_price):      ## init is inbuilt fun\n",
    "        self.course_name = course_name\n",
    "        self.course_mentor = course_mentor\n",
    "        self.course_price = course_price\n",
    "\n",
    "e1 = euron_course(\"python\",\"sudhanshu\",2000)\n",
    "e1.course_price\n",
    "\n",
    "e2 = euron_course(\"Data analyst\",\"emran\",2500)"
   ]
  },
  {
   "cell_type": "code",
   "execution_count": 10,
   "metadata": {},
   "outputs": [
    {
     "name": "stdout",
     "output_type": "stream",
     "text": [
      "sudhanshu\n"
     ]
    },
    {
     "data": {
      "text/plain": [
       "'Data analyst'"
      ]
     },
     "execution_count": 10,
     "metadata": {},
     "output_type": "execute_result"
    }
   ],
   "source": [
    "e1.course_mentor\n",
    "print(e1.course_mentor)\n",
    "e2.course_name"
   ]
  },
  {
   "cell_type": "code",
   "execution_count": 6,
   "metadata": {},
   "outputs": [
    {
     "data": {
      "text/plain": [
       "'python'"
      ]
     },
     "execution_count": 6,
     "metadata": {},
     "output_type": "execute_result"
    }
   ],
   "source": [
    "e1.course_name"
   ]
  },
  {
   "cell_type": "code",
   "execution_count": 26,
   "metadata": {},
   "outputs": [],
   "source": [
    "class euron_course:\n",
    "    def __init__(self,course_name,course_mentor,course_price):      ## init is inbuilt fun\n",
    "        self.course_name = course_name\n",
    "        self.course_mentor = course_mentor\n",
    "        self.__course_price = course_price\n",
    "\n",
    "def display_course(self):         #fun\n",
    "    print(f\"course name: {self.course_name},course mentot:{self.course_mentor},course price: {self.course_price}\")\n",
    "\n",
    "def update_price(self,new_price):\n",
    "    self.course_price = new_price\n",
    "    print(f\"course price updated to: {self.course_price}\")\n",
    "\n",
    "def enroll_student(self,student_name):\n",
    "    print(f\"{student_name} has enrolled in {self.course_name}\")\n",
    "\n",
    "def get_prices(self):\n",
    "    return self.__course_price"
   ]
  },
  {
   "cell_type": "code",
   "execution_count": 28,
   "metadata": {},
   "outputs": [
    {
     "data": {
      "text/plain": [
       "2500"
      ]
     },
     "execution_count": 28,
     "metadata": {},
     "output_type": "execute_result"
    }
   ],
   "source": [
    "pro_course1 = euron_course(\"python\",\"sundhanshu\",2000)\n",
    "pro_course2 = euron_course(\"java\",\"sundhanshu\",3000)\n",
    "pro_course3 = euron_course(\"bigdata\",\"sundhanshu\",2500)\n",
    "#pro_course3.get_prices()\n",
    "\n",
    "pro_course3._euron_course__course_price"
   ]
  },
  {
   "cell_type": "code",
   "execution_count": 39,
   "metadata": {},
   "outputs": [],
   "source": [
    "# inheritance\n",
    "\n",
    "class euron:\n",
    "    def __init__(self,course_name,course_mentor,course_price):\n",
    "        self.course_name = course_name\n",
    "        self.course_mentor = course_mentor\n",
    "        self.course_price = course_price\n",
    "\n",
    "    def display_course(self):         #fun\n",
    "      print(f\"course name: {self.course_name},course mentot:{self.course_mentor},course price: {self.course_price}\")\n",
    " \n",
    "class euron_course(euron): ## inherit property of euron in euron_course\n",
    "    def __init__(self, course_name, course_mentor, course_price,course_duration):\n",
    "        super().__init__(course_name, course_mentor, course_price)\n",
    "        self.course_duration = course_duration"
   ]
  },
  {
   "cell_type": "code",
   "execution_count": 40,
   "metadata": {},
   "outputs": [],
   "source": [
    "e1 = euron_course(\"python\",\"sudhanshu\",533,5)"
   ]
  },
  {
   "cell_type": "code",
   "execution_count": 41,
   "metadata": {},
   "outputs": [
    {
     "data": {
      "text/plain": [
       "5"
      ]
     },
     "execution_count": 41,
     "metadata": {},
     "output_type": "execute_result"
    }
   ],
   "source": [
    "e1.course_duration"
   ]
  },
  {
   "cell_type": "code",
   "execution_count": 42,
   "metadata": {},
   "outputs": [
    {
     "name": "stdout",
     "output_type": "stream",
     "text": [
      "course name: python,course mentot:sudhanshu,course price: 533\n"
     ]
    }
   ],
   "source": [
    "e1.display_course()"
   ]
  },
  {
   "cell_type": "code",
   "execution_count": 43,
   "metadata": {},
   "outputs": [],
   "source": [
    "## Polymorphism\n",
    "\n",
    "class euronmentor:\n",
    "    def teach(self):\n",
    "        print(\"mentor teaching\")\n",
    "\n",
    "class python_mentor(euronmentor):\n",
    "    def teach(self):\n",
    "        print(\"mentor teaching python\")\n",
    "    \n",
    "class java_mentor(euronmentor):\n",
    "    def teach(self):\n",
    "       print(\"mentor taking java class\")\n",
    "\n",
    "\n",
    "\n",
    "\n",
    "## python support method overloading ,does not support overriding\n"
   ]
  },
  {
   "cell_type": "code",
   "execution_count": null,
   "metadata": {},
   "outputs": [],
   "source": []
  }
 ],
 "metadata": {
  "kernelspec": {
   "display_name": "Python 3",
   "language": "python",
   "name": "python3"
  },
  "language_info": {
   "codemirror_mode": {
    "name": "ipython",
    "version": 3
   },
   "file_extension": ".py",
   "mimetype": "text/x-python",
   "name": "python",
   "nbconvert_exporter": "python",
   "pygments_lexer": "ipython3",
   "version": "3.13.2"
  }
 },
 "nbformat": 4,
 "nbformat_minor": 2
}
