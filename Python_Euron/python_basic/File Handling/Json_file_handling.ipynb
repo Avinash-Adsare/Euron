{
 "cells": [
  {
   "cell_type": "code",
   "execution_count": null,
   "metadata": {},
   "outputs": [],
   "source": [
    "# JSON = Javascript Object Notation"
   ]
  },
  {
   "cell_type": "code",
   "execution_count": 1,
   "metadata": {},
   "outputs": [],
   "source": [
    "j = {\n",
    "    \"employees\":[\n",
    "        {\"name\":\"Avinash\",\"Age\":25},\n",
    "        {\"name\":\"Tejas\",\"Age\":26}\n",
    "    ]\n",
    "}"
   ]
  },
  {
   "cell_type": "code",
   "execution_count": 2,
   "metadata": {},
   "outputs": [],
   "source": [
    "import json"
   ]
  },
  {
   "cell_type": "code",
   "execution_count": 3,
   "metadata": {},
   "outputs": [
    {
     "name": "stdout",
     "output_type": "stream",
     "text": [
      "{'employees': [{'name': 'Avinash', 'Age': 25}, {'name': 'Tejas', 'Age': 26}]}\n"
     ]
    }
   ],
   "source": [
    "# read json data\n",
    "with open('data.json','r') as f:\n",
    "    data = json.load(f)\n",
    "    print(data)"
   ]
  },
  {
   "cell_type": "code",
   "execution_count": 5,
   "metadata": {},
   "outputs": [
    {
     "name": "stdout",
     "output_type": "stream",
     "text": [
      "{'name': 'Avinash', 'Age': 25}\n",
      "Avinash 25\n",
      "{'name': 'Tejas', 'Age': 26}\n",
      "Tejas 26\n"
     ]
    }
   ],
   "source": [
    "with open('data.json','r') as f:\n",
    "    data = json.load(f)\n",
    "    for i in data['employees']:\n",
    "        print(i)\n",
    "        print(i['name'],i['Age']) #parsing"
   ]
  },
  {
   "cell_type": "code",
   "execution_count": 6,
   "metadata": {},
   "outputs": [],
   "source": [
    "j = {\n",
    "    \"employees\":[\n",
    "        {\"name\":\"Avinash\",\"Age\":25},\n",
    "        {\"name\":\"Tejas\",\"Age\":26}\n",
    "    ]\n",
    "}\n"
   ]
  },
  {
   "cell_type": "code",
   "execution_count": 7,
   "metadata": {},
   "outputs": [],
   "source": [
    "with open('output.json','w') as f:\n",
    "    json.dump(j,f) # permantly save in json output file"
   ]
  },
  {
   "cell_type": "code",
   "execution_count": null,
   "metadata": {},
   "outputs": [],
   "source": []
  }
 ],
 "metadata": {
  "kernelspec": {
   "display_name": "Python 3",
   "language": "python",
   "name": "python3"
  },
  "language_info": {
   "codemirror_mode": {
    "name": "ipython",
    "version": 3
   },
   "file_extension": ".py",
   "mimetype": "text/x-python",
   "name": "python",
   "nbconvert_exporter": "python",
   "pygments_lexer": "ipython3",
   "version": "3.13.5"
  }
 },
 "nbformat": 4,
 "nbformat_minor": 2
}
