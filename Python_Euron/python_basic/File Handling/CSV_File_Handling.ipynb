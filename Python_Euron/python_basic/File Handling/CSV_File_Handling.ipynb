{
 "cells": [
  {
   "cell_type": "code",
   "execution_count": 1,
   "metadata": {},
   "outputs": [],
   "source": [
    "import csv"
   ]
  },
  {
   "cell_type": "code",
   "execution_count": 2,
   "metadata": {},
   "outputs": [
    {
     "name": "stdout",
     "output_type": "stream",
     "text": [
      "<_csv.reader object at 0x0000014BC9CC7D00>\n",
      "['Name', 'Age', 'Country']\n",
      "['Avinash', ' 24', ' India']\n",
      "['Bhushan', ' 23', ' UK']\n",
      "['Sakshi', ' 26', ' US']\n"
     ]
    }
   ],
   "source": [
    "with open('sample.csv','r') as f:\n",
    "    reader = csv.reader(f)\n",
    "    print(reader)\n",
    "    for i in reader:\n",
    "        print(i)"
   ]
  },
  {
   "cell_type": "code",
   "execution_count": 3,
   "metadata": {},
   "outputs": [
    {
     "name": "stdout",
     "output_type": "stream",
     "text": [
      "<_csv.reader object at 0x0000014BC9D408E0>\n",
      "['Avinash', ' 24', ' India']\n",
      "['Bhushan', ' 23', ' UK']\n",
      "['Sakshi', ' 26', ' US']\n"
     ]
    }
   ],
   "source": [
    "# exclude headers- pointer at 1st line but if we use next method then it goes to next line\n",
    "with open('sample.csv','r') as f:\n",
    "    reader = csv.reader(f)\n",
    "    next(reader)\n",
    "    print(reader)\n",
    "    for i in reader:\n",
    "        print(i)"
   ]
  },
  {
   "cell_type": "code",
   "execution_count": 4,
   "metadata": {},
   "outputs": [],
   "source": [
    "# write data in csv\n",
    "with open('output.csv','w',newline='') as f:\n",
    "    writer = csv.writer(f)\n",
    "    writer.writerow(['name','comapany'])\n",
    "    writer.writerow(['name1','comapany1'])"
   ]
  },
  {
   "cell_type": "code",
   "execution_count": 6,
   "metadata": {},
   "outputs": [],
   "source": [
    "# write data in csv\n",
    "# multiple rows\n",
    "with open('output.csv','w',newline='') as f:\n",
    "    writer = csv.writer(f)\n",
    "    writer.writerows([['name','comapany'],['name1','comapany1'],['name2','comapany2'],['name3','comapany3']])\n"
   ]
  },
  {
   "cell_type": "code",
   "execution_count": 7,
   "metadata": {},
   "outputs": [
    {
     "name": "stdout",
     "output_type": "stream",
     "text": [
      "{'name': 'name1', 'comapany': 'comapany1'}\n",
      "{'name': 'name2', 'comapany': 'comapany2'}\n",
      "{'name': 'name3', 'comapany': 'comapany3'}\n"
     ]
    }
   ],
   "source": [
    "with open('output.csv','r',newline='') as f:\n",
    "    reader = csv.DictReader(f) #dict - key value pair\n",
    "    for i in reader:\n",
    "        print(i)"
   ]
  },
  {
   "cell_type": "code",
   "execution_count": null,
   "metadata": {},
   "outputs": [],
   "source": []
  }
 ],
 "metadata": {
  "kernelspec": {
   "display_name": "Python 3",
   "language": "python",
   "name": "python3"
  },
  "language_info": {
   "codemirror_mode": {
    "name": "ipython",
    "version": 3
   },
   "file_extension": ".py",
   "mimetype": "text/x-python",
   "name": "python",
   "nbconvert_exporter": "python",
   "pygments_lexer": "ipython3",
   "version": "3.13.5"
  }
 },
 "nbformat": 4,
 "nbformat_minor": 2
}
