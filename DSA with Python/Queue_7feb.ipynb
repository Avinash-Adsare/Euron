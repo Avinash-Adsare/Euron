{
  "nbformat": 4,
  "nbformat_minor": 0,
  "metadata": {
    "colab": {
      "provenance": []
    },
    "kernelspec": {
      "name": "python3",
      "display_name": "Python 3"
    },
    "language_info": {
      "name": "python"
    }
  },
  "cells": [
    {
      "cell_type": "markdown",
      "source": [
        "## Queue - FIFO\n",
        "\n",
        "- enqueue - O(1)\n",
        "- dequeue - O(1)\n",
        "- front - O(1) - accessing front element from front is constant time\n",
        "- IsEmpty - O(1) - checking if the queue is empty is const. time"
      ],
      "metadata": {
        "id": "V7JuVKMsJJWi"
      }
    },
    {
      "cell_type": "code",
      "source": [
        "from collections import deque\n",
        "class Node:\n",
        "  def __init__(self,value):\n",
        "    self.value = value\n",
        "    self.next = None\n",
        "\n",
        "class Queue:\n",
        "  def __init__(self):\n",
        "    self.front = None\n",
        "    self.rear = None\n",
        "\n",
        "\n",
        "  # check queue is empty\n",
        "  def is_empty(self):\n",
        "    return self.front is None\n",
        "\n",
        "\n",
        "  def enqueue(self,value):\n",
        "    new_node = Node(value)\n",
        "    if self.rear is None:\n",
        "      self.front = self.rear = new_node\n",
        "      return\n",
        "\n",
        "    self.rear.next = new_node\n",
        "    self.rear = new_node\n",
        "\n",
        "# dequeue\n",
        "\n",
        "  def dequeue(self):\n",
        "    if self.is_empty():\n",
        "      print(\"queue is empty,underflow condition\")\n",
        "      return None\n",
        "\n",
        "    dequeue_value = self.front.value\n",
        "    self.front = self.front.next\n",
        "    if self.front is None:\n",
        "      self.rear = None\n",
        "    return dequeue_value\n",
        "\n",
        "\n",
        "# peak - front value\n",
        "  def peak(self):\n",
        "    if self.is_empty():\n",
        "      print(\"queue is empty, underflow condition\")\n",
        "      return None\n",
        "    return self.front.value\n",
        "\n",
        "# size checking\n",
        "\n",
        "  def size(self):\n",
        "    size = 0\n",
        "    current = self.front\n",
        "    while current:\n",
        "      size += 1\n",
        "      current = current.next\n",
        "    return size\n",
        "\n",
        "\n",
        "\n",
        "\n",
        "\n",
        "  def display(self):\n",
        "    result = []\n",
        "    current = self.front\n",
        "    while current:\n",
        "      result.append(str(current.value))\n",
        "      current = current.next\n",
        "    print(\" <- \".join(result))\n",
        ""
      ],
      "metadata": {
        "id": "JVQYCim-JWCt"
      },
      "execution_count": 38,
      "outputs": []
    },
    {
      "cell_type": "code",
      "source": [
        "queue = Queue()\n",
        "queue.enqueue(10)\n",
        "queue.enqueue(20)\n",
        "queue.enqueue(30)\n",
        "queue.enqueue(40)\n",
        "queue.enqueue(50)"
      ],
      "metadata": {
        "id": "xKLqi_-nKCcT"
      },
      "execution_count": 39,
      "outputs": []
    },
    {
      "cell_type": "code",
      "source": [
        "queue.display()"
      ],
      "metadata": {
        "colab": {
          "base_uri": "https://localhost:8080/"
        },
        "id": "4Ca5ojGbKCeU",
        "outputId": "a58250f6-d82b-4a5f-d280-f4a0772ae4a8"
      },
      "execution_count": 34,
      "outputs": [
        {
          "output_type": "stream",
          "name": "stdout",
          "text": [
            "10 <- 20 <- 30 <- 40 <- 50\n"
          ]
        }
      ]
    },
    {
      "cell_type": "code",
      "source": [
        "queue.is_empty()"
      ],
      "metadata": {
        "colab": {
          "base_uri": "https://localhost:8080/"
        },
        "id": "E4Hrid68KCht",
        "outputId": "6e7da0c7-c9c7-4e99-ebe1-ffdfc1b9011e"
      },
      "execution_count": 20,
      "outputs": [
        {
          "output_type": "execute_result",
          "data": {
            "text/plain": [
              "False"
            ]
          },
          "metadata": {},
          "execution_count": 20
        }
      ]
    },
    {
      "cell_type": "code",
      "source": [
        "queue.dequeue()\n",
        "queue.display()"
      ],
      "metadata": {
        "colab": {
          "base_uri": "https://localhost:8080/"
        },
        "id": "IiTisfAiN80N",
        "outputId": "9c20ea98-920c-4a99-aab9-e93d1d74cbc6"
      },
      "execution_count": 36,
      "outputs": [
        {
          "output_type": "stream",
          "name": "stdout",
          "text": [
            "20 <- 30 <- 40 <- 50\n"
          ]
        }
      ]
    },
    {
      "cell_type": "code",
      "source": [
        "queue.peak()"
      ],
      "metadata": {
        "colab": {
          "base_uri": "https://localhost:8080/"
        },
        "id": "vpmg2ZS3OJes",
        "outputId": "a2bbe47e-32b9-4b5e-9538-61f495a85400"
      },
      "execution_count": 37,
      "outputs": [
        {
          "output_type": "execute_result",
          "data": {
            "text/plain": [
              "20"
            ]
          },
          "metadata": {},
          "execution_count": 37
        }
      ]
    },
    {
      "cell_type": "code",
      "source": [
        "queue.size()"
      ],
      "metadata": {
        "colab": {
          "base_uri": "https://localhost:8080/"
        },
        "id": "wEpxsknKOJhU",
        "outputId": "2e65db9f-5d0c-43c0-d25e-e8cb40d4a7d8"
      },
      "execution_count": 40,
      "outputs": [
        {
          "output_type": "execute_result",
          "data": {
            "text/plain": [
              "5"
            ]
          },
          "metadata": {},
          "execution_count": 40
        }
      ]
    },
    {
      "cell_type": "markdown",
      "source": [
        "## Queue By List method\n"
      ],
      "metadata": {
        "id": "IRyZCpivhxiT"
      }
    },
    {
      "cell_type": "code",
      "source": [
        "class Queue:\n",
        "  def __init__(self):\n",
        "    self.queue = []\n",
        "\n",
        "  def is_empty(self):\n",
        "    return len(self.queue) == 0\n",
        "\n",
        "  def enqueue(self,value):\n",
        "    self.queue.append(value)\n",
        "\n",
        "\n",
        "  def dequeue(self):\n",
        "    if self.is_empty():\n",
        "      print(\"queue is empty, underflow condition\")\n",
        "      return None\n",
        "    return self.queue.pop(0)\n",
        "\n",
        "  def peak(self):\n",
        "    if self.is_empty():\n",
        "      print(\"queue is empty, underflow condition\")\n",
        "      return None\n",
        "    return self.queue[0]\n",
        "\n",
        "  def size(self):\n",
        "    return len(self.queue)\n",
        "\n",
        "\n",
        "  def display(self):\n",
        "    if self.is_empty():\n",
        "      print(\"Queue is empty\")\n",
        "      return\n",
        "\n",
        "    print(\"Queue elements:\",\" <- \".join(map(str,self.queue)))"
      ],
      "metadata": {
        "id": "k6jhPdZGOJk-"
      },
      "execution_count": 74,
      "outputs": []
    },
    {
      "cell_type": "code",
      "source": [
        "q = Queue()"
      ],
      "metadata": {
        "id": "cN5vzRz5ik_x"
      },
      "execution_count": 75,
      "outputs": []
    },
    {
      "cell_type": "code",
      "source": [
        "q.enqueue(10)\n",
        "q.enqueue(20)\n",
        "q.enqueue(30)\n",
        "q.enqueue(40)\n",
        "q.enqueue(50)"
      ],
      "metadata": {
        "id": "ZtQcKOLJilDG"
      },
      "execution_count": 76,
      "outputs": []
    },
    {
      "cell_type": "code",
      "source": [
        "q.display()"
      ],
      "metadata": {
        "colab": {
          "base_uri": "https://localhost:8080/"
        },
        "id": "HbK_5v6Bi4Ku",
        "outputId": "3add0876-d8d0-49f5-d8e6-00f79cf0058a"
      },
      "execution_count": 72,
      "outputs": [
        {
          "output_type": "stream",
          "name": "stdout",
          "text": [
            "Queue elements: 10 <- 20 <- 30 <- 40 <- 50\n"
          ]
        }
      ]
    },
    {
      "cell_type": "code",
      "source": [
        "q.dequeue()"
      ],
      "metadata": {
        "colab": {
          "base_uri": "https://localhost:8080/"
        },
        "id": "wt-N6teUi6I3",
        "outputId": "c27d61e9-d43f-46c1-a722-9d274856f15c"
      },
      "execution_count": 66,
      "outputs": [
        {
          "output_type": "execute_result",
          "data": {
            "text/plain": [
              "10"
            ]
          },
          "metadata": {},
          "execution_count": 66
        }
      ]
    },
    {
      "cell_type": "code",
      "source": [
        "q.display()"
      ],
      "metadata": {
        "colab": {
          "base_uri": "https://localhost:8080/"
        },
        "id": "-wGg3JsHjyrQ",
        "outputId": "bdc01bfd-a66b-4dfc-f192-bf5a932fc261"
      },
      "execution_count": 67,
      "outputs": [
        {
          "output_type": "stream",
          "name": "stdout",
          "text": [
            "Queue elements: 20 <- 30 <- 40 <- 50\n"
          ]
        }
      ]
    },
    {
      "cell_type": "code",
      "source": [
        "q.dequeue()\n",
        "q.display()"
      ],
      "metadata": {
        "colab": {
          "base_uri": "https://localhost:8080/"
        },
        "id": "7DCbym-ej0Pd",
        "outputId": "cad95625-40c4-4885-b355-bf8daa6a6767"
      },
      "execution_count": 68,
      "outputs": [
        {
          "output_type": "stream",
          "name": "stdout",
          "text": [
            "Queue elements: 30 <- 40 <- 50\n"
          ]
        }
      ]
    },
    {
      "cell_type": "code",
      "source": [
        "q.peak()"
      ],
      "metadata": {
        "colab": {
          "base_uri": "https://localhost:8080/"
        },
        "id": "2i1S_Rz8j5Ao",
        "outputId": "d783ebe9-3184-4ca4-9468-bf2f55c82949"
      },
      "execution_count": 73,
      "outputs": [
        {
          "output_type": "execute_result",
          "data": {
            "text/plain": [
              "10"
            ]
          },
          "metadata": {},
          "execution_count": 73
        }
      ]
    },
    {
      "cell_type": "code",
      "source": [
        "q.size()"
      ],
      "metadata": {
        "colab": {
          "base_uri": "https://localhost:8080/"
        },
        "id": "IeDVVBd9j_2j",
        "outputId": "2237573e-1fc6-4a84-c2f5-368055963afd"
      },
      "execution_count": 77,
      "outputs": [
        {
          "output_type": "execute_result",
          "data": {
            "text/plain": [
              "5"
            ]
          },
          "metadata": {},
          "execution_count": 77
        }
      ]
    },
    {
      "cell_type": "code",
      "source": [],
      "metadata": {
        "id": "oBOy_Y_aj_49"
      },
      "execution_count": null,
      "outputs": []
    },
    {
      "cell_type": "code",
      "source": [],
      "metadata": {
        "id": "xR4WcKSdj_7X"
      },
      "execution_count": null,
      "outputs": []
    },
    {
      "cell_type": "code",
      "source": [],
      "metadata": {
        "id": "lCrc2pHdj_9y"
      },
      "execution_count": null,
      "outputs": []
    },
    {
      "cell_type": "code",
      "source": [],
      "metadata": {
        "id": "OvDzot7lkABI"
      },
      "execution_count": null,
      "outputs": []
    }
  ]
}