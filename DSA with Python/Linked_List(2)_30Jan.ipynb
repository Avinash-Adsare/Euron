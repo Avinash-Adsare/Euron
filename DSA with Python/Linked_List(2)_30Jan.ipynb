{
  "nbformat": 4,
  "nbformat_minor": 0,
  "metadata": {
    "colab": {
      "provenance": []
    },
    "kernelspec": {
      "name": "python3",
      "display_name": "Python 3"
    },
    "language_info": {
      "name": "python"
    }
  },
  "cells": [
    {
      "cell_type": "markdown",
      "source": [
        "# Linked_List - collection of nodes\n",
        "- insertion and deletion value - O(1)\n",
        "\n",
        "- array is used for access the value"
      ],
      "metadata": {
        "id": "MOhVo6BBg6Q4"
      }
    },
    {
      "cell_type": "code",
      "source": [
        "# Insertion\n",
        "\n",
        "class Node:\n",
        "  def __init__(self, data):\n",
        "    self.data = data\n",
        "    self.next = None   # self.next means address\n",
        "\n"
      ],
      "metadata": {
        "id": "-wB8-EuFg8-6"
      },
      "execution_count": null,
      "outputs": []
    },
    {
      "cell_type": "code",
      "source": [
        "node1 = Node(1) #node creation\n",
        "node2 = Node(2)\n",
        "node3 = Node(3)\n",
        "node4 = Node(4)\n",
        "node5 = Node(5)\n"
      ],
      "metadata": {
        "id": "uB33WyuHMDz6"
      },
      "execution_count": null,
      "outputs": []
    },
    {
      "cell_type": "code",
      "source": [
        "node1.data"
      ],
      "metadata": {
        "colab": {
          "base_uri": "https://localhost:8080/"
        },
        "id": "jjQS5pluMD2Y",
        "outputId": "e1986499-0c39-4aa2-b9ea-0e5363a76c6f"
      },
      "execution_count": null,
      "outputs": [
        {
          "output_type": "execute_result",
          "data": {
            "text/plain": [
              "1"
            ]
          },
          "metadata": {},
          "execution_count": 4
        }
      ]
    },
    {
      "cell_type": "code",
      "source": [
        "node1.next"
      ],
      "metadata": {
        "id": "9cqis2QyMD5C"
      },
      "execution_count": null,
      "outputs": []
    },
    {
      "cell_type": "code",
      "source": [
        "# connection built in nodes\n",
        "\n",
        "node1.next = node2\n",
        "node2.next = node3\n",
        "node3.next = node4\n",
        "node4.next = node5"
      ],
      "metadata": {
        "id": "e0lvGe5fMD8k"
      },
      "execution_count": null,
      "outputs": []
    },
    {
      "cell_type": "code",
      "source": [
        "node1.next"
      ],
      "metadata": {
        "colab": {
          "base_uri": "https://localhost:8080/"
        },
        "id": "HC2q69a1M_q7",
        "outputId": "d5150ab9-3230-486b-cd6c-4551ef6d9ff9"
      },
      "execution_count": null,
      "outputs": [
        {
          "output_type": "execute_result",
          "data": {
            "text/plain": [
              "<__main__.Node at 0x7fdf05154950>"
            ]
          },
          "metadata": {},
          "execution_count": 7
        }
      ]
    },
    {
      "cell_type": "code",
      "source": [
        "node4.next"
      ],
      "metadata": {
        "colab": {
          "base_uri": "https://localhost:8080/"
        },
        "id": "WKXyyBx4NBUH",
        "outputId": "bd574c47-5303-4b9e-d4a4-3ebd95b474e8"
      },
      "execution_count": null,
      "outputs": [
        {
          "output_type": "execute_result",
          "data": {
            "text/plain": [
              "<__main__.Node at 0x7fdf05154bd0>"
            ]
          },
          "metadata": {},
          "execution_count": 8
        }
      ]
    },
    {
      "cell_type": "code",
      "source": [
        "class Node:\n",
        "  def __init__(self, data):\n",
        "    self.data = data\n",
        "    self.next = None\n",
        "\n",
        "class LinkedList:\n",
        "  def __init__(self):\n",
        "    self.head = None # first element\n",
        "\n",
        "  def display(self):\n",
        "    current = self.head  # curr is at head\n",
        "    while current != None:  # curr null hone tak\n",
        "        print(current.data,end=\"->\")\n",
        "        current = current.next # connection establishment\n",
        "    print(\"None\")"
      ],
      "metadata": {
        "id": "rAXVc11pNOPl"
      },
      "execution_count": null,
      "outputs": []
    },
    {
      "cell_type": "code",
      "source": [
        "# other method\n",
        "'''\n",
        "def display(self):\n",
        "  result = []\n",
        "  current = self.head\n",
        "  while current:\n",
        "     result.append(str(current.data))\n",
        "     current = current.next\n",
        "  print(\" -> \".join(result)\n",
        "'''"
      ],
      "metadata": {
        "id": "1jOviteFQ9_q"
      },
      "execution_count": null,
      "outputs": []
    },
    {
      "cell_type": "code",
      "source": [
        "linked_list = LinkedList()\n",
        "\n",
        "node1 = Node(10)\n",
        "node2 = Node(20)\n",
        "node3 = Node(30)\n",
        "node4 = Node(40)\n",
        "node5 = Node(50)\n",
        "\n",
        "linked_list.head = node1  #connection establishment\n",
        "node1.next = node2\n",
        "node2.next = node3\n",
        "node3.next = node4\n",
        "node4.next = node5"
      ],
      "metadata": {
        "id": "I4sr9Rz8Nrty"
      },
      "execution_count": null,
      "outputs": []
    },
    {
      "cell_type": "code",
      "source": [
        "linked_list.display()"
      ],
      "metadata": {
        "colab": {
          "base_uri": "https://localhost:8080/"
        },
        "id": "DxphlwO6Nrwa",
        "outputId": "b207a717-5729-42e9-9b85-993d21751e7f"
      },
      "execution_count": null,
      "outputs": [
        {
          "output_type": "stream",
          "name": "stdout",
          "text": [
            "10->20->30->40->50->None\n"
          ]
        }
      ]
    },
    {
      "cell_type": "markdown",
      "source": [
        "## insertion at head"
      ],
      "metadata": {
        "id": "iDFnpFQ-RnVw"
      }
    },
    {
      "cell_type": "code",
      "source": [
        "class Node:\n",
        "  def __init__(self, data):\n",
        "    self.data = data\n",
        "    self.next = None\n",
        "\n",
        "class LinkedList:\n",
        "  def __init__(self):\n",
        "    self.head = None # first element\n",
        "\n",
        "  def display(self):\n",
        "    result = []\n",
        "    current = self.head\n",
        "    while current:\n",
        "       result.append(str(current.data))\n",
        "       current = current.next\n",
        "       print(\" -> \".join(result))\n",
        "\n",
        "    # insertion at head\n",
        "  def insert_at_head(self, value):\n",
        "      new_node = Node(value)\n",
        "      new_node.next = self.head\n",
        "      self.head = new_node\n",
        "\n"
      ],
      "metadata": {
        "id": "U1MdN9roRcXn"
      },
      "execution_count": null,
      "outputs": []
    },
    {
      "cell_type": "code",
      "source": [
        "linked_list = LinkedList()\n",
        "\n",
        "node1 = Node(10)\n",
        "node2 = Node(20)\n",
        "node3 = Node(30)\n",
        "node4 = Node(40)\n",
        "node5 = Node(50)\n",
        "\n",
        "linked_list.head = node1  #connection establishment\n",
        "node1.next = node2\n",
        "node2.next = node3\n",
        "node3.next = node4\n",
        "node4.next = node5"
      ],
      "metadata": {
        "id": "fmEidc0aNrz4"
      },
      "execution_count": null,
      "outputs": []
    },
    {
      "cell_type": "code",
      "source": [
        "linked_list.display()"
      ],
      "metadata": {
        "colab": {
          "base_uri": "https://localhost:8080/"
        },
        "id": "M8ej8b7DQQFa",
        "outputId": "779f478d-a51c-401c-db0d-80b2b5c7222f"
      },
      "execution_count": null,
      "outputs": [
        {
          "output_type": "stream",
          "name": "stdout",
          "text": [
            "10\n",
            "10 -> 20\n",
            "10 -> 20 -> 30\n",
            "10 -> 20 -> 30 -> 40\n",
            "10 -> 20 -> 30 -> 40 -> 50\n"
          ]
        }
      ]
    },
    {
      "cell_type": "code",
      "source": [
        "linked_list.insert_at_head(999)"
      ],
      "metadata": {
        "id": "whGQAiQQQQHq"
      },
      "execution_count": null,
      "outputs": []
    },
    {
      "cell_type": "code",
      "source": [
        "linked_list.display()"
      ],
      "metadata": {
        "colab": {
          "base_uri": "https://localhost:8080/"
        },
        "id": "RjsGj0EgQQLD",
        "outputId": "71483db8-2fdf-4582-d891-01f3e3ca4f99"
      },
      "execution_count": null,
      "outputs": [
        {
          "output_type": "stream",
          "name": "stdout",
          "text": [
            "999\n",
            "999 -> 10\n",
            "999 -> 10 -> 20\n",
            "999 -> 10 -> 20 -> 30\n",
            "999 -> 10 -> 20 -> 30 -> 40\n",
            "999 -> 10 -> 20 -> 30 -> 40 -> 50\n"
          ]
        }
      ]
    },
    {
      "cell_type": "markdown",
      "source": [
        "## insert at Tail"
      ],
      "metadata": {
        "id": "Sj16mV1eTD4Z"
      }
    },
    {
      "cell_type": "code",
      "source": [
        "class Node:\n",
        "  def __init__(self, data):\n",
        "    self.data = data\n",
        "    self.next = None\n",
        "\n",
        "class LinkedList:\n",
        "  def __init__(self):\n",
        "    self.head = None # first element\n",
        "\n",
        "  def display(self):\n",
        "    result = []\n",
        "    current = self.head\n",
        "    while current:\n",
        "       result.append(str(current.data))\n",
        "       current = current.next\n",
        "       print(\" -> \".join(result))\n",
        "\n",
        "    # insertion at head\n",
        "  def insert_at_head(self, value):\n",
        "      new_node = Node(value)\n",
        "      new_node.next = self.head\n",
        "      self.head = new_node\n",
        "\n",
        "      # insertion at tail\n",
        "  def append(self, value):\n",
        "\n",
        "        new_node = Node(value)\n",
        "\n",
        "        # if list is empty (handle empty list)\n",
        "        if self.head is None:\n",
        "            self.head = new_node\n",
        "            return\n",
        "\n",
        "        current = self.head\n",
        "        while current.next is not None:\n",
        "           current = current.next\n",
        "        current.next = new_node\n",
        "\n"
      ],
      "metadata": {
        "id": "-S6XYRkXS6Nb"
      },
      "execution_count": null,
      "outputs": []
    },
    {
      "cell_type": "code",
      "source": [
        "linked_list = LinkedList()\n",
        "\n",
        "node1 = Node(10)\n",
        "node2 = Node(20)\n",
        "node3 = Node(30)\n",
        "node4 = Node(40)\n",
        "node5 = Node(50)\n",
        "\n",
        "linked_list.head = node1  #connection establishment\n",
        "node1.next = node2\n",
        "node2.next = node3\n",
        "node3.next = node4\n",
        "node4.next = node5"
      ],
      "metadata": {
        "id": "nEuxiEvHTt4K"
      },
      "execution_count": null,
      "outputs": []
    },
    {
      "cell_type": "code",
      "source": [
        "linked_list.display()"
      ],
      "metadata": {
        "colab": {
          "base_uri": "https://localhost:8080/"
        },
        "id": "amB0E6FgTt6y",
        "outputId": "9a4ab91b-57a6-4e28-a864-aebe2b8dd4e5"
      },
      "execution_count": null,
      "outputs": [
        {
          "output_type": "stream",
          "name": "stdout",
          "text": [
            "10\n",
            "10 -> 20\n",
            "10 -> 20 -> 30\n",
            "10 -> 20 -> 30 -> 40\n",
            "10 -> 20 -> 30 -> 40 -> 50\n"
          ]
        }
      ]
    },
    {
      "cell_type": "code",
      "source": [
        "linked_list.append(100)"
      ],
      "metadata": {
        "id": "COE3RAWcTt9D"
      },
      "execution_count": null,
      "outputs": []
    },
    {
      "cell_type": "code",
      "source": [
        "linked_list.display()"
      ],
      "metadata": {
        "colab": {
          "base_uri": "https://localhost:8080/"
        },
        "id": "XLSv1ZVaTuAO",
        "outputId": "c8d61cc1-8257-41c3-a2db-e1b48e3a0e67"
      },
      "execution_count": null,
      "outputs": [
        {
          "output_type": "stream",
          "name": "stdout",
          "text": [
            "10\n",
            "10 -> 20\n",
            "10 -> 20 -> 30\n",
            "10 -> 20 -> 30 -> 40\n",
            "10 -> 20 -> 30 -> 40 -> 50\n",
            "10 -> 20 -> 30 -> 40 -> 50 -> 100\n"
          ]
        }
      ]
    },
    {
      "cell_type": "markdown",
      "source": [
        "# insert at middle"
      ],
      "metadata": {
        "id": "42ATYCy1bZry"
      }
    },
    {
      "cell_type": "code",
      "source": [
        "class Node:\n",
        "  def __init__(self, data):\n",
        "    self.data = data\n",
        "    self.next = None\n",
        "\n",
        "class LinkedList:\n",
        "  def __init__(self):\n",
        "    self.head = None # first element\n",
        "\n",
        "  def display(self):\n",
        "    result = []\n",
        "    current = self.head\n",
        "    while current:\n",
        "      result.append(str(current.data))\n",
        "      current = current.next\n",
        "      print(\" -> \".join(result))\n",
        "\n",
        "    # insertion at head\n",
        "  def insert_at_head(self, value):\n",
        "      new_node = Node(value)\n",
        "      new_node.next = self.head\n",
        "      self.head = new_node\n",
        "\n",
        "      # insertion at tail\n",
        "  def append(self, value):\n",
        "\n",
        "        new_node = Node(value)\n",
        "\n",
        "        # if list is empty (handle empty list)\n",
        "        if self.head is None:\n",
        "            self.head = new_node\n",
        "            return\n",
        "\n",
        "        current = self.head\n",
        "        while current.next is not None:\n",
        "           current = current.next\n",
        "        current.next = new_node\n",
        "\n",
        "  def insert_after(self,after_value,value):\n",
        "    current = self.head\n",
        "    while current:\n",
        "      if current.data == after_value:\n",
        "        new_node = Node(value)\n",
        "        new_node.next = current.next\n",
        "        current.next = new_node\n",
        "        return\n",
        "      current = current.next\n",
        "    print(f\"Node with value {after_value} not found in the list\")\n",
        "\n",
        "\n"
      ],
      "metadata": {
        "id": "v6gO9MwbX0lu"
      },
      "execution_count": 6,
      "outputs": []
    },
    {
      "cell_type": "code",
      "source": [
        "linked_list = LinkedList()\n",
        "\n",
        "node1 = Node(10)\n",
        "node2 = Node(20)\n",
        "node3 = Node(30)\n",
        "node4 = Node(40)\n",
        "node5 = Node(50)\n",
        "\n",
        "linked_list.head = node1  #connection establishment\n",
        "node1.next = node2\n",
        "node2.next = node3\n",
        "node3.next = node4\n",
        "node4.next = node5"
      ],
      "metadata": {
        "id": "e8p6jE_6bh_D"
      },
      "execution_count": 7,
      "outputs": []
    },
    {
      "cell_type": "code",
      "source": [
        "linked_list.display()"
      ],
      "metadata": {
        "colab": {
          "base_uri": "https://localhost:8080/"
        },
        "id": "Bhkb-lcVbiBh",
        "outputId": "066d852d-6a55-4cc0-85e6-79a22c3bcde0"
      },
      "execution_count": 8,
      "outputs": [
        {
          "output_type": "stream",
          "name": "stdout",
          "text": [
            "10\n",
            "10 -> 20\n",
            "10 -> 20 -> 30\n",
            "10 -> 20 -> 30 -> 40\n",
            "10 -> 20 -> 30 -> 40 -> 50\n"
          ]
        }
      ]
    },
    {
      "cell_type": "code",
      "source": [
        "linked_list.insert_after(30,35)"
      ],
      "metadata": {
        "id": "WH5naLAfbiD-"
      },
      "execution_count": 9,
      "outputs": []
    },
    {
      "cell_type": "code",
      "source": [
        "linked_list.display()"
      ],
      "metadata": {
        "colab": {
          "base_uri": "https://localhost:8080/"
        },
        "id": "_pHWsTmmbiHn",
        "outputId": "c84ee327-4aa8-43d8-d7b4-95358c7768bd"
      },
      "execution_count": 10,
      "outputs": [
        {
          "output_type": "stream",
          "name": "stdout",
          "text": [
            "10\n",
            "10 -> 20\n",
            "10 -> 20 -> 30\n",
            "10 -> 20 -> 30 -> 35\n",
            "10 -> 20 -> 30 -> 35 -> 40\n",
            "10 -> 20 -> 30 -> 35 -> 40 -> 50\n"
          ]
        }
      ]
    },
    {
      "cell_type": "markdown",
      "source": [
        "# Delete"
      ],
      "metadata": {
        "id": "3ANBeNDpffVt"
      }
    },
    {
      "cell_type": "code",
      "source": [
        "class Node:\n",
        "  def __init__(self, data):\n",
        "    self.data = data\n",
        "    self.next = None\n",
        "\n",
        "class LinkedList:\n",
        "  def __init__(self):\n",
        "    self.head = None # first element\n",
        "\n",
        "  def display(self):\n",
        "    result = []\n",
        "    current = self.head\n",
        "    while current:\n",
        "      result.append(str(current.data))\n",
        "      current = current.next\n",
        "      print(\" -> \".join(result))\n",
        "\n",
        "    # insertion at head\n",
        "  def insert_at_head(self, value):\n",
        "      new_node = Node(value)\n",
        "      new_node.next = self.head\n",
        "      self.head = new_node\n",
        "\n",
        "      # insertion at tail\n",
        "  def append(self, value):\n",
        "\n",
        "        new_node = Node(value)\n",
        "\n",
        "        # if list is empty (handle empty list)\n",
        "        if self.head is None:\n",
        "            self.head = new_node\n",
        "            return\n",
        "\n",
        "        current = self.head\n",
        "        while current.next is not None:\n",
        "           current = current.next\n",
        "        current.next = new_node\n",
        "\n",
        "\n",
        "# insert element in LL\n",
        "  def insert_after(self,after_value,value):\n",
        "    current = self.head\n",
        "    while current:\n",
        "      if current.data == after_value:\n",
        "        new_node = Node(value)\n",
        "        new_node.next = current.next\n",
        "        current.next = new_node\n",
        "        return\n",
        "      current = current.next\n",
        "    print(f\"Node with value {after_value} not found in the list\")\n",
        "\n",
        "  # delete element from LL\n",
        "  def delete_all(self): # delete all , make 1 st node null\n",
        "    self.head = None\n",
        "\n",
        "\n"
      ],
      "metadata": {
        "id": "0m3nwRcAfjnf"
      },
      "execution_count": 11,
      "outputs": []
    },
    {
      "cell_type": "code",
      "source": [
        "linked_list = LinkedList()\n",
        "\n",
        "node1 = Node(10)\n",
        "node2 = Node(20)\n",
        "node3 = Node(30)\n",
        "node4 = Node(40)\n",
        "node5 = Node(50)\n",
        "\n",
        "linked_list.head = node1  #connection establishment\n",
        "node1.next = node2\n",
        "node2.next = node3\n",
        "node3.next = node4\n",
        "node4.next = node5"
      ],
      "metadata": {
        "id": "LaFVQypQfjlF"
      },
      "execution_count": 12,
      "outputs": []
    },
    {
      "cell_type": "code",
      "source": [
        "linked_list.display()"
      ],
      "metadata": {
        "colab": {
          "base_uri": "https://localhost:8080/"
        },
        "id": "26qCjDaqgRhD",
        "outputId": "e2e9f6ad-508f-4292-e512-7311282e5a42"
      },
      "execution_count": 13,
      "outputs": [
        {
          "output_type": "stream",
          "name": "stdout",
          "text": [
            "10\n",
            "10 -> 20\n",
            "10 -> 20 -> 30\n",
            "10 -> 20 -> 30 -> 40\n",
            "10 -> 20 -> 30 -> 40 -> 50\n"
          ]
        }
      ]
    },
    {
      "cell_type": "code",
      "source": [
        "linked_list.delete_all()"
      ],
      "metadata": {
        "id": "UdHQ1hdhfjiI"
      },
      "execution_count": 14,
      "outputs": []
    },
    {
      "cell_type": "code",
      "source": [
        "linked_list.delete_all"
      ],
      "metadata": {
        "colab": {
          "base_uri": "https://localhost:8080/",
          "height": 103
        },
        "id": "oS1dI5mtgaPg",
        "outputId": "678d32d8-3923-4176-c790-3f263a75790a"
      },
      "execution_count": 15,
      "outputs": [
        {
          "output_type": "execute_result",
          "data": {
            "text/plain": [
              "<bound method LinkedList.delete_all of <__main__.LinkedList object at 0x785ad84cdb10>>"
            ],
            "text/html": [
              "<div style=\"max-width:800px; border: 1px solid var(--colab-border-color);\"><style>\n",
              "      pre.function-repr-contents {\n",
              "        overflow-x: auto;\n",
              "        padding: 8px 12px;\n",
              "        max-height: 500px;\n",
              "      }\n",
              "\n",
              "      pre.function-repr-contents.function-repr-contents-collapsed {\n",
              "        cursor: pointer;\n",
              "        max-height: 100px;\n",
              "      }\n",
              "    </style>\n",
              "    <pre style=\"white-space: initial; background:\n",
              "         var(--colab-secondary-surface-color); padding: 8px 12px;\n",
              "         border-bottom: 1px solid var(--colab-border-color);\"><b>LinkedList.delete_all</b><br/>def delete_all()</pre><pre class=\"function-repr-contents function-repr-contents-collapsed\" style=\"\"><a class=\"filepath\" style=\"display:none\" href=\"#\">/content/&lt;ipython-input-11-d76fa929d516&gt;</a>&lt;no docstring&gt;</pre></div>"
            ]
          },
          "metadata": {},
          "execution_count": 15
        }
      ]
    },
    {
      "cell_type": "code",
      "source": [
        "class Node:\n",
        "  def __init__(self, data):\n",
        "    self.data = data\n",
        "    self.next = None\n",
        "\n",
        "class LinkedList:\n",
        "  def __init__(self):\n",
        "    self.head = None # first element\n",
        "\n",
        "  def display(self):\n",
        "    result = []\n",
        "    current = self.head\n",
        "    while current:\n",
        "      result.append(str(current.data))\n",
        "      current = current.next\n",
        "      print(\" -> \".join(result))\n",
        "\n",
        "    # insertion at head\n",
        "  def insert_at_head(self, value):\n",
        "      new_node = Node(value)\n",
        "      new_node.next = self.head\n",
        "      self.head = new_node\n",
        "\n",
        "      # insertion at tail\n",
        "  def append(self, value):\n",
        "\n",
        "        new_node = Node(value)\n",
        "\n",
        "        # if list is empty (handle empty list)\n",
        "        if self.head is None:\n",
        "            self.head = new_node\n",
        "            return\n",
        "\n",
        "        current = self.head\n",
        "        while current.next is not None:\n",
        "           current = current.next\n",
        "        current.next = new_node\n",
        "\n",
        "\n",
        "# insert element in LL\n",
        "  def insert_after(self,after_value,value):\n",
        "    current = self.head\n",
        "    while current:\n",
        "      if current.data == after_value:\n",
        "        new_node = Node(value)\n",
        "        new_node.next = current.next\n",
        "        current.next = new_node\n",
        "        return\n",
        "      current = current.next\n",
        "    print(f\"Node with value {after_value} not found in the list\")\n",
        "\n",
        "  # delete element from LL\n",
        "  def delete_all(self): # delete all , make 1 st node null\n",
        "    self.head = None\n",
        "\n",
        "  # delete from 1st placce\n",
        "  def delete_head(self):\n",
        "    if self.head is None:\n",
        "      print(\"list is empty\")\n",
        "      return\n",
        "    self.head = self.head.next\n",
        "\n",
        "\n"
      ],
      "metadata": {
        "id": "2LW5Y_nMgcEo"
      },
      "execution_count": 16,
      "outputs": []
    },
    {
      "cell_type": "code",
      "source": [
        "linked_list = LinkedList()\n",
        "\n",
        "node1 = Node(10)\n",
        "node2 = Node(20)\n",
        "node3 = Node(30)\n",
        "node4 = Node(40)\n",
        "node5 = Node(50)\n",
        "\n",
        "linked_list.head = node1  #connection establishment\n",
        "node1.next = node2\n",
        "node2.next = node3\n",
        "node3.next = node4\n",
        "node4.next = node5"
      ],
      "metadata": {
        "id": "YhKc5gfYmmsP"
      },
      "execution_count": 17,
      "outputs": []
    },
    {
      "cell_type": "code",
      "source": [
        "linked_list.display()"
      ],
      "metadata": {
        "colab": {
          "base_uri": "https://localhost:8080/"
        },
        "id": "9pSSOz5Jmmub",
        "outputId": "9443d4cc-8c58-4ee2-928e-06bff89e031c"
      },
      "execution_count": 18,
      "outputs": [
        {
          "output_type": "stream",
          "name": "stdout",
          "text": [
            "10\n",
            "10 -> 20\n",
            "10 -> 20 -> 30\n",
            "10 -> 20 -> 30 -> 40\n",
            "10 -> 20 -> 30 -> 40 -> 50\n"
          ]
        }
      ]
    },
    {
      "cell_type": "code",
      "source": [
        "linked_list.delete_head()"
      ],
      "metadata": {
        "id": "Ix3oaVRsmmxV"
      },
      "execution_count": 23,
      "outputs": []
    },
    {
      "cell_type": "code",
      "source": [
        "linked_list.display()"
      ],
      "metadata": {
        "colab": {
          "base_uri": "https://localhost:8080/"
        },
        "id": "EsS4e7rKmx5C",
        "outputId": "58b2d5f0-3220-42b3-d922-35c0c0e044db"
      },
      "execution_count": 24,
      "outputs": [
        {
          "output_type": "stream",
          "name": "stdout",
          "text": [
            "20\n",
            "20 -> 30\n",
            "20 -> 30 -> 40\n",
            "20 -> 30 -> 40 -> 50\n"
          ]
        }
      ]
    },
    {
      "cell_type": "markdown",
      "source": [
        "# delete from tail"
      ],
      "metadata": {
        "id": "1HvcesRdoJ0Q"
      }
    },
    {
      "cell_type": "code",
      "source": [
        "class Node:\n",
        "  def __init__(self, data):\n",
        "    self.data = data\n",
        "    self.next = None\n",
        "\n",
        "class LinkedList:\n",
        "  def __init__(self):\n",
        "    self.head = None # first element\n",
        "\n",
        "  def display(self):\n",
        "    result = []\n",
        "    current = self.head\n",
        "    while current:\n",
        "      result.append(str(current.data))\n",
        "      current = current.next\n",
        "      print(\" -> \".join(result))\n",
        "\n",
        "    # insertion at head\n",
        "  def insert_at_head(self, value):\n",
        "      new_node = Node(value)\n",
        "      new_node.next = self.head\n",
        "      self.head = new_node\n",
        "\n",
        "      # insertion at tail\n",
        "  def append(self, value):\n",
        "\n",
        "        new_node = Node(value)\n",
        "\n",
        "        # if list is empty (handle empty list)\n",
        "        if self.head is None:\n",
        "            self.head = new_node\n",
        "            return\n",
        "\n",
        "        current = self.head\n",
        "        while current.next is not None:\n",
        "           current = current.next\n",
        "        current.next = new_node\n",
        "\n",
        "\n",
        "# insert element in LL\n",
        "  def insert_after(self,after_value,value):\n",
        "    current = self.head\n",
        "    while current:\n",
        "      if current.data == after_value:\n",
        "        new_node = Node(value)\n",
        "        new_node.next = current.next\n",
        "        current.next = new_node\n",
        "        return\n",
        "      current = current.next\n",
        "    print(f\"Node with value {after_value} not found in the list\")\n",
        "\n",
        "  ## delete all element from LL\n",
        "  def delete_all(self): # delete all , make 1 st node null\n",
        "    self.head = None\n",
        "\n",
        "  ## delete from 1st placce\n",
        "  def delete_head(self):\n",
        "    if self.head is None:\n",
        "      print(\"list is empty\")\n",
        "      return\n",
        "    self.head = self.head.next\n",
        "\n",
        "  ## delete from tail(2 pahile ruk ja na hai)\n",
        "  def delete_tail(self):\n",
        "    if self.head is None:\n",
        "        print(\"List is empty\")\n",
        "        return\n",
        "\n",
        "    if self.head.next is None: # If only one node is present\n",
        "        self.head = None\n",
        "        return\n",
        "\n",
        "    current = self.head\n",
        "    while current.next.next is not None: # Traverse to the second last node\n",
        "        current = current.next\n",
        "    current.next = None # Remove the last node\n"
      ],
      "metadata": {
        "id": "tALWrbgjmznv"
      },
      "execution_count": 30,
      "outputs": []
    },
    {
      "cell_type": "code",
      "source": [
        "linked_list = LinkedList()\n",
        "\n",
        "node1 = Node(10)\n",
        "node2 = Node(20)\n",
        "node3 = Node(30)\n",
        "node4 = Node(40)\n",
        "node5 = Node(50)\n",
        "\n",
        "linked_list.head = node1  #connection establishment\n",
        "node1.next = node2\n",
        "node2.next = node3\n",
        "node3.next = node4\n",
        "node4.next = node5"
      ],
      "metadata": {
        "id": "TnhftNuYnTVX"
      },
      "execution_count": 31,
      "outputs": []
    },
    {
      "cell_type": "code",
      "source": [
        "linked_list.display()"
      ],
      "metadata": {
        "colab": {
          "base_uri": "https://localhost:8080/"
        },
        "id": "IujSS49lnTYN",
        "outputId": "4a4340c0-6114-437d-a7d3-21afdd3fb986"
      },
      "execution_count": 32,
      "outputs": [
        {
          "output_type": "stream",
          "name": "stdout",
          "text": [
            "10\n",
            "10 -> 20\n",
            "10 -> 20 -> 30\n",
            "10 -> 20 -> 30 -> 40\n",
            "10 -> 20 -> 30 -> 40 -> 50\n"
          ]
        }
      ]
    },
    {
      "cell_type": "code",
      "source": [
        "linked_list.delete_tail()"
      ],
      "metadata": {
        "id": "XXosYyN2nTbt"
      },
      "execution_count": 33,
      "outputs": []
    },
    {
      "cell_type": "code",
      "source": [
        "linked_list.display()"
      ],
      "metadata": {
        "colab": {
          "base_uri": "https://localhost:8080/"
        },
        "id": "kH9SuBRup0tm",
        "outputId": "d7174a50-a612-4076-af95-1746e4880bbe"
      },
      "execution_count": 34,
      "outputs": [
        {
          "output_type": "stream",
          "name": "stdout",
          "text": [
            "10\n",
            "10 -> 20\n",
            "10 -> 20 -> 30\n",
            "10 -> 20 -> 30 -> 40\n"
          ]
        }
      ]
    },
    {
      "cell_type": "markdown",
      "source": [
        "## delete by value"
      ],
      "metadata": {
        "id": "sKgYoGA6rkMs"
      }
    },
    {
      "cell_type": "code",
      "source": [
        "class Node:\n",
        "  def __init__(self, data):\n",
        "    self.data = data\n",
        "    self.next = None\n",
        "\n",
        "class LinkedList:\n",
        "  def __init__(self):\n",
        "    self.head = None # first element\n",
        "\n",
        "  def display(self):\n",
        "    result = []\n",
        "    current = self.head\n",
        "    while current:\n",
        "      result.append(str(current.data))\n",
        "      current = current.next\n",
        "      print(\" -> \".join(result))\n",
        "\n",
        "    # insertion at head\n",
        "  def insert_at_head(self, value):\n",
        "      new_node = Node(value)\n",
        "      new_node.next = self.head\n",
        "      self.head = new_node\n",
        "\n",
        "      # insertion at tail\n",
        "  def append(self, value):\n",
        "\n",
        "        new_node = Node(value)\n",
        "\n",
        "        # if list is empty (handle empty list)\n",
        "        if self.head is None:\n",
        "            self.head = new_node\n",
        "            return\n",
        "\n",
        "        current = self.head\n",
        "        while current.next is not None:\n",
        "           current = current.next\n",
        "        current.next = new_node\n",
        "\n",
        "\n",
        "# insert element in LL\n",
        "  def insert_after(self,after_value,value):\n",
        "    current = self.head\n",
        "    while current:\n",
        "      if current.data == after_value:\n",
        "        new_node = Node(value)\n",
        "        new_node.next = current.next\n",
        "        current.next = new_node\n",
        "        return\n",
        "      current = current.next\n",
        "    print(f\"Node with value {after_value} not found in the list\")\n",
        "\n",
        "  ## delete all element from LL\n",
        "  def delete_all(self): # delete all , make 1 st node null\n",
        "    self.head = None\n",
        "\n",
        "  ## delete from 1st placce\n",
        "  def delete_head(self):\n",
        "    if self.head is None:\n",
        "      print(\"list is empty\")\n",
        "      return\n",
        "    self.head = self.head.next\n",
        "\n",
        "  ## delete from tail(2 pahile ruk ja na hai)\n",
        "  def delete_tail(self):\n",
        "    if self.head is None:\n",
        "        print(\"List is empty\")\n",
        "        return\n",
        "\n",
        "    if self.head.next is None: # If only one node is present\n",
        "        self.head = None\n",
        "        return\n",
        "\n",
        "    current = self.head\n",
        "    while current.next.next is not None: # Traverse to the second last node\n",
        "        current = current.next\n",
        "    current.next = None # Remove the last node\n",
        "\n",
        "\n",
        "  ## delete by value(1 pahile rukna hai)\n",
        "  def delete_by_value(self,value):\n",
        "    current = self.head\n",
        "    while current.next is not None:\n",
        "      if current.next.data == value:\n",
        "        current.next = current.next.next\n",
        "        return\n",
        "      current = current.next\n",
        "    print(f\"Node with value {value} not found in the list\")\n",
        "\n"
      ],
      "metadata": {
        "id": "9xaAtdNrqfLw"
      },
      "execution_count": 35,
      "outputs": []
    },
    {
      "cell_type": "code",
      "source": [
        "linked_list = LinkedList()\n",
        "\n",
        "node1 = Node(10)\n",
        "node2 = Node(20)\n",
        "node3 = Node(30)\n",
        "node4 = Node(40)\n",
        "node5 = Node(50)\n",
        "\n",
        "linked_list.head = node1  #connection establishment\n",
        "node1.next = node2\n",
        "node2.next = node3\n",
        "node3.next = node4\n",
        "node4.next = node5"
      ],
      "metadata": {
        "id": "13YmRib8rbuP"
      },
      "execution_count": 42,
      "outputs": []
    },
    {
      "cell_type": "code",
      "source": [
        "linked_list.display()"
      ],
      "metadata": {
        "colab": {
          "base_uri": "https://localhost:8080/"
        },
        "id": "m7nGfTQJrbxE",
        "outputId": "936c061a-d0a5-45ca-f1fd-5cc9d565f78e"
      },
      "execution_count": 37,
      "outputs": [
        {
          "output_type": "stream",
          "name": "stdout",
          "text": [
            "10\n",
            "10 -> 20\n",
            "10 -> 20 -> 30\n",
            "10 -> 20 -> 30 -> 40\n",
            "10 -> 20 -> 30 -> 40 -> 50\n"
          ]
        }
      ]
    },
    {
      "cell_type": "code",
      "source": [
        "linked_list.delete_by_value(30)"
      ],
      "metadata": {
        "id": "ilcI1TQmrb0n"
      },
      "execution_count": 43,
      "outputs": []
    },
    {
      "cell_type": "code",
      "source": [
        "linked_list.display()"
      ],
      "metadata": {
        "colab": {
          "base_uri": "https://localhost:8080/"
        },
        "id": "DiMaJfRsumWU",
        "outputId": "c2c866dc-d3f2-4093-b318-87cc9378530f"
      },
      "execution_count": 44,
      "outputs": [
        {
          "output_type": "stream",
          "name": "stdout",
          "text": [
            "10\n",
            "10 -> 20\n",
            "10 -> 20 -> 40\n",
            "10 -> 20 -> 40 -> 50\n"
          ]
        }
      ]
    },
    {
      "cell_type": "code",
      "source": [
        "linked_list.delete_by_value(360)"
      ],
      "metadata": {
        "colab": {
          "base_uri": "https://localhost:8080/"
        },
        "id": "VXuJh8OquofW",
        "outputId": "ab02457d-474a-4e53-ac1d-11b0cfe0e2c4"
      },
      "execution_count": 45,
      "outputs": [
        {
          "output_type": "stream",
          "name": "stdout",
          "text": [
            "Node with value 360 not found in the list\n"
          ]
        }
      ]
    },
    {
      "cell_type": "code",
      "source": [],
      "metadata": {
        "id": "wSNucs0-usmJ"
      },
      "execution_count": null,
      "outputs": []
    },
    {
      "cell_type": "code",
      "source": [],
      "metadata": {
        "id": "KxVJlXGJusoe"
      },
      "execution_count": null,
      "outputs": []
    },
    {
      "cell_type": "code",
      "source": [],
      "metadata": {
        "id": "4F8WJSNmusrB"
      },
      "execution_count": null,
      "outputs": []
    },
    {
      "cell_type": "code",
      "source": [],
      "metadata": {
        "id": "ym4cT-tNusuJ"
      },
      "execution_count": null,
      "outputs": []
    }
  ]
}