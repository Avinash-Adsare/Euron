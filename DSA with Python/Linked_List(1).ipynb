{
  "nbformat": 4,
  "nbformat_minor": 0,
  "metadata": {
    "colab": {
      "provenance": []
    },
    "kernelspec": {
      "name": "python3",
      "display_name": "Python 3"
    },
    "language_info": {
      "name": "python"
    }
  },
  "cells": [
    {
      "cell_type": "markdown",
      "source": [
        "# Linked_List - collection of nodes\n",
        "- insertion and deletion value - O(1)\n",
        "\n",
        "- array is used for access the value"
      ],
      "metadata": {
        "id": "MOhVo6BBg6Q4"
      }
    },
    {
      "cell_type": "code",
      "source": [
        "# Insertion\n",
        "\n",
        "class Node:\n",
        "  def __init__(self, data):\n",
        "    self.data = data\n",
        "    self.next = None   # self.next means address\n",
        "\n"
      ],
      "metadata": {
        "id": "-wB8-EuFg8-6"
      },
      "execution_count": 2,
      "outputs": []
    },
    {
      "cell_type": "code",
      "source": [
        "node1 = Node(1) #node creation\n",
        "node2 = Node(2)\n",
        "node3 = Node(3)\n",
        "node4 = Node(4)\n",
        "node5 = Node(5)\n"
      ],
      "metadata": {
        "id": "uB33WyuHMDz6"
      },
      "execution_count": 3,
      "outputs": []
    },
    {
      "cell_type": "code",
      "source": [
        "node1.data"
      ],
      "metadata": {
        "colab": {
          "base_uri": "https://localhost:8080/"
        },
        "id": "jjQS5pluMD2Y",
        "outputId": "e1986499-0c39-4aa2-b9ea-0e5363a76c6f"
      },
      "execution_count": 4,
      "outputs": [
        {
          "output_type": "execute_result",
          "data": {
            "text/plain": [
              "1"
            ]
          },
          "metadata": {},
          "execution_count": 4
        }
      ]
    },
    {
      "cell_type": "code",
      "source": [
        "node1.next"
      ],
      "metadata": {
        "id": "9cqis2QyMD5C"
      },
      "execution_count": 5,
      "outputs": []
    },
    {
      "cell_type": "code",
      "source": [
        "# connection built in nodes\n",
        "\n",
        "node1.next = node2\n",
        "node2.next = node3\n",
        "node3.next = node4\n",
        "node4.next = node5"
      ],
      "metadata": {
        "id": "e0lvGe5fMD8k"
      },
      "execution_count": 6,
      "outputs": []
    },
    {
      "cell_type": "code",
      "source": [
        "node1.next"
      ],
      "metadata": {
        "colab": {
          "base_uri": "https://localhost:8080/"
        },
        "id": "HC2q69a1M_q7",
        "outputId": "d5150ab9-3230-486b-cd6c-4551ef6d9ff9"
      },
      "execution_count": 7,
      "outputs": [
        {
          "output_type": "execute_result",
          "data": {
            "text/plain": [
              "<__main__.Node at 0x7fdf05154950>"
            ]
          },
          "metadata": {},
          "execution_count": 7
        }
      ]
    },
    {
      "cell_type": "code",
      "source": [
        "node4.next"
      ],
      "metadata": {
        "colab": {
          "base_uri": "https://localhost:8080/"
        },
        "id": "WKXyyBx4NBUH",
        "outputId": "bd574c47-5303-4b9e-d4a4-3ebd95b474e8"
      },
      "execution_count": 8,
      "outputs": [
        {
          "output_type": "execute_result",
          "data": {
            "text/plain": [
              "<__main__.Node at 0x7fdf05154bd0>"
            ]
          },
          "metadata": {},
          "execution_count": 8
        }
      ]
    },
    {
      "cell_type": "code",
      "source": [
        "class Node:\n",
        "  def __init__(self, data):\n",
        "    self.data = data\n",
        "    self.next = None\n",
        "\n",
        "class LinkedList:\n",
        "  def __init__(self):\n",
        "    self.head = None # first element\n",
        "\n",
        "  def display(self):\n",
        "    current = self.head  # curr is at head\n",
        "    while current != None:  # curr null hone tak\n",
        "        print(current.data,end=\"->\")\n",
        "        current = current.next # connection establishment\n",
        "    print(\"None\")"
      ],
      "metadata": {
        "id": "rAXVc11pNOPl"
      },
      "execution_count": 9,
      "outputs": []
    },
    {
      "cell_type": "code",
      "source": [
        "# other method\n",
        "'''\n",
        "def display(self):\n",
        "  result = []\n",
        "  current = self.head\n",
        "  while current:\n",
        "     result.append(str(current.data))\n",
        "     current = current.next\n",
        "  print(\" -> \".join(result)\n",
        "'''"
      ],
      "metadata": {
        "id": "1jOviteFQ9_q"
      },
      "execution_count": null,
      "outputs": []
    },
    {
      "cell_type": "code",
      "source": [
        "linked_list = LinkedList()\n",
        "\n",
        "node1 = Node(10)\n",
        "node2 = Node(20)\n",
        "node3 = Node(30)\n",
        "node4 = Node(40)\n",
        "node5 = Node(50)\n",
        "\n",
        "linked_list.head = node1  #connection establishment\n",
        "node1.next = node2\n",
        "node2.next = node3\n",
        "node3.next = node4\n",
        "node4.next = node5"
      ],
      "metadata": {
        "id": "I4sr9Rz8Nrty"
      },
      "execution_count": 12,
      "outputs": []
    },
    {
      "cell_type": "code",
      "source": [
        "linked_list.display()"
      ],
      "metadata": {
        "colab": {
          "base_uri": "https://localhost:8080/"
        },
        "id": "DxphlwO6Nrwa",
        "outputId": "b207a717-5729-42e9-9b85-993d21751e7f"
      },
      "execution_count": 13,
      "outputs": [
        {
          "output_type": "stream",
          "name": "stdout",
          "text": [
            "10->20->30->40->50->None\n"
          ]
        }
      ]
    },
    {
      "cell_type": "markdown",
      "source": [
        "## insertion at head"
      ],
      "metadata": {
        "id": "iDFnpFQ-RnVw"
      }
    },
    {
      "cell_type": "code",
      "source": [
        "class Node:\n",
        "  def __init__(self, data):\n",
        "    self.data = data\n",
        "    self.next = None\n",
        "\n",
        "class LinkedList:\n",
        "  def __init__(self):\n",
        "    self.head = None # first element\n",
        "\n",
        "  def display(self):\n",
        "    result = []\n",
        "    current = self.head\n",
        "    while current:\n",
        "       result.append(str(current.data))\n",
        "       current = current.next\n",
        "       print(\" -> \".join(result))\n",
        "\n",
        "    # insertion at head\n",
        "  def insert_at_head(self, value):\n",
        "      new_node = Node(value)\n",
        "      new_node.next = self.head\n",
        "      self.head = new_node\n",
        "\n"
      ],
      "metadata": {
        "id": "U1MdN9roRcXn"
      },
      "execution_count": 15,
      "outputs": []
    },
    {
      "cell_type": "code",
      "source": [
        "linked_list = LinkedList()\n",
        "\n",
        "node1 = Node(10)\n",
        "node2 = Node(20)\n",
        "node3 = Node(30)\n",
        "node4 = Node(40)\n",
        "node5 = Node(50)\n",
        "\n",
        "linked_list.head = node1  #connection establishment\n",
        "node1.next = node2\n",
        "node2.next = node3\n",
        "node3.next = node4\n",
        "node4.next = node5"
      ],
      "metadata": {
        "id": "fmEidc0aNrz4"
      },
      "execution_count": 16,
      "outputs": []
    },
    {
      "cell_type": "code",
      "source": [
        "linked_list.display()"
      ],
      "metadata": {
        "colab": {
          "base_uri": "https://localhost:8080/"
        },
        "id": "M8ej8b7DQQFa",
        "outputId": "779f478d-a51c-401c-db0d-80b2b5c7222f"
      },
      "execution_count": 17,
      "outputs": [
        {
          "output_type": "stream",
          "name": "stdout",
          "text": [
            "10\n",
            "10 -> 20\n",
            "10 -> 20 -> 30\n",
            "10 -> 20 -> 30 -> 40\n",
            "10 -> 20 -> 30 -> 40 -> 50\n"
          ]
        }
      ]
    },
    {
      "cell_type": "code",
      "source": [
        "linked_list.insert_at_head(999)"
      ],
      "metadata": {
        "id": "whGQAiQQQQHq"
      },
      "execution_count": 18,
      "outputs": []
    },
    {
      "cell_type": "code",
      "source": [
        "linked_list.display()"
      ],
      "metadata": {
        "colab": {
          "base_uri": "https://localhost:8080/"
        },
        "id": "RjsGj0EgQQLD",
        "outputId": "71483db8-2fdf-4582-d891-01f3e3ca4f99"
      },
      "execution_count": 19,
      "outputs": [
        {
          "output_type": "stream",
          "name": "stdout",
          "text": [
            "999\n",
            "999 -> 10\n",
            "999 -> 10 -> 20\n",
            "999 -> 10 -> 20 -> 30\n",
            "999 -> 10 -> 20 -> 30 -> 40\n",
            "999 -> 10 -> 20 -> 30 -> 40 -> 50\n"
          ]
        }
      ]
    },
    {
      "cell_type": "markdown",
      "source": [
        "## insert at Tail"
      ],
      "metadata": {
        "id": "Sj16mV1eTD4Z"
      }
    },
    {
      "cell_type": "code",
      "source": [
        "class Node:\n",
        "  def __init__(self, data):\n",
        "    self.data = data\n",
        "    self.next = None\n",
        "\n",
        "class LinkedList:\n",
        "  def __init__(self):\n",
        "    self.head = None # first element\n",
        "\n",
        "  def display(self):\n",
        "    result = []\n",
        "    current = self.head\n",
        "    while current:\n",
        "       result.append(str(current.data))\n",
        "       current = current.next\n",
        "       print(\" -> \".join(result))\n",
        "\n",
        "    # insertion at head\n",
        "  def insert_at_head(self, value):\n",
        "      new_node = Node(value)\n",
        "      new_node.next = self.head\n",
        "      self.head = new_node\n",
        "\n",
        "      # insertion at tail\n",
        "  def append(self, value):\n",
        "\n",
        "        new_node = Node(value)\n",
        "\n",
        "        # if list is empty (handle empty list)\n",
        "        if self.head is None:\n",
        "            self.head = new_node\n",
        "            return\n",
        "\n",
        "        current = self.head\n",
        "        while current.next is not None:\n",
        "           current = current.next\n",
        "        current.next = new_node\n",
        "\n"
      ],
      "metadata": {
        "id": "-S6XYRkXS6Nb"
      },
      "execution_count": 25,
      "outputs": []
    },
    {
      "cell_type": "code",
      "source": [
        "linked_list = LinkedList()\n",
        "\n",
        "node1 = Node(10)\n",
        "node2 = Node(20)\n",
        "node3 = Node(30)\n",
        "node4 = Node(40)\n",
        "node5 = Node(50)\n",
        "\n",
        "linked_list.head = node1  #connection establishment\n",
        "node1.next = node2\n",
        "node2.next = node3\n",
        "node3.next = node4\n",
        "node4.next = node5"
      ],
      "metadata": {
        "id": "nEuxiEvHTt4K"
      },
      "execution_count": 30,
      "outputs": []
    },
    {
      "cell_type": "code",
      "source": [
        "linked_list.display()"
      ],
      "metadata": {
        "colab": {
          "base_uri": "https://localhost:8080/"
        },
        "id": "amB0E6FgTt6y",
        "outputId": "9a4ab91b-57a6-4e28-a864-aebe2b8dd4e5"
      },
      "execution_count": 31,
      "outputs": [
        {
          "output_type": "stream",
          "name": "stdout",
          "text": [
            "10\n",
            "10 -> 20\n",
            "10 -> 20 -> 30\n",
            "10 -> 20 -> 30 -> 40\n",
            "10 -> 20 -> 30 -> 40 -> 50\n"
          ]
        }
      ]
    },
    {
      "cell_type": "code",
      "source": [
        "linked_list.append(100)"
      ],
      "metadata": {
        "id": "COE3RAWcTt9D"
      },
      "execution_count": 32,
      "outputs": []
    },
    {
      "cell_type": "code",
      "source": [
        "linked_list.display()"
      ],
      "metadata": {
        "colab": {
          "base_uri": "https://localhost:8080/"
        },
        "id": "XLSv1ZVaTuAO",
        "outputId": "c8d61cc1-8257-41c3-a2db-e1b48e3a0e67"
      },
      "execution_count": 33,
      "outputs": [
        {
          "output_type": "stream",
          "name": "stdout",
          "text": [
            "10\n",
            "10 -> 20\n",
            "10 -> 20 -> 30\n",
            "10 -> 20 -> 30 -> 40\n",
            "10 -> 20 -> 30 -> 40 -> 50\n",
            "10 -> 20 -> 30 -> 40 -> 50 -> 100\n"
          ]
        }
      ]
    },
    {
      "cell_type": "code",
      "source": [],
      "metadata": {
        "id": "v6gO9MwbX0lu"
      },
      "execution_count": null,
      "outputs": []
    }
  ]
}