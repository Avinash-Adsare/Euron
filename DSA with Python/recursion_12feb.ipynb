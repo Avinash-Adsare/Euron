{
  "nbformat": 4,
  "nbformat_minor": 0,
  "metadata": {
    "colab": {
      "provenance": []
    },
    "kernelspec": {
      "name": "python3",
      "display_name": "Python 3"
    },
    "language_info": {
      "name": "python"
    }
  },
  "cells": [
    {
      "cell_type": "code",
      "execution_count": 1,
      "metadata": {
        "id": "um2W3yQJis6l"
      },
      "outputs": [],
      "source": [
        "# factorial\n",
        "\n",
        "def factorial(n):\n",
        "  if n == 0:                 # base case\n",
        "    return 1\n",
        "  else:\n",
        "    return n * factorial(n-1) # recurr logic"
      ]
    },
    {
      "cell_type": "code",
      "source": [
        "factorial(8)"
      ],
      "metadata": {
        "colab": {
          "base_uri": "https://localhost:8080/"
        },
        "id": "QIJnFHyKi-2B",
        "outputId": "1e5045f1-7ec0-4dd5-a8f0-90a924ab067a"
      },
      "execution_count": 4,
      "outputs": [
        {
          "output_type": "execute_result",
          "data": {
            "text/plain": [
              "40320"
            ]
          },
          "metadata": {},
          "execution_count": 4
        }
      ]
    },
    {
      "cell_type": "code",
      "source": [
        "# sum of number from 1\n",
        "\n",
        "def sum(n):\n",
        "  if n == 0:  # base case\n",
        "    return 0\n",
        "  else:\n",
        "    return n + sum(n-1) # recurr case"
      ],
      "metadata": {
        "id": "C6BBRFDfjEBh"
      },
      "execution_count": 5,
      "outputs": []
    },
    {
      "cell_type": "code",
      "source": [
        "sum(2)"
      ],
      "metadata": {
        "colab": {
          "base_uri": "https://localhost:8080/"
        },
        "id": "20jp-FWJlG4K",
        "outputId": "7a8e0da2-592c-4a3a-e756-ff0c658f09be"
      },
      "execution_count": 7,
      "outputs": [
        {
          "output_type": "execute_result",
          "data": {
            "text/plain": [
              "3"
            ]
          },
          "metadata": {},
          "execution_count": 7
        }
      ]
    },
    {
      "cell_type": "code",
      "source": [
        "# fibonachii series\n",
        "\n",
        "def fibonachii(n):\n",
        "  if n == 0:\n",
        "    return 0\n",
        "  elif n == 1:\n",
        "    return 1\n",
        "  else:\n",
        "    return fibonachii(n-2) + fibonachii(n-1)\n",
        "\n",
        "# fixed numbers 0 , 1"
      ],
      "metadata": {
        "id": "ofdSw7y5lH7V"
      },
      "execution_count": 27,
      "outputs": []
    },
    {
      "cell_type": "code",
      "source": [
        "fibonachii(4) #0112"
      ],
      "metadata": {
        "colab": {
          "base_uri": "https://localhost:8080/"
        },
        "id": "GOd4yg_im-E-",
        "outputId": "e0d0725d-cbcf-41b8-9355-8fa12c469c35"
      },
      "execution_count": 28,
      "outputs": [
        {
          "output_type": "execute_result",
          "data": {
            "text/plain": [
              "3"
            ]
          },
          "metadata": {},
          "execution_count": 28
        }
      ]
    },
    {
      "cell_type": "code",
      "source": [
        "# string reverse by recurr\n",
        "\n",
        "def reverse_string(s):\n",
        "  if len(s) == 0:\n",
        "    return s\n",
        "  else:\n",
        "    return reverse_string(s[1:]) + s[0] # recurr case"
      ],
      "metadata": {
        "id": "PA9kICeOm_vC"
      },
      "execution_count": 1,
      "outputs": []
    },
    {
      "cell_type": "code",
      "source": [
        "reverse_string(\"hello\")"
      ],
      "metadata": {
        "colab": {
          "base_uri": "https://localhost:8080/",
          "height": 36
        },
        "id": "e8dS_pfGp2AK",
        "outputId": "8e0a18fc-2020-4d87-d32f-660c3c4c4513"
      },
      "execution_count": 2,
      "outputs": [
        {
          "output_type": "execute_result",
          "data": {
            "text/plain": [
              "'olleh'"
            ],
            "application/vnd.google.colaboratory.intrinsic+json": {
              "type": "string"
            }
          },
          "metadata": {},
          "execution_count": 2
        }
      ]
    },
    {
      "cell_type": "markdown",
      "source": [
        "# task\n",
        "- palindrome\n",
        "- exponential\n",
        "- GCD"
      ],
      "metadata": {
        "id": "wHu2XMRdrIWQ"
      }
    },
    {
      "cell_type": "code",
      "source": [],
      "metadata": {
        "id": "29Ygy61op4K8"
      },
      "execution_count": null,
      "outputs": []
    }
  ]
}