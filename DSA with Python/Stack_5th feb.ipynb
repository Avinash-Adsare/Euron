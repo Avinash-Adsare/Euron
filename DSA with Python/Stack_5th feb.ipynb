{
  "nbformat": 4,
  "nbformat_minor": 0,
  "metadata": {
    "colab": {
      "provenance": []
    },
    "kernelspec": {
      "name": "python3",
      "display_name": "Python 3"
    },
    "language_info": {
      "name": "python"
    }
  },
  "cells": [
    {
      "cell_type": "markdown",
      "source": [
        "# Stack\n",
        "\n",
        "- stack is created by 1) Linked List 2) List\n",
        "\n",
        "- interview question - advantages / disadvantages , when list is used for stack , when linked list is used for creation\n",
        "\n",
        "- Advantages(where it is used) - traversing . 1) efficient operation 2) Memory less (reduces the memory) 3 ) parsing , matching parenthesis\n",
        "\n",
        "\n",
        "- Disadvantages\n",
        "1) do not remove random element\n",
        "2) overflow / underflow\n",
        "3) static(fixed) memory wasted\n",
        "\n",
        "\n",
        "# operations -\n",
        "- push\n",
        "- pop\n",
        "- peak/pop\n",
        "- isempty\n",
        "- size\n",
        "\n",
        "# Stack is LIFO\n",
        "\n",
        "#      Time Complexity    Space Complexity\n",
        "- push      O(1)             O(1)\n",
        "- pop       O(1)             O(1)\n",
        "- peak/pop  O(1)             O(1)\n",
        "- isempty   O(1)             O(1)\n",
        "- size      O(1)             O(1)\n"
      ],
      "metadata": {
        "id": "nIo6VmCpE2w_"
      }
    },
    {
      "cell_type": "markdown",
      "source": [
        "## Linked List based Stack"
      ],
      "metadata": {
        "id": "Q2afiwFWINdM"
      }
    },
    {
      "cell_type": "code",
      "source": [
        "class Node:\n",
        "  def __init__(self,data):\n",
        "    self.data = data\n",
        "    self.next = None\n",
        "\n",
        "class Stack:\n",
        "  def __init__(self):\n",
        "    self.top = None\n",
        "\n",
        "  def isempty(self):\n",
        "    return self.top is None\n",
        "\n",
        "\n",
        "  def push(self,value):\n",
        "    # if self.isempty(): # empty logic\n",
        "    #   print(\"stack is empty\")\n",
        "    #   return None\n",
        "\n",
        "\n",
        "    new_node = Node(value)\n",
        "    new_node.next = self.top\n",
        "    self.top = new_node\n",
        "\n",
        "\n",
        "  def pop(self):\n",
        "    if self.isempty(): # empty logic\n",
        "      print(\"stack is empty\")\n",
        "      return None\n",
        "\n",
        "    popped_value = self.top.data\n",
        "    self.top = self.top.next\n",
        "    return popped_value\n",
        "\n",
        "\n",
        "  def peak(self):\n",
        "    if self.isempty(): # empty logic\n",
        "      print(\"stack is empty\")\n",
        "      return None\n",
        "\n",
        "    return self.top.data\n",
        "\n",
        "\n",
        "  def get_size(self):\n",
        "    size = 0\n",
        "    current = self.top\n",
        "    while current:\n",
        "      size += 1\n",
        "      current = current.next\n",
        "    return size\n",
        "\n",
        "\n",
        "\n",
        "  def display(self):\n",
        "    \"Display the elememt in the stack\"\n",
        "    result = []\n",
        "    current = self.top\n",
        "    while current:\n",
        "      result.append(str(current.data))\n",
        "      current = current.next\n",
        "    print(\"->\".join(result))\n",
        "\n"
      ],
      "metadata": {
        "id": "mZX4asOFIMg5"
      },
      "execution_count": 42,
      "outputs": []
    },
    {
      "cell_type": "code",
      "source": [
        "# stack object creation\n",
        "\n",
        "stack = Stack()\n",
        "stack.push(10)\n",
        "stack.push(20)\n",
        "stack.push(30)\n",
        "stack.push(40)"
      ],
      "metadata": {
        "id": "bCc3madsFBs1"
      },
      "execution_count": 43,
      "outputs": []
    },
    {
      "cell_type": "code",
      "source": [
        "stack.display()"
      ],
      "metadata": {
        "colab": {
          "base_uri": "https://localhost:8080/"
        },
        "id": "o8bVfN3XIKnr",
        "outputId": "bd9a3160-1eea-4a9a-ba61-8d0320d68646"
      },
      "execution_count": 23,
      "outputs": [
        {
          "output_type": "stream",
          "name": "stdout",
          "text": [
            "40->30->20->10\n"
          ]
        }
      ]
    },
    {
      "cell_type": "code",
      "source": [
        "stack.isempty()"
      ],
      "metadata": {
        "colab": {
          "base_uri": "https://localhost:8080/"
        },
        "id": "EFN2TuyiIKrI",
        "outputId": "ab190cfc-44af-4dd5-a0cd-092b26c35f38"
      },
      "execution_count": 16,
      "outputs": [
        {
          "output_type": "execute_result",
          "data": {
            "text/plain": [
              "False"
            ]
          },
          "metadata": {},
          "execution_count": 16
        }
      ]
    },
    {
      "cell_type": "code",
      "source": [
        "stack.push(50)"
      ],
      "metadata": {
        "id": "qa65LfTKOJgS"
      },
      "execution_count": 30,
      "outputs": []
    },
    {
      "cell_type": "code",
      "source": [
        "stack.pop()"
      ],
      "metadata": {
        "colab": {
          "base_uri": "https://localhost:8080/"
        },
        "id": "exLlwyzaLKTc",
        "outputId": "a696f249-f828-4657-c035-8a2ad5b60769"
      },
      "execution_count": 32,
      "outputs": [
        {
          "output_type": "execute_result",
          "data": {
            "text/plain": [
              "50"
            ]
          },
          "metadata": {},
          "execution_count": 32
        }
      ]
    },
    {
      "cell_type": "code",
      "source": [
        "stack.display()"
      ],
      "metadata": {
        "colab": {
          "base_uri": "https://localhost:8080/"
        },
        "id": "YYCVFRlBLKVl",
        "outputId": "faf41eb4-a4f8-4146-8f9c-dd889ff7899e"
      },
      "execution_count": 33,
      "outputs": [
        {
          "output_type": "stream",
          "name": "stdout",
          "text": [
            "30->20->10\n"
          ]
        }
      ]
    },
    {
      "cell_type": "code",
      "source": [
        "stack.peak()"
      ],
      "metadata": {
        "colab": {
          "base_uri": "https://localhost:8080/"
        },
        "id": "1Hd1epteLKXr",
        "outputId": "d9725072-27a0-4902-9622-833c2ae916a8"
      },
      "execution_count": 41,
      "outputs": [
        {
          "output_type": "execute_result",
          "data": {
            "text/plain": [
              "40"
            ]
          },
          "metadata": {},
          "execution_count": 41
        }
      ]
    },
    {
      "cell_type": "code",
      "source": [
        "stack.get_size()"
      ],
      "metadata": {
        "colab": {
          "base_uri": "https://localhost:8080/"
        },
        "id": "10M9APZqLKZi",
        "outputId": "abe03962-10cf-4397-de30-dfae1004458e"
      },
      "execution_count": 44,
      "outputs": [
        {
          "output_type": "execute_result",
          "data": {
            "text/plain": [
              "4"
            ]
          },
          "metadata": {},
          "execution_count": 44
        }
      ]
    },
    {
      "cell_type": "code",
      "source": [
        "# Task1 - String reverse karana hai"
      ],
      "metadata": {
        "id": "BvMNUIGkLKcd"
      },
      "execution_count": 45,
      "outputs": []
    },
    {
      "cell_type": "code",
      "source": [],
      "metadata": {
        "id": "15QBiIwSQvQj"
      },
      "execution_count": null,
      "outputs": []
    },
    {
      "cell_type": "markdown",
      "source": [
        "## Stack with List"
      ],
      "metadata": {
        "id": "4Umoi3LnQSnf"
      }
    },
    {
      "cell_type": "code",
      "source": [
        "class Stack:\n",
        "  def __init__(self):\n",
        "    self.stack = []\n",
        "\n",
        "\n",
        "    def isempty(self):\n",
        "      return len(self.stack) == 0\n",
        "\n",
        "\n"
      ],
      "metadata": {
        "id": "lToRG8cGPogt"
      },
      "execution_count": 46,
      "outputs": []
    },
    {
      "cell_type": "code",
      "source": [],
      "metadata": {
        "id": "Cwh9fjg8QtUz"
      },
      "execution_count": null,
      "outputs": []
    }
  ]
}