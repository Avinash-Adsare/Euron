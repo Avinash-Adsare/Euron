{
  "nbformat": 4,
  "nbformat_minor": 0,
  "metadata": {
    "colab": {
      "provenance": []
    },
    "kernelspec": {
      "name": "python3",
      "display_name": "Python 3"
    },
    "language_info": {
      "name": "python"
    }
  },
  "cells": [
    {
      "cell_type": "markdown",
      "source": [
        "## recursion used\n",
        "- recursive fun banana chahiye\n",
        "- tree / graph problem\n",
        "- divide and conquer problem\n",
        "- backtracking\n",
        "- GCD / power"
      ],
      "metadata": {
        "id": "S_F1DeKmrqQX"
      }
    },
    {
      "cell_type": "code",
      "execution_count": null,
      "metadata": {
        "id": "um2W3yQJis6l"
      },
      "outputs": [],
      "source": [
        "# factorial\n",
        "\n",
        "def factorial(n):\n",
        "  if n == 0:                 # base case\n",
        "    return 1\n",
        "  else:\n",
        "    return n * factorial(n-1) # recurr logic"
      ]
    },
    {
      "cell_type": "code",
      "source": [
        "factorial(8)"
      ],
      "metadata": {
        "colab": {
          "base_uri": "https://localhost:8080/"
        },
        "id": "QIJnFHyKi-2B",
        "outputId": "1e5045f1-7ec0-4dd5-a8f0-90a924ab067a"
      },
      "execution_count": null,
      "outputs": [
        {
          "output_type": "execute_result",
          "data": {
            "text/plain": [
              "40320"
            ]
          },
          "metadata": {},
          "execution_count": 4
        }
      ]
    },
    {
      "cell_type": "code",
      "source": [
        "# sum of number from 1\n",
        "\n",
        "def sum(n):\n",
        "  if n == 0:  # base case\n",
        "    return 0\n",
        "  else:\n",
        "    return n + sum(n-1) # recurr case"
      ],
      "metadata": {
        "id": "C6BBRFDfjEBh"
      },
      "execution_count": null,
      "outputs": []
    },
    {
      "cell_type": "code",
      "source": [
        "sum(2)"
      ],
      "metadata": {
        "colab": {
          "base_uri": "https://localhost:8080/"
        },
        "id": "20jp-FWJlG4K",
        "outputId": "7a8e0da2-592c-4a3a-e756-ff0c658f09be"
      },
      "execution_count": null,
      "outputs": [
        {
          "output_type": "execute_result",
          "data": {
            "text/plain": [
              "3"
            ]
          },
          "metadata": {},
          "execution_count": 7
        }
      ]
    },
    {
      "cell_type": "code",
      "source": [
        "# fibonachii series\n",
        "\n",
        "def fibonachii(n):\n",
        "  if n == 0:\n",
        "    return 0\n",
        "  elif n == 1:\n",
        "    return 1\n",
        "  else:\n",
        "    return fibonachii(n-2) + fibonachii(n-1)\n",
        "\n",
        "# fixed numbers 0 , 1"
      ],
      "metadata": {
        "id": "ofdSw7y5lH7V"
      },
      "execution_count": null,
      "outputs": []
    },
    {
      "cell_type": "code",
      "source": [
        "fibonachii(4) #0112"
      ],
      "metadata": {
        "colab": {
          "base_uri": "https://localhost:8080/"
        },
        "id": "GOd4yg_im-E-",
        "outputId": "e0d0725d-cbcf-41b8-9355-8fa12c469c35"
      },
      "execution_count": null,
      "outputs": [
        {
          "output_type": "execute_result",
          "data": {
            "text/plain": [
              "3"
            ]
          },
          "metadata": {},
          "execution_count": 28
        }
      ]
    },
    {
      "cell_type": "code",
      "source": [
        "# string reverse by recurr\n",
        "\n",
        "def reverse_string(s):\n",
        "  if len(s) == 0:\n",
        "    return s\n",
        "  else:\n",
        "    return reverse_string(s[1:]) + s[0] # recurr case"
      ],
      "metadata": {
        "id": "PA9kICeOm_vC"
      },
      "execution_count": null,
      "outputs": []
    },
    {
      "cell_type": "code",
      "source": [
        "reverse_string(\"hello\")"
      ],
      "metadata": {
        "colab": {
          "base_uri": "https://localhost:8080/",
          "height": 36
        },
        "id": "e8dS_pfGp2AK",
        "outputId": "8e0a18fc-2020-4d87-d32f-660c3c4c4513"
      },
      "execution_count": null,
      "outputs": [
        {
          "output_type": "execute_result",
          "data": {
            "text/plain": [
              "'olleh'"
            ],
            "application/vnd.google.colaboratory.intrinsic+json": {
              "type": "string"
            }
          },
          "metadata": {},
          "execution_count": 2
        }
      ]
    },
    {
      "cell_type": "markdown",
      "source": [
        "# task\n",
        "- palindrome\n",
        "- exponential\n",
        "- GCD"
      ],
      "metadata": {
        "id": "wHu2XMRdrIWQ"
      }
    },
    {
      "cell_type": "code",
      "source": [
        "# Palindrome\n",
        "\n",
        "def is_palindrome(s):\n",
        "  if len(s) <= 1:\n",
        "    return True\n",
        "  if s[0] != s[-1]:\n",
        "    return False\n",
        "  return is_palindrome(s[1:-1])  # recurr case"
      ],
      "metadata": {
        "id": "29Ygy61op4K8"
      },
      "execution_count": 1,
      "outputs": []
    },
    {
      "cell_type": "code",
      "source": [
        "is_palindrome(\"php\")"
      ],
      "metadata": {
        "colab": {
          "base_uri": "https://localhost:8080/"
        },
        "id": "2vT5IhgExPYz",
        "outputId": "d20ef816-2b86-4a03-f4e3-10a257864dc0"
      },
      "execution_count": 4,
      "outputs": [
        {
          "output_type": "execute_result",
          "data": {
            "text/plain": [
              "True"
            ]
          },
          "metadata": {},
          "execution_count": 4
        }
      ]
    },
    {
      "cell_type": "code",
      "source": [
        "## GCD\n",
        "\n",
        "def gcd(a,b):\n",
        "  if b == 0:\n",
        "    return a\n",
        "  return gcd(b,a%b)  # recurr case\n",
        "\n",
        "gcd(48,18)\n"
      ],
      "metadata": {
        "colab": {
          "base_uri": "https://localhost:8080/"
        },
        "id": "avMkCmhIxTMN",
        "outputId": "e41c4030-ae4c-41c1-e103-b41a3e546b85"
      },
      "execution_count": 1,
      "outputs": [
        {
          "output_type": "execute_result",
          "data": {
            "text/plain": [
              "6"
            ]
          },
          "metadata": {},
          "execution_count": 1
        }
      ]
    },
    {
      "cell_type": "code",
      "source": [
        "## sum of digits\n",
        "\n",
        "def sum_of_digit(n):\n",
        "  if n < 10:\n",
        "    return n\n",
        "  else:\n",
        "    return n%10 + sum_of_digit(n//10)"
      ],
      "metadata": {
        "id": "2zFDIzV0yrL8"
      },
      "execution_count": 2,
      "outputs": []
    },
    {
      "cell_type": "code",
      "source": [
        "sum_of_digit(98)"
      ],
      "metadata": {
        "colab": {
          "base_uri": "https://localhost:8080/"
        },
        "id": "Ba8znSZI7KKx",
        "outputId": "af2f2fec-de7e-4f52-d2a0-a9c2883c5ea6"
      },
      "execution_count": 6,
      "outputs": [
        {
          "output_type": "execute_result",
          "data": {
            "text/plain": [
              "17"
            ]
          },
          "metadata": {},
          "execution_count": 6
        }
      ]
    },
    {
      "cell_type": "code",
      "source": [
        "# product of digit\n",
        "\n",
        "def product_of_digits(n):\n",
        "  if n < 10:\n",
        "    return n\n",
        "  else:\n",
        "    return n%10 * product_of_digits(n//10)"
      ],
      "metadata": {
        "id": "QCbx6NxY7M6E"
      },
      "execution_count": 7,
      "outputs": []
    },
    {
      "cell_type": "code",
      "source": [
        "product_of_digits(213)"
      ],
      "metadata": {
        "colab": {
          "base_uri": "https://localhost:8080/"
        },
        "id": "EljO0Gbe7pTr",
        "outputId": "daae3456-2b29-4750-c8d9-93f62e496256"
      },
      "execution_count": 9,
      "outputs": [
        {
          "output_type": "execute_result",
          "data": {
            "text/plain": [
              "6"
            ]
          },
          "metadata": {},
          "execution_count": 9
        }
      ]
    },
    {
      "cell_type": "code",
      "source": [
        "# check the array is sorted or not(compare and sort)\n",
        "\n"
      ],
      "metadata": {
        "id": "neAT7fIA7quo"
      },
      "execution_count": null,
      "outputs": []
    },
    {
      "cell_type": "markdown",
      "source": [
        "## Linear Search\n"
      ],
      "metadata": {
        "id": "SZ9uwht38jrc"
      }
    },
    {
      "cell_type": "code",
      "source": [
        "def linear_search(arr,target):\n",
        "  for i in range(len(arr)):\n",
        "    if arr[i] == target:\n",
        "      return i\n",
        "  return -1\n",
        "\n",
        "linear_search([1,2,6,25,46,55],25)\n"
      ],
      "metadata": {
        "colab": {
          "base_uri": "https://localhost:8080/"
        },
        "id": "yq7wybAR8faa",
        "outputId": "342e117d-7146-429b-d8ac-5ca8b41c4278"
      },
      "execution_count": 14,
      "outputs": [
        {
          "output_type": "execute_result",
          "data": {
            "text/plain": [
              "3"
            ]
          },
          "metadata": {},
          "execution_count": 14
        }
      ]
    },
    {
      "cell_type": "code",
      "source": [
        "def recursive_linear_search(arr,target,index):\n",
        "  if index == len(arr):\n",
        "    return -1\n",
        "  if arr[index] == target:\n",
        "    return index\n",
        "  return recursive_linear_search(arr,target,index+1)"
      ],
      "metadata": {
        "id": "zSTOKuyf8fcg"
      },
      "execution_count": 15,
      "outputs": []
    },
    {
      "cell_type": "code",
      "source": [
        "recursive_linear_search([1,2,3,4,5,6,7,8,9],5,0)"
      ],
      "metadata": {
        "colab": {
          "base_uri": "https://localhost:8080/"
        },
        "id": "1oGHj_-58fe1",
        "outputId": "9e411cc5-3cb7-4189-c964-d4cde12746b0"
      },
      "execution_count": 16,
      "outputs": [
        {
          "output_type": "execute_result",
          "data": {
            "text/plain": [
              "4"
            ]
          },
          "metadata": {},
          "execution_count": 16
        }
      ]
    },
    {
      "cell_type": "code",
      "source": [
        "## binary search\n",
        "\n",
        "def binary_search(arr,target,low,high):\n",
        "  low,high = 0, len(arr)-1\n",
        "  while low <= high:\n",
        "    mid = (low + high)//2\n",
        "    if arr[mid] == target:\n",
        "      return mid\n",
        "    elif arr[mid] < target:\n",
        "      low = mid + 1\n",
        "    else:\n",
        "      high = mid - 1\n",
        "  return -1\n",
        "\n",
        "binary_search([1,2,3,4,5,6,7,8,9],5,0,8)"
      ],
      "metadata": {
        "colab": {
          "base_uri": "https://localhost:8080/"
        },
        "id": "6_4dgPBp8fhL",
        "outputId": "2f36ff83-58a8-4782-8b8f-6338cd923317"
      },
      "execution_count": 18,
      "outputs": [
        {
          "output_type": "execute_result",
          "data": {
            "text/plain": [
              "4"
            ]
          },
          "metadata": {},
          "execution_count": 18
        }
      ]
    },
    {
      "cell_type": "code",
      "source": [
        "def binary_search_recursive(arr,target,low,high):\n",
        "  if low > high:\n",
        "    return -1\n",
        "\n",
        "  mid = (low + high)//2\n",
        "  if arr[mid] == target:\n",
        "    return mid\n",
        "  elif arr[mid] < target:\n",
        "    return binary_search_recursive(arr,target,mid + 1,high)\n",
        "  else:\n",
        "    return binary_search_recursive(arr,target,low,mid-1)\n"
      ],
      "metadata": {
        "id": "-c7Oi48n8fkm"
      },
      "execution_count": 20,
      "outputs": []
    },
    {
      "cell_type": "code",
      "source": [
        "arr =[1,2,3,4,5,6,7,8,9]\n",
        "target = 5\n",
        "result = binary_search_recursive(arr,target,0,len(arr)+1)\n",
        "print(result)"
      ],
      "metadata": {
        "colab": {
          "base_uri": "https://localhost:8080/"
        },
        "id": "Tsp9a-yQGm9y",
        "outputId": "56998398-f887-46fe-ac37-81a810912728"
      },
      "execution_count": 21,
      "outputs": [
        {
          "output_type": "stream",
          "name": "stdout",
          "text": [
            "4\n"
          ]
        }
      ]
    },
    {
      "cell_type": "code",
      "source": [],
      "metadata": {
        "id": "qxIlBsmZG3u0"
      },
      "execution_count": null,
      "outputs": []
    }
  ]
}