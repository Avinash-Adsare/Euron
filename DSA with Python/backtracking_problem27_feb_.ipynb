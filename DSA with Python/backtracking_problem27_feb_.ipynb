{
  "cells": [
    {
      "cell_type": "code",
      "execution_count": null,
      "metadata": {
        "id": "wYBWKsaCbYkl",
        "outputId": "fcc95ee2-da14-4cf4-b954-85061ec8a240"
      },
      "outputs": [
        {
          "name": "stdout",
          "output_type": "stream",
          "text": [
            "[1, 2, 3]\n",
            "[1, 3, 2]\n",
            "[2, 1, 3]\n",
            "[2, 3, 1]\n",
            "[3, 2, 1]\n",
            "[3, 1, 2]\n"
          ]
        }
      ],
      "source": [
        "def permute(nums, i=0):\n",
        "    if i == len(nums):\n",
        "        print(nums)\n",
        "        return\n",
        "\n",
        "    for j in range(i, len(nums)):\n",
        "        nums[i], nums[j] = nums[j], nums[i]\n",
        "        permute(nums, i + 1)\n",
        "        nums[i], nums[j] = nums[j], nums[i]\n",
        "\n",
        "# Example Usage\n",
        "nums = [1, 2,3]\n",
        "permute(nums)\n"
      ]
    },
    {
      "cell_type": "code",
      "execution_count": null,
      "metadata": {
        "id": "BudU-iNGbYkn",
        "outputId": "27db40d6-ed91-4823-b8f4-8c5eb8b53d25"
      },
      "outputs": [
        {
          "name": "stdout",
          "output_type": "stream",
          "text": [
            "All Permutations:\n",
            "Swapped nums[0] with nums[0]: [1, 2]\n",
            "Swapped nums[1] with nums[1]: [1, 2]\n",
            "[1, 2]\n",
            "Backtracked nums[1] with nums[1]: [1, 2]\n",
            "Backtracked nums[0] with nums[0]: [1, 2]\n",
            "Swapped nums[0] with nums[1]: [2, 1]\n",
            "Swapped nums[1] with nums[1]: [2, 1]\n",
            "[2, 1]\n",
            "Backtracked nums[1] with nums[1]: [2, 1]\n",
            "Backtracked nums[0] with nums[1]: [1, 2]\n"
          ]
        }
      ],
      "source": [
        "def permute(nums, i=0):\n",
        "    if i == len(nums):\n",
        "        print(nums)  # Print the current permutation\n",
        "        return\n",
        "\n",
        "    for j in range(i, len(nums)):\n",
        "        # Swap nums[i] and nums[j]\n",
        "        nums[i], nums[j] = nums[j], nums[i]\n",
        "        print(f\"Swapped nums[{i}] with nums[{j}]: {nums}\")  # Debugging statement\n",
        "\n",
        "        # Recursive call for the next index\n",
        "        permute(nums, i + 1)\n",
        "\n",
        "        # Backtrack (swap back to restore original array)\n",
        "        nums[i], nums[j] = nums[j], nums[i]\n",
        "        print(f\"Backtracked nums[{i}] with nums[{j}]: {nums}\")  # Debugging statement\n",
        "\n",
        "# Example Usage\n",
        "nums = [1, 2 ]\n",
        "print(\"All Permutations:\")\n",
        "permute(nums)"
      ]
    },
    {
      "cell_type": "code",
      "execution_count": null,
      "metadata": {
        "id": "mki34534bYko"
      },
      "outputs": [],
      "source": []
    },
    {
      "cell_type": "code",
      "execution_count": null,
      "metadata": {
        "id": "GdefpIxzbYko",
        "outputId": "1ecaad91-485f-44e0-c47f-9b0c0c48afd8"
      },
      "outputs": [
        {
          "name": "stdout",
          "output_type": "stream",
          "text": [
            "All Unique Subsets:\n",
            "[[], [8], [1], [1, 8]]\n"
          ]
        }
      ],
      "source": [
        "def generate_subsets(nums, index=0, current_subset=[], result=[]):\n",
        "    if index == len(nums):\n",
        "        result.append(current_subset[:])  # Store a copy of the current subset\n",
        "        return\n",
        "\n",
        "    # Exclude the current element\n",
        "    generate_subsets(nums, index + 1, current_subset, result)\n",
        "\n",
        "    # Include the current element\n",
        "    current_subset.append(nums[index])\n",
        "    generate_subsets(nums, index + 1, current_subset, result)\n",
        "\n",
        "    # Backtrack (Remove last element before returning)\n",
        "    current_subset.pop()\n",
        "\n",
        "    return result\n",
        "\n",
        "# Example Usage\n",
        "nums = [1, 8]\n",
        "print(\"All Unique Subsets:\")\n",
        "print(generate_subsets(nums))\n"
      ]
    },
    {
      "cell_type": "code",
      "execution_count": null,
      "metadata": {
        "id": "LXcKybbebYkp",
        "outputId": "e03b00df-1691-483b-ed01-4a690ec2c740"
      },
      "outputs": [
        {
          "name": "stdout",
          "output_type": "stream",
          "text": [
            "All Unique Subsets:\n",
            "Called with index=0, current_subset=[]\n",
            "Excluding 1 at index 0\n",
            "Called with index=1, current_subset=[]\n",
            "Excluding 8 at index 1\n",
            "Called with index=2, current_subset=[]\n",
            "Subset completed: [] -> Added to result\n",
            "\n",
            "Including 8 at index 1\n",
            "Called with index=2, current_subset=[8]\n",
            "Subset completed: [8] -> Added to result\n",
            "\n",
            "Backtracking: Removing 8 at index 1\n",
            "Including 1 at index 0\n",
            "Called with index=1, current_subset=[1]\n",
            "Excluding 8 at index 1\n",
            "Called with index=2, current_subset=[1]\n",
            "Subset completed: [1] -> Added to result\n",
            "\n",
            "Including 8 at index 1\n",
            "Called with index=2, current_subset=[1, 8]\n",
            "Subset completed: [1, 8] -> Added to result\n",
            "\n",
            "Backtracking: Removing 8 at index 1\n",
            "Backtracking: Removing 1 at index 0\n",
            "[[], [8], [1], [1, 8]]\n"
          ]
        }
      ],
      "source": [
        "def generate_subsets(nums, index=0, current_subset=[], result=[]):\n",
        "    print(f\"Called with index={index}, current_subset={current_subset}\")  # Debugging print\n",
        "\n",
        "    if index == len(nums):\n",
        "        result.append(current_subset[:])  # Store a copy of the current subset\n",
        "        print(f\"Subset completed: {current_subset} -> Added to result\\n\")  # Debugging print\n",
        "        return\n",
        "\n",
        "\n",
        "    # Exclude the current element and move to the next\n",
        "    print(f\"Excluding {nums[index]} at index {index}\")  # Debugging print\n",
        "    generate_subsets(nums, index + 1, current_subset, result)\n",
        "\n",
        "    # Include the current element\n",
        "    print(f\"Including {nums[index]} at index {index}\")  # Debugging print\n",
        "    current_subset.append(nums[index])\n",
        "    generate_subsets(nums, index + 1, current_subset, result)\n",
        "\n",
        "    # Backtrack (Remove last element before returning)\n",
        "    print(f\"Backtracking: Removing {current_subset[-1]} at index {index}\")  # Debugging print\n",
        "    current_subset.pop()\n",
        "\n",
        "    return result\n",
        "\n",
        "# Example Usage\n",
        "nums = [1, 8]\n",
        "print(\"All Unique Subsets:\")\n",
        "print(generate_subsets(nums))\n"
      ]
    },
    {
      "cell_type": "code",
      "execution_count": null,
      "metadata": {
        "id": "dzwcjdwhbYkp",
        "outputId": "7521a65b-838e-4ab7-be2e-762194021b5a"
      },
      "outputs": [
        {
          "name": "stdout",
          "output_type": "stream",
          "text": [
            "[2, 7]\n",
            "[9]\n"
          ]
        }
      ],
      "source": [
        "\n",
        "def subset_sum(arr, target, index=0, subset=[]):\n",
        "    if sum(subset) == target:\n",
        "        print(subset)  # Print valid subset\n",
        "        return\n",
        "    if index >= len(arr):\n",
        "        return\n",
        "\n",
        "    # Include current element\n",
        "    subset_sum(arr, target, index + 1, subset + [arr[index]])\n",
        "\n",
        "    # Exclude current element (backtrack)\n",
        "    subset_sum(arr, target, index + 1, subset)\n",
        "\n",
        "# Example usage\n",
        "arr = [2, 3, 5,  9 , 3 , 7]\n",
        "target = 9\n",
        "subset_sum(arr, target)\n"
      ]
    },
    {
      "cell_type": "code",
      "execution_count": null,
      "metadata": {
        "id": "XckToqwRbYkq"
      },
      "outputs": [],
      "source": []
    },
    {
      "cell_type": "code",
      "execution_count": null,
      "metadata": {
        "id": "_JYQc5_CbYkq"
      },
      "outputs": [],
      "source": [
        "Start with []\n",
        " ├── Add 1 → [1]\n",
        " │   ├── Add 2 → [1,2] ✅ (Valid)\n",
        " │   ├── Remove 2 → [1]\n",
        " │   ├── Add 3 → [1,3] ✅ (Valid)\n",
        " │   ├── Remove 3 → [1]\n",
        " │   ├── Add 4 → [1,4] ✅ (Valid)\n",
        " │   ├── Remove 4 → [1]\n",
        " │   ├── Remove 1 → []\n",
        " ├── Add 2 → [2]\n",
        " │   ├── Add 3 → [2,3] ✅ (Valid)\n",
        " │   ├── Remove 3 → [2]\n",
        " │   ├── Add 4 → [2,4] ✅ (Valid)\n",
        " │   ├── Remove 4 → [2]\n",
        " │   ├── Remove 2 → []\n",
        " ├── Add 3 → [3]\n",
        " │   ├── Add 4 → [3,4] ✅ (Valid)\n",
        " │   ├── Remove 4 → [3]\n",
        " │   ├── Remove 3 → []\n",
        " ├── Add 4 → [4] (No more numbers left)\n"
      ]
    },
    {
      "cell_type": "code",
      "execution_count": null,
      "metadata": {
        "id": "1IbaLtvtbYkr"
      },
      "outputs": [],
      "source": []
    },
    {
      "cell_type": "code",
      "execution_count": null,
      "metadata": {
        "id": "RdO79XR9bYkr",
        "outputId": "f6cf52ad-1d3d-4bd2-b204-46713188d93f"
      },
      "outputs": [
        {
          "name": "stdout",
          "output_type": "stream",
          "text": [
            "[[1, 2, 3], [1, 2, 4], [1, 3, 4], [2, 3, 4]]\n"
          ]
        }
      ],
      "source": [
        "def backtrack(n, k, start, path, result):\n",
        "    # If we have found a valid combination of length k\n",
        "    if len(path) == k:\n",
        "        result.append(path[:])  # Make a copy of path and store it\n",
        "        return\n",
        "\n",
        "    # Iterate over the possible numbers\n",
        "    for i in range(start, n + 1):\n",
        "        path.append(i)  # Choose a number\n",
        "        backtrack(n, k, i + 1, path, result)  # Recurse with the next number\n",
        "        path.pop()  # Undo the choice (backtrack)\n",
        "\n",
        "def combine(n, k):\n",
        "    result = []\n",
        "    backtrack(n, k, 1, [], result)\n",
        "    return result\n",
        "\n",
        "\n",
        "n = 4\n",
        "k = 3\n",
        "print(combine(n, k))"
      ]
    },
    {
      "cell_type": "code",
      "execution_count": null,
      "metadata": {
        "id": "ZbLFJgLYbYks"
      },
      "outputs": [],
      "source": [
        " ├── Add 1 → [1]\n",
        " │   ├── Add 2 → [1,2]\n",
        " │   │   ├── Add 3 → [1,2,3] ✅ (Valid)\n",
        " │   │   ├── Remove 3 → [1,2]\n",
        " │   │   ├── Add 4 → [1,2,4] ✅ (Valid)\n",
        " │   │   ├── Remove 4 → [1,2]\n",
        " │   ├── Remove 2 → [1]\n",
        " │   ├── Add 3 → [1,3]\n",
        " │   │   ├── Add 4 → [1,3,4] ✅ (Valid)\n",
        " │   │   ├── Remove 4 → [1,3]\n",
        " │   ├── Remove 3 → [1]\n",
        " │   ├── Add 4 → [1,4] (Not enough elements left)\n",
        " │   ├── Remove 4 → [1]\n",
        " │   ├── Remove 1 → []\n",
        " ├── Add 2 → [2]\n",
        " │   ├── Add 3 → [2,3]\n",
        " │   │   ├── Add 4 → [2,3,4] ✅ (Valid)\n",
        " │   │   ├── Remove 4 → [2,3]\n",
        " │   ├── Remove 3 → [2]\n",
        " │   ├── Add 4 → [2,4] (Not enough elements left)\n",
        " │   ├── Remove 4 → [2]\n",
        " │   ├── Remove 2 → []\n",
        " ├── Add 3 → [3]\n",
        " │   ├── Add 4 → [3,4] (Not enough elements left)\n",
        " │   ├── Remove 4 → [3]\n",
        " │   ├── Remove 3 → []\n",
        " ├── Add 4 → [4] (Not enough elements left)"
      ]
    }
  ],
  "metadata": {
    "kernelspec": {
      "display_name": "lang2",
      "language": "python",
      "name": "python3"
    },
    "language_info": {
      "codemirror_mode": {
        "name": "ipython",
        "version": 3
      },
      "file_extension": ".py",
      "mimetype": "text/x-python",
      "name": "python",
      "nbconvert_exporter": "python",
      "pygments_lexer": "ipython3",
      "version": "3.11.0"
    },
    "colab": {
      "provenance": []
    }
  },
  "nbformat": 4,
  "nbformat_minor": 0
}