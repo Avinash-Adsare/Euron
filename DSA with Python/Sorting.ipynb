{
  "nbformat": 4,
  "nbformat_minor": 0,
  "metadata": {
    "colab": {
      "provenance": []
    },
    "kernelspec": {
      "name": "python3",
      "display_name": "Python 3"
    },
    "language_info": {
      "name": "python"
    }
  },
  "cells": [
    {
      "cell_type": "markdown",
      "source": [
        "# Bubble Sort"
      ],
      "metadata": {
        "id": "S9la8x-VIX2L"
      }
    },
    {
      "cell_type": "code",
      "execution_count": null,
      "metadata": {
        "colab": {
          "base_uri": "https://localhost:8080/",
          "height": 70
        },
        "id": "bbFrbHJbFfh3",
        "outputId": "a9499092-621b-475d-bb52-da1e76235a91"
      },
      "outputs": [
        {
          "output_type": "execute_result",
          "data": {
            "text/plain": [
              "'\\nsteps\\n1. compare 2 elements\\n2. order not proper - swap/ no swap\\n3.next move\\n4. largest -> right\\n\\nWhen not used - when dataset is large\\nwhen used - if dataset is sorted/ small\\n'"
            ],
            "application/vnd.google.colaboratory.intrinsic+json": {
              "type": "string"
            }
          },
          "metadata": {},
          "execution_count": 3
        }
      ],
      "source": [
        "# Bubble Sort (Agenda - largest element at right)\n",
        "\n",
        "#  in bubble sort largest value sort first\n",
        "''' if 5 elements  then 4 comparison and then 3 swap. '''\n",
        "\n",
        "'''\n",
        "steps\n",
        "1. compare 2 elements\n",
        "2. order not proper - swap/ no swap\n",
        "3.next move\n",
        "4. largest -> right\n",
        "\n",
        "When not used - when dataset is large\n",
        "when used - if dataset is sorted/ small\n",
        "'''"
      ]
    },
    {
      "cell_type": "code",
      "source": [
        "def bubble_sort(arr):\n",
        "  n = len(arr)\n",
        "  for i in range(n-1):\n",
        "    swapped = False\n",
        "    for j in range(n-1-i):\n",
        "      if arr[j] > arr[j+1]:                # if 3,5 then it is ok\n",
        "        arr[j],arr[j+1] = arr[j+1],arr[j] # swaping condition if e.g 5,3\n",
        "        swapped = True\n",
        "    if not swapped:\n",
        "      break\n",
        "  return arr\n",
        "\n",
        "arr= [1,5,9,4,7,3]\n",
        "print(bubble_sort(arr))"
      ],
      "metadata": {
        "colab": {
          "base_uri": "https://localhost:8080/"
        },
        "id": "QLmSosPNFirT",
        "outputId": "78346f0d-0fa2-4f8f-b66c-07238e5e3a12"
      },
      "execution_count": null,
      "outputs": [
        {
          "output_type": "stream",
          "name": "stdout",
          "text": [
            "[1, 3, 4, 5, 7, 9]\n"
          ]
        }
      ]
    },
    {
      "cell_type": "markdown",
      "source": [
        "## Selection Sort\n",
        "\n",
        "- best case - n^2\n",
        "- it is stable or not"
      ],
      "metadata": {
        "id": "ICtmf7HkJKzC"
      }
    },
    {
      "cell_type": "code",
      "source": [],
      "metadata": {
        "id": "y1WjTlo3IBUt"
      },
      "execution_count": null,
      "outputs": []
    },
    {
      "cell_type": "markdown",
      "source": [
        "## Insertion Sort\n",
        "- like cards game\n",
        "- starts with 2nd element"
      ],
      "metadata": {
        "id": "ANDPEq0MNkf4"
      }
    },
    {
      "cell_type": "code",
      "source": [
        "def insertion_sort(arr):\n",
        "  for i in range(1,len(arr)):\n",
        "    key = arr[]\n",
        "    j = i-1\n",
        "    while j>=0 and key <arr[j]:\n",
        "      arr[j+1] = arr[j]\n",
        "      j -= 1\n",
        "      arr[j+1] = key\n",
        "  return arr\n"
      ],
      "metadata": {
        "colab": {
          "base_uri": "https://localhost:8080/",
          "height": 297
        },
        "id": "ZShuLYGNJXxH",
        "outputId": "306b5942-3448-4bc4-bf00-4c6c728cdf98"
      },
      "execution_count": null,
      "outputs": [
        {
          "output_type": "error",
          "ename": "TypeError",
          "evalue": "'<' not supported between instances of 'list' and 'int'",
          "traceback": [
            "\u001b[0;31m---------------------------------------------------------------------------\u001b[0m",
            "\u001b[0;31mTypeError\u001b[0m                                 Traceback (most recent call last)",
            "\u001b[0;32m<ipython-input-5-fd7fbe51df4a>\u001b[0m in \u001b[0;36m<cell line: 0>\u001b[0;34m()\u001b[0m\n\u001b[1;32m     10\u001b[0m \u001b[0;34m\u001b[0m\u001b[0m\n\u001b[1;32m     11\u001b[0m \u001b[0marr\u001b[0m \u001b[0;34m=\u001b[0m \u001b[0;34m[\u001b[0m\u001b[0;36m3214\u001b[0m\u001b[0;34m,\u001b[0m\u001b[0;36m2\u001b[0m\u001b[0;34m,\u001b[0m\u001b[0;36m1\u001b[0m\u001b[0;34m,\u001b[0m\u001b[0;36m5\u001b[0m\u001b[0;34m,\u001b[0m\u001b[0;36m87\u001b[0m\u001b[0;34m,\u001b[0m\u001b[0;36m95\u001b[0m\u001b[0;34m,\u001b[0m\u001b[0;34m]\u001b[0m\u001b[0;34m\u001b[0m\u001b[0;34m\u001b[0m\u001b[0m\n\u001b[0;32m---> 12\u001b[0;31m \u001b[0mprint\u001b[0m\u001b[0;34m(\u001b[0m\u001b[0minsertion_sort\u001b[0m\u001b[0;34m(\u001b[0m\u001b[0marr\u001b[0m\u001b[0;34m)\u001b[0m\u001b[0;34m)\u001b[0m\u001b[0;34m\u001b[0m\u001b[0;34m\u001b[0m\u001b[0m\n\u001b[0m",
            "\u001b[0;32m<ipython-input-5-fd7fbe51df4a>\u001b[0m in \u001b[0;36minsertion_sort\u001b[0;34m(arr)\u001b[0m\n\u001b[1;32m      3\u001b[0m     \u001b[0mkey\u001b[0m \u001b[0;34m=\u001b[0m \u001b[0marr\u001b[0m\u001b[0;34m\u001b[0m\u001b[0;34m\u001b[0m\u001b[0m\n\u001b[1;32m      4\u001b[0m     \u001b[0mj\u001b[0m \u001b[0;34m=\u001b[0m \u001b[0mi\u001b[0m\u001b[0;34m-\u001b[0m\u001b[0;36m1\u001b[0m\u001b[0;34m\u001b[0m\u001b[0;34m\u001b[0m\u001b[0m\n\u001b[0;32m----> 5\u001b[0;31m     \u001b[0;32mwhile\u001b[0m \u001b[0mj\u001b[0m\u001b[0;34m>=\u001b[0m\u001b[0;36m0\u001b[0m \u001b[0;32mand\u001b[0m \u001b[0mkey\u001b[0m \u001b[0;34m<\u001b[0m\u001b[0marr\u001b[0m\u001b[0;34m[\u001b[0m\u001b[0mj\u001b[0m\u001b[0;34m]\u001b[0m\u001b[0;34m:\u001b[0m\u001b[0;34m\u001b[0m\u001b[0;34m\u001b[0m\u001b[0m\n\u001b[0m\u001b[1;32m      6\u001b[0m       \u001b[0marr\u001b[0m\u001b[0;34m[\u001b[0m\u001b[0mj\u001b[0m\u001b[0;34m+\u001b[0m\u001b[0;36m1\u001b[0m\u001b[0;34m]\u001b[0m \u001b[0;34m=\u001b[0m \u001b[0marr\u001b[0m\u001b[0;34m[\u001b[0m\u001b[0mj\u001b[0m\u001b[0;34m]\u001b[0m\u001b[0;34m\u001b[0m\u001b[0;34m\u001b[0m\u001b[0m\n\u001b[1;32m      7\u001b[0m       \u001b[0mj\u001b[0m \u001b[0;34m-=\u001b[0m \u001b[0;36m1\u001b[0m\u001b[0;34m\u001b[0m\u001b[0;34m\u001b[0m\u001b[0m\n",
            "\u001b[0;31mTypeError\u001b[0m: '<' not supported between instances of 'list' and 'int'"
          ]
        }
      ]
    },
    {
      "cell_type": "markdown",
      "source": [
        "## Merge Sort\n",
        "- worst complexity - n(logn)\n",
        "- best case - n(logn)\n",
        "\n",
        "- when to used -> large data, but problem is that extra space required"
      ],
      "metadata": {
        "id": "uNSTtgCWOLrA"
      }
    },
    {
      "cell_type": "code",
      "source": [],
      "metadata": {
        "id": "9nJ2jcMZJX0k"
      },
      "execution_count": null,
      "outputs": []
    }
  ]
}