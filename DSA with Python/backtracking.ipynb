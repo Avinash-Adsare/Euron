{
 "cells": [
  {
   "cell_type": "code",
   "execution_count": 4,
   "metadata": {},
   "outputs": [
    {
     "name": "stdout",
     "output_type": "stream",
     "text": [
      "[1, 2, 3]\n",
      "[1, 3, 2]\n",
      "[2, 1, 3]\n",
      "[2, 3, 1]\n",
      "[3, 2, 1]\n",
      "[3, 1, 2]\n"
     ]
    }
   ],
   "source": [
    "def permute(nums, i=0):\n",
    "    if i == len(nums):  \n",
    "        print(nums)\n",
    "        return\n",
    "    \n",
    "    for j in range(i, len(nums)):  \n",
    "        nums[i], nums[j] = nums[j], nums[i]\n",
    "        permute(nums, i + 1)\n",
    "        nums[i], nums[j] = nums[j], nums[i]\n",
    "\n",
    "# Example Usage\n",
    "nums = [1, 2,3]\n",
    "permute(nums)\n"
   ]
  },
  {
   "cell_type": "code",
   "execution_count": 6,
   "metadata": {},
   "outputs": [
    {
     "name": "stdout",
     "output_type": "stream",
     "text": [
      "All Permutations:\n",
      "Swapped nums[0] with nums[0]: [1, 2]\n",
      "Swapped nums[1] with nums[1]: [1, 2]\n",
      "[1, 2]\n",
      "Backtracked nums[1] with nums[1]: [1, 2]\n",
      "Backtracked nums[0] with nums[0]: [1, 2]\n",
      "Swapped nums[0] with nums[1]: [2, 1]\n",
      "Swapped nums[1] with nums[1]: [2, 1]\n",
      "[2, 1]\n",
      "Backtracked nums[1] with nums[1]: [2, 1]\n",
      "Backtracked nums[0] with nums[1]: [1, 2]\n"
     ]
    }
   ],
   "source": [
    "def permute(nums, i=0):\n",
    "    if i == len(nums):  \n",
    "        print(nums)  # Print the current permutation\n",
    "        return\n",
    "    \n",
    "    for j in range(i, len(nums)):  \n",
    "        # Swap nums[i] and nums[j]\n",
    "        nums[i], nums[j] = nums[j], nums[i]\n",
    "        print(f\"Swapped nums[{i}] with nums[{j}]: {nums}\")  # Debugging statement\n",
    "        \n",
    "        # Recursive call for the next index\n",
    "        permute(nums, i + 1)\n",
    "        \n",
    "        # Backtrack (swap back to restore original array)\n",
    "        nums[i], nums[j] = nums[j], nums[i]\n",
    "        print(f\"Backtracked nums[{i}] with nums[{j}]: {nums}\")  # Debugging statement\n",
    "\n",
    "# Example Usage\n",
    "nums = [1, 2 ]\n",
    "print(\"All Permutations:\")\n",
    "permute(nums)"
   ]
  },
  {
   "cell_type": "code",
   "execution_count": null,
   "metadata": {},
   "outputs": [],
   "source": []
  },
  {
   "cell_type": "code",
   "execution_count": 7,
   "metadata": {},
   "outputs": [
    {
     "name": "stdout",
     "output_type": "stream",
     "text": [
      "All Unique Subsets:\n",
      "[[], [8], [1], [1, 8]]\n"
     ]
    }
   ],
   "source": [
    "def generate_subsets(nums, index=0, current_subset=[], result=[]):\n",
    "    if index == len(nums):  \n",
    "        result.append(current_subset[:])  # Store a copy of the current subset\n",
    "        return\n",
    "    \n",
    "    # Exclude the current element\n",
    "    generate_subsets(nums, index + 1, current_subset, result)\n",
    "\n",
    "    # Include the current element\n",
    "    current_subset.append(nums[index])\n",
    "    generate_subsets(nums, index + 1, current_subset, result)\n",
    "\n",
    "    # Backtrack (Remove last element before returning)\n",
    "    current_subset.pop()\n",
    "\n",
    "    return result\n",
    "\n",
    "# Example Usage\n",
    "nums = [1, 8]\n",
    "print(\"All Unique Subsets:\")\n",
    "print(generate_subsets(nums))\n"
   ]
  },
  {
   "cell_type": "code",
   "execution_count": 9,
   "metadata": {},
   "outputs": [
    {
     "name": "stdout",
     "output_type": "stream",
     "text": [
      "All Unique Subsets:\n",
      "Called with index=0, current_subset=[]\n",
      "Excluding 1 at index 0\n",
      "Called with index=1, current_subset=[]\n",
      "Excluding 8 at index 1\n",
      "Called with index=2, current_subset=[]\n",
      "Subset completed: [] -> Added to result\n",
      "\n",
      "Including 8 at index 1\n",
      "Called with index=2, current_subset=[8]\n",
      "Subset completed: [8] -> Added to result\n",
      "\n",
      "Backtracking: Removing 8 at index 1\n",
      "Including 1 at index 0\n",
      "Called with index=1, current_subset=[1]\n",
      "Excluding 8 at index 1\n",
      "Called with index=2, current_subset=[1]\n",
      "Subset completed: [1] -> Added to result\n",
      "\n",
      "Including 8 at index 1\n",
      "Called with index=2, current_subset=[1, 8]\n",
      "Subset completed: [1, 8] -> Added to result\n",
      "\n",
      "Backtracking: Removing 8 at index 1\n",
      "Backtracking: Removing 1 at index 0\n",
      "[[], [8], [1], [1, 8]]\n"
     ]
    }
   ],
   "source": [
    "def generate_subsets(nums, index=0, current_subset=[], result=[]):\n",
    "    print(f\"Called with index={index}, current_subset={current_subset}\")  # Debugging print\n",
    "    \n",
    "    if index == len(nums):  \n",
    "        result.append(current_subset[:])  # Store a copy of the current subset\n",
    "        print(f\"Subset completed: {current_subset} -> Added to result\\n\")  # Debugging print\n",
    "        return\n",
    "    \n",
    "    \n",
    "    # Exclude the current element and move to the next\n",
    "    print(f\"Excluding {nums[index]} at index {index}\")  # Debugging print\n",
    "    generate_subsets(nums, index + 1, current_subset, result)\n",
    "\n",
    "    # Include the current element\n",
    "    print(f\"Including {nums[index]} at index {index}\")  # Debugging print\n",
    "    current_subset.append(nums[index])\n",
    "    generate_subsets(nums, index + 1, current_subset, result)\n",
    "\n",
    "    # Backtrack (Remove last element before returning)\n",
    "    print(f\"Backtracking: Removing {current_subset[-1]} at index {index}\")  # Debugging print\n",
    "    current_subset.pop()\n",
    "\n",
    "    return result\n",
    "\n",
    "# Example Usage\n",
    "nums = [1, 8]\n",
    "print(\"All Unique Subsets:\")\n",
    "print(generate_subsets(nums))\n"
   ]
  },
  {
   "cell_type": "code",
   "execution_count": null,
   "metadata": {},
   "outputs": [],
   "source": [
    "\n",
    "Start with: []\n",
    " ├── Exclude 1 → []\n",
    " │    ├── Exclude 8 → []\n",
    " │    │    ├── Exclude 7 → []\n",
    " │    │    │    ├── (Base case: Add []) ✅\n",
    " │    │    ├── Include 7 → [7]\n",
    " │    │    │    ├── (Base case: Add [7]) ✅\n",
    " │    ├── Include 8 → [8]\n",
    " │    │    ├── Exclude 7 → [8]\n",
    " │    │    │    ├── (Base case: Add [8]) ✅\n",
    " │    │    ├── Include 7 → [8,7]\n",
    " │    │    │    ├── (Base case: Add [8,7]) ✅\n",
    " ├── Include 1 → [1]\n",
    " │    ├── Exclude 8 → [1]\n",
    " │    │    ├── Exclude 7 → [1]\n",
    " │    │    │    ├── (Base case: Add [1]) ✅\n",
    " │    │    ├── Include 7 → [1,7]\n",
    " │    │    │    ├── (Base case: Add [1,7]) ✅\n",
    " │    ├── Include 8 → [1,8]\n",
    " │    │    ├── Exclude 7 → [1,8]\n",
    " │    │    │    ├── (Base case: Add [1,8]) ✅\n",
    " │    │    ├── Include 7 → [1,8,7]\n",
    " │    │    │    ├── (Base case: Add [1,8,7]) ✅\n"
   ]
  }
 ],
 "metadata": {
  "kernelspec": {
   "display_name": "lang2",
   "language": "python",
   "name": "python3"
  },
  "language_info": {
   "codemirror_mode": {
    "name": "ipython",
    "version": 3
   },
   "file_extension": ".py",
   "mimetype": "text/x-python",
   "name": "python",
   "nbconvert_exporter": "python",
   "pygments_lexer": "ipython3",
   "version": "3.11.0"
  }
 },
 "nbformat": 4,
 "nbformat_minor": 2
}
