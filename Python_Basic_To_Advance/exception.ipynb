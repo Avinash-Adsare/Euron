{
 "cells": [
  {
   "cell_type": "markdown",
   "metadata": {},
   "source": [
    "# Block"
   ]
  },
  {
   "cell_type": "code",
   "execution_count": 9,
   "metadata": {},
   "outputs": [
    {
     "name": "stdout",
     "output_type": "stream",
     "text": [
      "Error occured in try block: division by zero\n",
      "finally block executed sucessfully\n"
     ]
    }
   ],
   "source": [
    "try:\n",
    "    num = 10\n",
    "    div = num/0\n",
    "\n",
    "\n",
    "except Exception as e:\n",
    "    print(\"Error occured in try block:\",e)\n",
    "\n",
    "else:\n",
    "    print(\"no error occured,try block execute sucessfully\")\n",
    "\n",
    "finally:\n",
    "    print(\"finally block executed sucessfully\")"
   ]
  },
  {
   "cell_type": "markdown",
   "metadata": {},
   "source": [
    "## Practical example of exception handling"
   ]
  },
  {
   "cell_type": "code",
   "execution_count": 10,
   "metadata": {},
   "outputs": [
    {
     "name": "stdout",
     "output_type": "stream",
     "text": [
      "content written to class.txt\n"
     ]
    }
   ],
   "source": [
    "def write_file(filename,content):\n",
    "    with open(filename,'w')as file:\n",
    "        file.write(content)\n",
    "\n",
    "    print(f\"content written to {filename}\")\n",
    "\n",
    "write_file(\"class.txt\",\"this is my exception handling class\")"
   ]
  },
  {
   "cell_type": "code",
   "execution_count": 13,
   "metadata": {},
   "outputs": [
    {
     "name": "stdout",
     "output_type": "stream",
     "text": [
      "the number in the file is 20\n",
      "file read succesfully  and content is valid\n",
      "file closed succesfully\n"
     ]
    }
   ],
   "source": [
    "def read_file(filename):\n",
    "    try:\n",
    "        file=open(filename,'r')  # read\n",
    "        data = file.read()\n",
    "\n",
    "        number = int(data) ## type convert\n",
    "         \n",
    "        print(f\"the number in the file is {number}\")\n",
    "\n",
    "    except FileNotFoundError as e:\n",
    "        print(f\"error occured in {filename} and error is {e}\")\n",
    "\n",
    "    except ValueError as e:\n",
    "        print(f\"error, value can not be converted to integer is {e}\")\n",
    "\n",
    "    except Exception as e:\n",
    "        print(f\"an expected error is occured :{e}\")\n",
    "    \n",
    "    else:\n",
    "        print(\"file read succesfully  and content is valid\")\n",
    "\n",
    "    finally:\n",
    "\n",
    "        try:\n",
    "            file.close()\n",
    "            print(\"file closed succesfully\")\n",
    "\n",
    "        except NameError:\n",
    "            print(\"file never opened till , nothing to close\")\n",
    "\n",
    "\n",
    "read_file(\"class.txt\")\n"
   ]
  },
  {
   "cell_type": "markdown",
   "metadata": {},
   "source": [
    "## Nested Block\n",
    "\n",
    "- it is not necessary that with try block you have to take except, else block"
   ]
  },
  {
   "cell_type": "code",
   "execution_count": 17,
   "metadata": {},
   "outputs": [
    {
     "name": "stdout",
     "output_type": "stream",
     "text": [
      "Outer try block\n",
      "Inner else block: No exception in inner try\n",
      "outer finally block: always executes\n"
     ]
    }
   ],
   "source": [
    "try:\n",
    "    print(\"Outer try block\")\n",
    "    try:\n",
    "        x = 10/2 ## inner try block\n",
    "    except ZeroDivisionError:\n",
    "        print(\"inner except block: Division by zero\")\n",
    "    else:\n",
    "        print(\"Inner else block: No exception in inner try\")\n",
    "finally:\n",
    "    print(\"outer finally block: always executes\")"
   ]
  },
  {
   "cell_type": "code",
   "execution_count": 20,
   "metadata": {},
   "outputs": [
    {
     "name": "stdout",
     "output_type": "stream",
     "text": [
      "outer try block\n",
      "inner try block\n",
      "inner except block\n",
      "inner finally block\n",
      "outer finaaly block\n"
     ]
    }
   ],
   "source": [
    "## exceution from top to bottom\n",
    "\n",
    "try:\n",
    "    print(\"outer try block\")\n",
    "    # y=5/0\n",
    "    try:\n",
    "        print(\"inner try block\")\n",
    "        x = 1/0 \n",
    "    except ZeroDivisionError:\n",
    "        print(\"inner except block\")\n",
    "    else:\n",
    "        print(\"inner else block\")\n",
    "    finally:\n",
    "        print(\"inner finally block\")\n",
    "except Exception as e:\n",
    "    print(f\"outer except block:{e}\")\n",
    "finally:\n",
    "    print(\"outer finaaly block\")"
   ]
  },
  {
   "cell_type": "code",
   "execution_count": 21,
   "metadata": {},
   "outputs": [
    {
     "name": "stdout",
     "output_type": "stream",
     "text": [
      "Outer try block started\n",
      "Inner try block succeeded\n",
      "The number in the file is: 20\n",
      "Inner else block: File was read and content was valid.\n",
      "Inner finally block: Done with file operations.\n",
      "Outer else block: No issues occurred in the file operations.\n",
      "Outer finally block: Clean up done.\n"
     ]
    }
   ],
   "source": [
    "def nested_try_example(filename):\n",
    "    try:\n",
    "        print(\"Outer try block started\")\n",
    "        \n",
    "        try:\n",
    "            with open(filename, 'r') as file:\n",
    "                data = file.read()\n",
    "                print(\"Inner try block succeeded\")\n",
    "                \n",
    "                number = int(data)\n",
    "                print(f\"The number in the file is: {number}\")\n",
    "                \n",
    "        except ValueError as e:\n",
    "            print(f\"Inner except block: Could not convert the file content to an integer. ({e})\")\n",
    "            \n",
    "        else:\n",
    "            print(\"Inner else block: File was read and content was valid.\")\n",
    "            \n",
    "        finally:\n",
    "            print(\"Inner finally block: Done with file operations.\")\n",
    "            \n",
    "    except FileNotFoundError as e:\n",
    "        print(f\"Outer except block: The file '{filename}' was not found. ({e})\")\n",
    "        \n",
    "    else:\n",
    "        print(\"Outer else block: No issues occurred in the file operations.\")\n",
    "        \n",
    "    finally:\n",
    "        print(\"Outer finally block: Clean up done.\")\n",
    "\n",
    "nested_try_example('class.txt')"
   ]
  },
  {
   "cell_type": "markdown",
   "metadata": {},
   "source": [
    "## raise keyword\n",
    "\n",
    "- syntax :\n",
    "raise ExceptionType(\"Error message\")\n",
    "\n",
    "- custom error\n",
    "- aapne error banana\n"
   ]
  },
  {
   "cell_type": "code",
   "execution_count": 31,
   "metadata": {},
   "outputs": [
    {
     "name": "stdout",
     "output_type": "stream",
     "text": [
      "not divide by 5, you are out\n"
     ]
    }
   ],
   "source": [
    "def divide(a,b): ## parameter\n",
    "    if b != 5:\n",
    "        raise ZeroDivisionError(\"not divide by 5, you are out\")\n",
    "    return a/b\n",
    "\n",
    "try:\n",
    "    result  = divide(10,98) ## argument\n",
    "    print(result)\n",
    "\n",
    "except ZeroDivisionError as e:\n",
    "    print(e)"
   ]
  },
  {
   "cell_type": "code",
   "execution_count": 35,
   "metadata": {},
   "outputs": [
    {
     "name": "stdout",
     "output_type": "stream",
     "text": [
      "age -ve nhi ho sakti\n"
     ]
    }
   ],
   "source": [
    "def get_age(age):\n",
    "    if age<0:\n",
    "        raise ValueError(\"age -ve nhi ho sakti\")\n",
    "    return age\n",
    "try:\n",
    "    get_age(-1) ## input age\n",
    "    \n",
    "except ValueError as e:\n",
    "    print(e)"
   ]
  },
  {
   "cell_type": "markdown",
   "metadata": {},
   "source": [
    "## custom exception\n",
    "- class banana jaruri hai"
   ]
  },
  {
   "cell_type": "code",
   "execution_count": 36,
   "metadata": {},
   "outputs": [],
   "source": [
    "class myerror(Exception):\n",
    "    def __init__(self,message):\n",
    "        self.message = message \n",
    "        super().__init__(self.message)"
   ]
  },
  {
   "cell_type": "code",
   "execution_count": 37,
   "metadata": {},
   "outputs": [
    {
     "name": "stdout",
     "output_type": "stream",
     "text": [
      "age -ve nhi ho sakti\n"
     ]
    }
   ],
   "source": [
    "def get_age(age):\n",
    "    if age<0:\n",
    "        raise myerror(\"age -ve nhi ho sakti\")\n",
    "    return age\n",
    "try:\n",
    "    get_age(-1) ## input age\n",
    "    \n",
    "except myerror as e:\n",
    "    print(e)"
   ]
  },
  {
   "cell_type": "code",
   "execution_count": 38,
   "metadata": {},
   "outputs": [],
   "source": [
    "class Tooyoung(Exception):\n",
    "    def __init__(self, age):\n",
    "        self.age = age\n",
    "        self.message = f\"age {self.age} is too young\"\n",
    "        super().__init__(self.message)\n",
    "        "
   ]
  },
  {
   "cell_type": "code",
   "execution_count": 43,
   "metadata": {},
   "outputs": [
    {
     "name": "stdout",
     "output_type": "stream",
     "text": [
      "age 15 is too young\n"
     ]
    }
   ],
   "source": [
    "def check_age(age):\n",
    "    if age<18:\n",
    "        raise Tooyoung(age)\n",
    "    return \"age is valid\"\n",
    "\n",
    "try:\n",
    "    check_age(15)\n",
    "\n",
    "except Tooyoung as e:\n",
    "    print(e)"
   ]
  },
  {
   "cell_type": "markdown",
   "metadata": {},
   "source": [
    "## Exception chaining\n",
    "\n",
    "- allows you to handle one exception and then raise a new exception while preserving the original traceback.This helps in maintaining the context or original error while handling or raising a new exception"
   ]
  },
  {
   "cell_type": "code",
   "execution_count": 49,
   "metadata": {},
   "outputs": [
    {
     "name": "stdout",
     "output_type": "stream",
     "text": [
      "handled error : invalid value for division\n",
      "original error: division by zero\n"
     ]
    }
   ],
   "source": [
    "def divide(a,b):\n",
    "    try:\n",
    "        return a/b\n",
    "    except ZeroDivisionError as e:\n",
    "       raise ValueError(\"invalid value for division\") from e\n",
    "\n",
    "\n",
    "try:\n",
    "\n",
    "    result = divide(10,0)\n",
    "except ValueError as e:\n",
    "    print(f\"handled error : {e}\")\n",
    "    print(f\"original error: {e.__cause__}\")"
   ]
  },
  {
   "cell_type": "code",
   "execution_count": 52,
   "metadata": {},
   "outputs": [
    {
     "name": "stdout",
     "output_type": "stream",
     "text": [
      "handled runtimeerror: failed to open the file\n",
      "original exception :[Errno 2] No such file or directory: 'nonexistent_file.txt'\n"
     ]
    }
   ],
   "source": [
    "def read_file(file_path):\n",
    "    try:\n",
    "        with open(file_path,'r') as file:\n",
    "            return file.read()\n",
    "    except FileNotFoundError as e:\n",
    "        raise RuntimeError(\"failed to open the file\") from e\n",
    "    \n",
    "try:\n",
    "    content = read_file('nonexistent_file.txt')\n",
    "except RuntimeError as e:\n",
    "        print(f\"handled runtimeerror: {e}\")\n",
    "        print(f\"original exception :{ e.__cause__}\")"
   ]
  },
  {
   "cell_type": "code",
   "execution_count": null,
   "metadata": {},
   "outputs": [],
   "source": []
  },
  {
   "cell_type": "code",
   "execution_count": null,
   "metadata": {},
   "outputs": [],
   "source": []
  }
 ],
 "metadata": {
  "kernelspec": {
   "display_name": "Python 3",
   "language": "python",
   "name": "python3"
  },
  "language_info": {
   "codemirror_mode": {
    "name": "ipython",
    "version": 3
   },
   "file_extension": ".py",
   "mimetype": "text/x-python",
   "name": "python",
   "nbconvert_exporter": "python",
   "pygments_lexer": "ipython3",
   "version": "3.13.3"
  }
 },
 "nbformat": 4,
 "nbformat_minor": 2
}
