{
 "cells": [
  {
   "cell_type": "code",
   "execution_count": 7,
   "metadata": {},
   "outputs": [
    {
     "name": "stdout",
     "output_type": "stream",
     "text": [
      "condition is not true\n"
     ]
    }
   ],
   "source": [
    "# codition - desicion making\n",
    "a = 5\n",
    "if a > 5 :\n",
    "    print(\"a is greater than 5\")\n",
    "else:\n",
    "  print(\"condition is not true\")"
   ]
  },
  {
   "cell_type": "code",
   "execution_count": 11,
   "metadata": {},
   "outputs": [
    {
     "name": "stdout",
     "output_type": "stream",
     "text": [
      "a is equal to 4\n"
     ]
    }
   ],
   "source": [
    "## elif for multiple conditions\n",
    "a = 4\n",
    "if a>5 :  # 1 \n",
    "    print(\"a is greater than 5\")\n",
    "elif a==4:   # 2 \n",
    "    print(\"a is equal to 4\")\n",
    "elif a==3:      # 3 \n",
    "    print(\"a is equal to 3\")\n",
    "elif a==2:  # 4 \n",
    "    print(\"a is equal to 2\")\n",
    "else:   # no conditoin  \n",
    "    print(\"conditon is not true\")"
   ]
  },
  {
   "cell_type": "code",
   "execution_count": 15,
   "metadata": {},
   "outputs": [
    {
     "name": "stdout",
     "output_type": "stream",
     "text": [
      "Apple is in the list\n",
      "Orange is not in the list\n"
     ]
    }
   ],
   "source": [
    "fruits = [\"apple\", \"banana\", \"cherry\"]\n",
    "if \"apple\" in fruits:\n",
    "    print(\"Apple is in the list\")\n",
    "if \"orange\" not in fruits:\n",
    "    print(\"Orange is not in the list\")\n",
    "else:\n",
    "    print(\"apple is not in the list\")"
   ]
  },
  {
   "cell_type": "code",
   "execution_count": 22,
   "metadata": {},
   "outputs": [
    {
     "name": "stdout",
     "output_type": "stream",
     "text": [
      "a is greater than 5\n",
      "a is not equal to 4\n"
     ]
    }
   ],
   "source": [
    "## Nested if else\n",
    "a = 12\n",
    "if a>5 :  # 1 \n",
    "    print(\"a is greater than 5\")\n",
    "    if a==4:   # 2\n",
    "        print(\"a is equal to 4\")\n",
    "    elif a==3:      # 3\n",
    "        print(\"a is equal to 3\")\n",
    "        if  a==2:  # 4\n",
    "            print(\"a is equal to 2\")\n",
    "        else:   # no conditoin\n",
    "            print(\"conditon is not true\")\n",
    "\n",
    "    else:\n",
    "        print(\"a is not equal to 4\")\n",
    "else:\n",
    "    print(\"conditon is not true\")"
   ]
  },
  {
   "cell_type": "code",
   "execution_count": 23,
   "metadata": {},
   "outputs": [
    {
     "name": "stdout",
     "output_type": "stream",
     "text": [
      "x is greater than 5 and y is less than 10\n"
     ]
    }
   ],
   "source": [
    "x= 10\n",
    "y =5\n",
    "if x>5 and y<10:\n",
    "    print(\"x is greater than 5 and y is less than 10\")\n",
    "elif x>5 or y<10:\n",
    "    print(\"x is greater than 5 or y is less than 10\")\n",
    "else:\n",
    "    print(\"x is not greater than 5 and y is not less than 10\")"
   ]
  },
  {
   "cell_type": "code",
   "execution_count": 25,
   "metadata": {},
   "outputs": [
    {
     "name": "stdout",
     "output_type": "stream",
     "text": [
      "x is greater than 5\n"
     ]
    }
   ],
   "source": [
    "x = 10\n",
    "message = \"x is greater than 5\" if x > 5 else \"x is 5 or less\"\n",
    "print(message)"
   ]
  },
  {
   "cell_type": "code",
   "execution_count": 26,
   "metadata": {},
   "outputs": [
    {
     "name": "stdout",
     "output_type": "stream",
     "text": [
      "a is less than 0\n"
     ]
    }
   ],
   "source": [
    "def add(x):\n",
    "    if x >5:\n",
    "        print(\"a is greater than 0\")\n",
    "    else:\n",
    "        print(\"a is less than 0\")\n",
    "\n",
    "add(3)"
   ]
  },
  {
   "cell_type": "code",
   "execution_count": 27,
   "metadata": {},
   "outputs": [],
   "source": [
    "x = 29\n",
    "if x > 5 :\n",
    "    pass\n",
    "else:\n",
    "    print(\"x is less than 5\")"
   ]
  },
  {
   "cell_type": "code",
   "execution_count": 28,
   "metadata": {},
   "outputs": [],
   "source": [
    "x = 5\n",
    "assert x==5 , \"X is not 5\""
   ]
  },
  {
   "cell_type": "markdown",
   "metadata": {},
   "source": [
    "## Practice Questions"
   ]
  },
  {
   "cell_type": "code",
   "execution_count": 1,
   "metadata": {},
   "outputs": [
    {
     "name": "stdout",
     "output_type": "stream",
     "text": [
      "0 is falsy\n",
      "[] is falsy\n",
      "{} is falsy\n",
      "None is falsy\n",
      "False is falsy\n",
      "0 in truthy\n",
      "[0] in truthy\n",
      "1 in truthy\n"
     ]
    }
   ],
   "source": [
    "values = [0,[],{},None,False,\"0\",[0],1]\n",
    "for val in values:\n",
    "    if val:\n",
    "        print(f\"{val} in truthy\")\n",
    "    else:\n",
    "        print(f\"{val} is falsy\")\n"
   ]
  },
  {
   "cell_type": "code",
   "execution_count": 5,
   "metadata": {},
   "outputs": [
    {
     "name": "stdout",
     "output_type": "stream",
     "text": [
      "10\n"
     ]
    }
   ],
   "source": [
    "x = 85\n",
    "y= 10\n",
    "z =15\n",
    "result = x if x<y else y if y<z else z  ## if else condition\n",
    "print(result)"
   ]
  },
  {
   "cell_type": "code",
   "execution_count": 6,
   "metadata": {},
   "outputs": [
    {
     "name": "stdout",
     "output_type": "stream",
     "text": [
      "10\n"
     ]
    }
   ],
   "source": [
    "if x<y:\n",
    "    result = x\n",
    "else:\n",
    "    if y< z:\n",
    "        result = y\n",
    "    else:\n",
    "        result =z\n",
    "print(result)\n",
    "    "
   ]
  },
  {
   "cell_type": "code",
   "execution_count": 8,
   "metadata": {},
   "outputs": [
    {
     "name": "stdout",
     "output_type": "stream",
     "text": [
      "Positive\n",
      "Positive\n"
     ]
    }
   ],
   "source": [
    "## version 1\n",
    "if x<0:\n",
    "    print(\"Negative\")\n",
    "elif x == 0:\n",
    "    print(\"Zero\")\n",
    "else:\n",
    "    print(\"Positive\")\n",
    "\n",
    "## version 2 (multiple if condition)\n",
    "if x<0:\n",
    "    print(\"Negative\")\n",
    "if x ==0:\n",
    "    print(\"Zero\")\n",
    "if x >0:\n",
    "    print(\"Positive\")"
   ]
  },
  {
   "cell_type": "code",
   "execution_count": 21,
   "metadata": {},
   "outputs": [
    {
     "name": "stdout",
     "output_type": "stream",
     "text": [
      "y is not positive\n"
     ]
    }
   ],
   "source": [
    "z = y = 0\n",
    "x = 1\n",
    "\n",
    "if x>0:\n",
    "    if y > 0:\n",
    "        if z>0:\n",
    "            print(\"All positive\")\n",
    "        else:\n",
    "            print(\"z is not positive\")\n",
    "    else:\n",
    "        print(\"y is not positive\")\n",
    "else:\n",
    "    print(\"x is not positive\")"
   ]
  },
  {
   "cell_type": "code",
   "execution_count": 14,
   "metadata": {},
   "outputs": [
    {
     "name": "stdout",
     "output_type": "stream",
     "text": [
      "C\n"
     ]
    }
   ],
   "source": [
    "result  = \"A \" if x>10 else \"B\" if x>5 else \"C\" if x>0 else \"D\"\n",
    "print(result)"
   ]
  },
  {
   "cell_type": "code",
   "execution_count": 22,
   "metadata": {},
   "outputs": [
    {
     "name": "stdout",
     "output_type": "stream",
     "text": [
      "C\n"
     ]
    }
   ],
   "source": [
    "if x >10:\n",
    "    result = \"A\"\n",
    "elif x> 5:\n",
    "    result = \"B\"\n",
    "elif x>0:\n",
    "    result = \"C\"\n",
    "else:\n",
    "    result = \"D\"\n",
    "print(result)"
   ]
  },
  {
   "cell_type": "code",
   "execution_count": 23,
   "metadata": {},
   "outputs": [
    {
     "name": "stdout",
     "output_type": "stream",
     "text": [
      "Case 1:\n",
      "One\n",
      "Less than five\n",
      "\n",
      "Case 2:\n",
      "Two\n",
      "Less than five\n",
      "Even\n",
      "\n",
      "Case 3:\n",
      "Three\n",
      "Less than five\n",
      "\n",
      "Case 4:\n",
      "Other\n",
      "Less than five\n",
      "Even\n",
      "\n",
      "Case 5:\n",
      "Other\n",
      "Five or more\n",
      "Even\n"
     ]
    }
   ],
   "source": [
    "def tricky_conditions(x):\n",
    "    if x == 1:\n",
    "        print(\"One\")\n",
    "    elif x == 2:\n",
    "        print(\"Two\")\n",
    "    elif x == 3:\n",
    "        print(\"Three\")\n",
    "    else:\n",
    "        print(\"Other\")\n",
    "    if x < 5:\n",
    "        print(\"Less than five\")\n",
    "    else:\n",
    "        print(\"Five or more\")\n",
    "    if x % 2 == 0:\n",
    "        print(\"Even\")\n",
    "\n",
    "# Test cases\n",
    "print(\"Case 1:\")\n",
    "tricky_conditions(1)\n",
    "\n",
    "print(\"\\nCase 2:\")\n",
    "tricky_conditions(2)\n",
    "\n",
    "print(\"\\nCase 3:\")\n",
    "tricky_conditions(3)\n",
    "\n",
    "print(\"\\nCase 4:\")\n",
    "tricky_conditions(4)\n",
    "\n",
    "print(\"\\nCase 5:\")\n",
    "tricky_conditions(6)\n",
    "\n",
    "# Questions:\n",
    "# 1. What will be the output for each test case?\n",
    "# 2. Why does the function sometimes print two lines, and other times three lines?\n",
    "# 3. What's the difference between using 'elif' and a new 'if' statement?\n",
    "# 4. How would the behavior change if all 'elif' were changed to 'if'?\n",
    "# 5. What happens when x is 6, and why?"
   ]
  },
  {
   "cell_type": "markdown",
   "metadata": {},
   "source": [
    " 2. Why does the function sometimes print two lines, and other times three lines?\n",
    "The first block (if/elif/else) prints one line based on the value of x.\n",
    "\n",
    "The second block (if x < 5) always prints one line.\n",
    "\n",
    "The third block (if x % 2 == 0) only prints something if x is even.\n",
    "\n",
    "So:\n",
    "\n",
    "If x is even, it prints 3 lines.\n",
    "\n",
    "If x is odd, it prints only 2 lines.\n",
    "\n",
    " 3. What's the difference between using elif and a new if statement?\n",
    "elif is attached to a preceding if or elif. Only one block in an if-elif-else chain can execute.\n",
    "\n",
    "if (on its own) is independent, so multiple if blocks can execute.\n",
    "\n",
    " 4. How would the behavior change if all elif were changed to if?\n",
    " def tricky_conditions(x):\n",
    "    if x == 1:\n",
    "        print(\"One\")\n",
    "    if x == 2:\n",
    "        print(\"Two\")\n",
    "    if x == 3:\n",
    "        print(\"Three\")\n",
    "    else:\n",
    "        print(\"Other\")\n",
    "\n",
    "Now:\n",
    "\n",
    "The function might print multiple lines, because each condition is checked independently.\n",
    "\n",
    "The else is only attached to the last if (if x == 3), so it will execute when x != 3, regardless of earlier matches.\n",
    "\n"
   ]
  },
  {
   "cell_type": "markdown",
   "metadata": {},
   "source": []
  },
  {
   "cell_type": "code",
   "execution_count": null,
   "metadata": {},
   "outputs": [],
   "source": []
  },
  {
   "cell_type": "code",
   "execution_count": null,
   "metadata": {},
   "outputs": [],
   "source": []
  }
 ],
 "metadata": {
  "kernelspec": {
   "display_name": "Python 3",
   "language": "python",
   "name": "python3"
  },
  "language_info": {
   "codemirror_mode": {
    "name": "ipython",
    "version": 3
   },
   "file_extension": ".py",
   "mimetype": "text/x-python",
   "name": "python",
   "nbconvert_exporter": "python",
   "pygments_lexer": "ipython3",
   "version": "3.13.2"
  }
 },
 "nbformat": 4,
 "nbformat_minor": 2
}
