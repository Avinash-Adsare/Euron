{
 "cells": [
  {
   "cell_type": "markdown",
   "metadata": {},
   "source": [
    "## Loops"
   ]
  },
  {
   "cell_type": "markdown",
   "metadata": {},
   "source": [
    "## repatative work where loop is use\n",
    "## loop applied on  - list, string, dict, tuples,files\n",
    "\n",
    "## store data - for loop used\n",
    "## condition data - while loop used\n"
   ]
  },
  {
   "cell_type": "code",
   "execution_count": 3,
   "metadata": {},
   "outputs": [
    {
     "data": {
      "text/plain": [
       "[1, 2, 3, 4, 5]"
      ]
     },
     "execution_count": 3,
     "metadata": {},
     "output_type": "execute_result"
    }
   ],
   "source": [
    "## for loop - list , tuple\n",
    "## range function - generate value in sequential order\n",
    "range(1,11)"
   ]
  },
  {
   "cell_type": "code",
   "execution_count": 5,
   "metadata": {},
   "outputs": [
    {
     "data": {
      "text/plain": [
       "[1, 2, 3, 4, 5, 6, 7, 8, 9]"
      ]
     },
     "execution_count": 5,
     "metadata": {},
     "output_type": "execute_result"
    }
   ],
   "source": [
    "list(range(1,10))"
   ]
  },
  {
   "cell_type": "code",
   "execution_count": 7,
   "metadata": {},
   "outputs": [
    {
     "data": {
      "text/plain": [
       "[1, 3, 5, 7, 9, 11, 13]"
      ]
     },
     "execution_count": 7,
     "metadata": {},
     "output_type": "execute_result"
    }
   ],
   "source": [
    "list(range(1,15,2))"
   ]
  },
  {
   "cell_type": "code",
   "execution_count": 8,
   "metadata": {},
   "outputs": [
    {
     "data": {
      "text/plain": [
       "True"
      ]
     },
     "execution_count": 8,
     "metadata": {},
     "output_type": "execute_result"
    }
   ],
   "source": [
    "l = [1,2,3,4,5]\n",
    "5 in l"
   ]
  },
  {
   "cell_type": "code",
   "execution_count": 9,
   "metadata": {},
   "outputs": [
    {
     "name": "stdout",
     "output_type": "stream",
     "text": [
      "1\n",
      "2\n",
      "3\n",
      "4\n",
      "5\n"
     ]
    }
   ],
   "source": [
    "## for loop\n",
    "for i in l:\n",
    "    print(i)"
   ]
  },
  {
   "cell_type": "code",
   "execution_count": 10,
   "metadata": {},
   "outputs": [
    {
     "name": "stdout",
     "output_type": "stream",
     "text": [
      "1\n",
      "2\n",
      "3\n",
      "4\n",
      "5\n",
      "6\n",
      "7\n",
      "8\n",
      "9\n"
     ]
    }
   ],
   "source": [
    "for i in range(1,10):\n",
    "    print(i)"
   ]
  },
  {
   "cell_type": "code",
   "execution_count": 13,
   "metadata": {},
   "outputs": [
    {
     "name": "stdout",
     "output_type": "stream",
     "text": [
      "1\n",
      "2\n",
      "<class 'int'>\n",
      "2\n",
      "3\n",
      "<class 'int'>\n",
      "3\n",
      "4\n",
      "<class 'int'>\n",
      "4\n",
      "5\n",
      "<class 'int'>\n",
      "5\n",
      "6\n",
      "<class 'int'>\n"
     ]
    }
   ],
   "source": [
    "for i in l:\n",
    "    print(i)\n",
    "    print(i+1)\n",
    "    print(type(i))"
   ]
  },
  {
   "cell_type": "code",
   "execution_count": 14,
   "metadata": {},
   "outputs": [
    {
     "name": "stdout",
     "output_type": "stream",
     "text": [
      "apple\n",
      "banana\n",
      "grapes\n"
     ]
    }
   ],
   "source": [
    "fruits = [\"apple\",\"banana\",\"grapes\"]\n",
    "for j in fruits:\n",
    "    print(j)"
   ]
  },
  {
   "cell_type": "code",
   "execution_count": 15,
   "metadata": {},
   "outputs": [
    {
     "name": "stdout",
     "output_type": "stream",
     "text": [
      "1\n",
      "2\n",
      "3\n",
      "43\n",
      "5\n"
     ]
    }
   ],
   "source": [
    "num  = [1,2,3,43,5]\n",
    "for i in num:\n",
    "    print(i)"
   ]
  },
  {
   "cell_type": "code",
   "execution_count": 16,
   "metadata": {},
   "outputs": [
    {
     "name": "stdout",
     "output_type": "stream",
     "text": [
      "A\n",
      "v\n",
      "i\n",
      "n\n",
      "a\n",
      "s\n",
      "h\n",
      " \n",
      "A\n",
      "d\n",
      "s\n",
      "a\n",
      "r\n",
      "e\n"
     ]
    }
   ],
   "source": [
    "str = \"Avinash Adsare\"\n",
    "for i in str:\n",
    "    print(i)"
   ]
  },
  {
   "cell_type": "code",
   "execution_count": 17,
   "metadata": {},
   "outputs": [
    {
     "name": "stdout",
     "output_type": "stream",
     "text": [
      "1\n",
      "234\n",
      "5\n"
     ]
    }
   ],
   "source": [
    "tup  = (1,234,5)\n",
    "for i in tup:\n",
    "    print(i)"
   ]
  },
  {
   "cell_type": "code",
   "execution_count": 21,
   "metadata": {},
   "outputs": [
    {
     "name": "stdout",
     "output_type": "stream",
     "text": [
      "a 21\n",
      "b 544\n",
      "c 25\n"
     ]
    }
   ],
   "source": [
    "my_dict = {'a':21,'b':544,'c':25}\n",
    "for i,j in my_dict.items():\n",
    "    print(i,j)"
   ]
  },
  {
   "cell_type": "code",
   "execution_count": 22,
   "metadata": {},
   "outputs": [],
   "source": [
    "## for loop types -1) for loop 2)Nested loop 3) for-else loop\n"
   ]
  },
  {
   "cell_type": "markdown",
   "metadata": {},
   "source": [
    "## Nested Loop"
   ]
  },
  {
   "cell_type": "code",
   "execution_count": 26,
   "metadata": {},
   "outputs": [
    {
     "name": "stdout",
     "output_type": "stream",
     "text": [
      "2*1 = 2\n",
      "2*2 = 4\n",
      "2*3 = 6\n",
      "2*4 = 8\n",
      "2*5 = 10\n",
      "2*6 = 12\n",
      "2*7 = 14\n",
      "2*8 = 16\n",
      "2*9 = 18\n",
      "2*10 = 20\n"
     ]
    }
   ],
   "source": [
    "number =int(input(\"enter the number for which i table you want\"))\n",
    "\n",
    "for i in range(1,11):\n",
    "    print(f\"{number}*{i} = {number * i}\")"
   ]
  },
  {
   "cell_type": "code",
   "execution_count": 29,
   "metadata": {},
   "outputs": [
    {
     "name": "stdout",
     "output_type": "stream",
     "text": [
      "0 apple\n",
      "1 banana\n",
      "2 cherry\n"
     ]
    }
   ],
   "source": [
    "fruits = ['apple','banana','cherry']\n",
    "for index,i in enumerate(fruits):\n",
    "    print(index,i)  ##python tutor"
   ]
  },
  {
   "cell_type": "code",
   "execution_count": 38,
   "metadata": {},
   "outputs": [
    {
     "name": "stdout",
     "output_type": "stream",
     "text": [
      "Odd number 1\n",
      "Even number 2\n",
      "Odd number 3\n",
      "Even number 4\n",
      "Odd number 5\n",
      "Even number 6\n",
      "Odd number 7\n",
      "Even number 8\n",
      "Odd number 9\n",
      "Even number 10\n"
     ]
    }
   ],
   "source": [
    "numbers = [1,2,3,4,5,6,7,8,9,10]\n",
    "l=[]\n",
    "for i in numbers:\n",
    "    if i%2 == 0:\n",
    "        print(\"Even number\",i) ## even numbers\n",
    "    if i%2 != 0:\n",
    "        print(\"Odd number\" ,i)\n",
    "    #print(i)"
   ]
  },
  {
   "cell_type": "code",
   "execution_count": 39,
   "metadata": {},
   "outputs": [
    {
     "name": "stdout",
     "output_type": "stream",
     "text": [
      "1\n",
      "2\n",
      "3\n",
      "4\n",
      "5\n",
      "6\n",
      "7\n",
      "8\n",
      "9\n"
     ]
    }
   ],
   "source": [
    "matrix = [\n",
    "    [1,2,3],\n",
    "    [4,5,6],\n",
    "    [7,8,9]\n",
    "]\n",
    "for i in matrix:\n",
    "    for j in i:\n",
    "        print(j)"
   ]
  },
  {
   "cell_type": "code",
   "execution_count": 43,
   "metadata": {},
   "outputs": [
    {
     "name": "stdout",
     "output_type": "stream",
     "text": [
      "1*1 = 1\n",
      "1*2 = 2\n",
      "2*1 = 2\n",
      "2*2 = 4\n",
      "3*1 = 3\n",
      "3*2 = 6\n",
      "4*1 = 4\n",
      "4*2 = 8\n",
      "5*1 = 5\n",
      "5*2 = 10\n",
      "6*1 = 6\n",
      "6*2 = 12\n",
      "7*1 = 7\n",
      "7*2 = 14\n",
      "8*1 = 8\n",
      "8*2 = 16\n",
      "9*1 = 9\n",
      "9*2 = 18\n",
      "10*1 = 10\n",
      "10*2 = 20\n"
     ]
    }
   ],
   "source": [
    "## table print\n",
    "\n",
    "for i in range(1,11):\n",
    "    for j in range(1,3):\n",
    "        print(f\"{i}*{j} = {i*j}\")\n"
   ]
  },
  {
   "cell_type": "code",
   "execution_count": 46,
   "metadata": {},
   "outputs": [
    {
     "name": "stdout",
     "output_type": "stream",
     "text": [
      "red s\n",
      "red m\n",
      "red l\n",
      "pink s\n",
      "pink m\n",
      "pink l\n",
      "blue s\n",
      "blue m\n",
      "blue l\n"
     ]
    }
   ],
   "source": [
    "colors =[\"red\",\"pink\",\"blue\"]\n",
    "sizes = [\"s\",\"m\",\"l\"]\n",
    "\n",
    "for color in colors:\n",
    "    for size in sizes:\n",
    "        print(f\"{color} {size}\")"
   ]
  },
  {
   "cell_type": "markdown",
   "metadata": {},
   "source": [
    "## While Loop\n",
    " Used when no of iteration not known"
   ]
  },
  {
   "cell_type": "code",
   "execution_count": 49,
   "metadata": {},
   "outputs": [
    {
     "name": "stdout",
     "output_type": "stream",
     "text": [
      "5\n",
      "4\n",
      "3\n"
     ]
    }
   ],
   "source": [
    "x = 5\n",
    "while x>2:\n",
    "    print(x)\n",
    "    x = x-1\n"
   ]
  },
  {
   "cell_type": "code",
   "execution_count": 53,
   "metadata": {},
   "outputs": [
    {
     "name": "stdout",
     "output_type": "stream",
     "text": [
      "5\n",
      "6\n",
      "7\n",
      "8\n",
      "9\n",
      "10\n",
      "11\n"
     ]
    }
   ],
   "source": [
    "x = 5\n",
    "while x<12:\n",
    "    print(x)\n",
    "    x = x+1\n"
   ]
  },
  {
   "cell_type": "code",
   "execution_count": 55,
   "metadata": {},
   "outputs": [
    {
     "name": "stdout",
     "output_type": "stream",
     "text": [
      "0\n",
      "1\n",
      "2\n",
      "3\n",
      "4\n"
     ]
    }
   ],
   "source": [
    "start =0\n",
    "end = 5\n",
    "while start < end:\n",
    "    print(start)\n",
    "    start += 1"
   ]
  },
  {
   "cell_type": "code",
   "execution_count": 58,
   "metadata": {},
   "outputs": [
    {
     "name": "stdout",
     "output_type": "stream",
     "text": [
      "cherry\n",
      "banana\n",
      "apple\n",
      "mango\n"
     ]
    }
   ],
   "source": [
    "fruits = ['mango','apple','banana','cherry']\n",
    "while fruits:\n",
    "    print(fruits.pop())"
   ]
  },
  {
   "cell_type": "code",
   "execution_count": 59,
   "metadata": {},
   "outputs": [
    {
     "name": "stdout",
     "output_type": "stream",
     "text": [
      "4\n",
      "5\n",
      "6\n",
      "7\n",
      "8\n",
      "9\n",
      "10\n"
     ]
    }
   ],
   "source": [
    "x = 4\n",
    "while True :\n",
    "    print(x)\n",
    "    if x >= 10:\n",
    "        break\n",
    "    x += 1\n"
   ]
  },
  {
   "cell_type": "code",
   "execution_count": 61,
   "metadata": {},
   "outputs": [
    {
     "name": "stdout",
     "output_type": "stream",
     "text": [
      "this is c:25\n",
      "this is b:544\n",
      "this is a:21\n"
     ]
    }
   ],
   "source": [
    "## dict\n",
    "my_dict = {'a':21,'b':544,'c':25}\n",
    "while my_dict:\n",
    "    key,value = my_dict.popitem()\n",
    "    print(f\"this is {key}:{value}\")"
   ]
  },
  {
   "cell_type": "code",
   "execution_count": 65,
   "metadata": {},
   "outputs": [
    {
     "name": "stdout",
     "output_type": "stream",
     "text": [
      "this is your number 5\n"
     ]
    }
   ],
   "source": [
    "num = -1\n",
    "while num <= 0:\n",
    "    num = int(input(\"Enter the number you want \"))\n",
    "print(\"this is your number\",num)"
   ]
  },
  {
   "cell_type": "code",
   "execution_count": 67,
   "metadata": {},
   "outputs": [
    {
     "name": "stdout",
     "output_type": "stream",
     "text": [
      "5\n",
      "6\n",
      "7\n",
      "8\n",
      "9\n",
      "condition is failed\n"
     ]
    }
   ],
   "source": [
    "x = 5\n",
    "while x< 10:\n",
    "    print(x)\n",
    "    x += 1\n",
    "else:\n",
    "    print(\"condition is failed\")"
   ]
  },
  {
   "cell_type": "code",
   "execution_count": 68,
   "metadata": {},
   "outputs": [
    {
     "name": "stdout",
     "output_type": "stream",
     "text": [
      "x:0 and y:10\n",
      "x:1 and y:9\n",
      "x:2 and y:8\n",
      "x:3 and y:7\n",
      "x:4 and y:6\n"
     ]
    }
   ],
   "source": [
    "## two conditions\n",
    "x,y = 0,10\n",
    "while x<5 and y>5:\n",
    "    print(f\"x:{x} and y:{y}\")\n",
    "    x = x+1\n",
    "    y = y-1"
   ]
  },
  {
   "cell_type": "markdown",
   "metadata": {},
   "source": [
    "## Break  and Continue\n"
   ]
  },
  {
   "cell_type": "code",
   "execution_count": 72,
   "metadata": {},
   "outputs": [
    {
     "name": "stdout",
     "output_type": "stream",
     "text": [
      "5\n",
      "this is inside a loop\n",
      "this is out of loop\n",
      "6\n",
      "this is inside a loop\n",
      "this is out of loop\n",
      "7\n",
      "Condition is found\n"
     ]
    }
   ],
   "source": [
    "## break  - if condition is true then break\n",
    "\n",
    "x = 5\n",
    "while x<10:\n",
    "    print(x)\n",
    "    if x == 7:\n",
    "        print(\"Condition is found\")\n",
    "        break\n",
    "    print(\"this is inside a loop\")\n",
    "    x +=1 \n",
    "    print(\"this is out of loop\")"
   ]
  },
  {
   "cell_type": "code",
   "execution_count": 75,
   "metadata": {},
   "outputs": [
    {
     "name": "stdout",
     "output_type": "stream",
     "text": [
      "0\n",
      "this is inside a loop\n",
      "1\n",
      "this is inside a loop\n",
      "2\n",
      "this is inside a loop\n",
      "3\n",
      "this is inside a loop\n",
      "4\n",
      "this is inside a loop\n",
      "5\n",
      "this is inside a loop\n",
      "6\n",
      "this is inside a loop\n",
      "7\n",
      "7 is found dont excute further\n"
     ]
    }
   ],
   "source": [
    "for i in range(10):\n",
    "    print(i)\n",
    "    if i == 7:\n",
    "        print(\"7 is found dont excute further\")\n",
    "        break\n",
    "    print(\"this is inside a loop\")"
   ]
  },
  {
   "cell_type": "code",
   "execution_count": 92,
   "metadata": {},
   "outputs": [
    {
     "name": "stdout",
     "output_type": "stream",
     "text": [
      "142\n"
     ]
    }
   ],
   "source": [
    "ball_faced = 0\n",
    "runs_scored = 0\n",
    "\n",
    "while ball_faced <6:\n",
    "   \n",
    "    run = int(input(f\"runs scored{ball_faced}\"))\n",
    "    \n",
    "    if run == -1:\n",
    "        print(\"your inning is over\")\n",
    "        break\n",
    "\n",
    "    runs_scored += run\n",
    "    ball_faced += 1\n",
    "print(runs_scored)"
   ]
  },
  {
   "cell_type": "markdown",
   "metadata": {},
   "source": [
    "## Continue "
   ]
  },
  {
   "cell_type": "code",
   "execution_count": 86,
   "metadata": {},
   "outputs": [
    {
     "name": "stdout",
     "output_type": "stream",
     "text": [
      "1\n",
      "2\n",
      "3\n",
      "4\n",
      "5\n",
      "6\n",
      "8\n",
      "9\n",
      "10\n"
     ]
    }
   ],
   "source": [
    "x= 0\n",
    "while x<10:\n",
    "    x+=1\n",
    "    if x==7:\n",
    "        #print(\"7 is found loop is not runs further\")\n",
    "        continue  \n",
    "    print(x)"
   ]
  },
  {
   "cell_type": "code",
   "execution_count": 87,
   "metadata": {},
   "outputs": [
    {
     "name": "stdout",
     "output_type": "stream",
     "text": [
      "1\n",
      "3\n",
      "5\n",
      "7\n",
      "9\n"
     ]
    }
   ],
   "source": [
    "x= 0\n",
    "while x<10:\n",
    "    x+=1\n",
    "    if x%2 ==0:\n",
    "        #even values print\n",
    "        continue  \n",
    "    print(x)"
   ]
  },
  {
   "cell_type": "code",
   "execution_count": 90,
   "metadata": {},
   "outputs": [
    {
     "name": "stdout",
     "output_type": "stream",
     "text": [
      "1\n",
      "3\n",
      "5\n",
      "7\n",
      "9\n"
     ]
    }
   ],
   "source": [
    "for i in range(1,11):\n",
    "    if i%2 == 0:\n",
    "        # break\n",
    "        continue\n",
    "    print(i)"
   ]
  },
  {
   "cell_type": "code",
   "execution_count": 96,
   "metadata": {},
   "outputs": [
    {
     "name": "stdout",
     "output_type": "stream",
     "text": [
      "This is wide ball and {ball_faced} and this will not count\n",
      "234\n"
     ]
    }
   ],
   "source": [
    "ball_faced = 0\n",
    "runs_scored = 0\n",
    "\n",
    "while ball_faced <6:\n",
    "    \n",
    "    run = int(input(f\"runs scored{ball_faced}\"))\n",
    "    \n",
    "    if run == -1:\n",
    "        print(\"This is wide ball and {ball_faced} and this will not count\")\n",
    "        continue\n",
    "\n",
    "    runs_scored += run\n",
    "    ball_faced += 1\n",
    "print(runs_scored)"
   ]
  },
  {
   "cell_type": "markdown",
   "metadata": {},
   "source": [
    "## Pass -> Keyword \n",
    "Used in -> loops,condition,function,class\n"
   ]
  },
  {
   "cell_type": "code",
   "execution_count": 5,
   "metadata": {},
   "outputs": [
    {
     "name": "stdout",
     "output_type": "stream",
     "text": [
      "okk\n"
     ]
    }
   ],
   "source": [
    "x = 4\n",
    "if x > 5 :\n",
    "   pass\n",
    "else:\n",
    "   print(\"okk\")"
   ]
  },
  {
   "cell_type": "code",
   "execution_count": 11,
   "metadata": {},
   "outputs": [
    {
     "name": "stdout",
     "output_type": "stream",
     "text": [
      "3\n"
     ]
    }
   ],
   "source": [
    "for i in range(3):\n",
    "    pass\n",
    "x =3\n",
    "if x == 3:\n",
    "    print(x)"
   ]
  },
  {
   "cell_type": "code",
   "execution_count": 15,
   "metadata": {},
   "outputs": [
    {
     "name": "stdout",
     "output_type": "stream",
     "text": [
      "4\n"
     ]
    }
   ],
   "source": [
    "def myfun(x):\n",
    "    print(x)\n",
    "\n",
    "myfun(4)"
   ]
  },
  {
   "cell_type": "code",
   "execution_count": 17,
   "metadata": {},
   "outputs": [
    {
     "name": "stdout",
     "output_type": "stream",
     "text": [
      "6\n"
     ]
    }
   ],
   "source": [
    "class myclass:\n",
    "    x = 6\n",
    "    print(x)\n",
    "\n",
    "c = myclass()"
   ]
  },
  {
   "cell_type": "markdown",
   "metadata": {},
   "source": [
    "## Question Practice\n"
   ]
  },
  {
   "cell_type": "code",
   "execution_count": 27,
   "metadata": {},
   "outputs": [
    {
     "name": "stdout",
     "output_type": "stream",
     "text": [
      "Sum of numbers 625\n"
     ]
    }
   ],
   "source": [
    "# Sum of 1 to 50 even numbers.\n",
    "sum = 0\n",
    "for i in range(1,51):\n",
    "    if i%2 == 0:\n",
    "        continue\n",
    "      \n",
    "    #print(i)\n",
    "    sum = sum +i\n",
    "print(f\"Sum of numbers\",sum)"
   ]
  },
  {
   "cell_type": "code",
   "execution_count": 34,
   "metadata": {},
   "outputs": [
    {
     "name": "stdout",
     "output_type": "stream",
     "text": [
      "10\n",
      "11\n",
      "12\n",
      "13\n",
      "this is the first multiple of 7 : 14\n"
     ]
    }
   ],
   "source": [
    "# Q. Write a python program to find the first multiple of 7 in the range from 10 to 50  using a for loop and brak stmt.\n",
    "for i in range(10,51):\n",
    "    if i % 7 == 0:\n",
    "        print(f\"this is the first multiple of 7 : {i}\")\n",
    "        break\n",
    "    print(i)\n"
   ]
  },
  {
   "cell_type": "code",
   "execution_count": 2,
   "metadata": {},
   "outputs": [
    {
     "name": "stdout",
     "output_type": "stream",
     "text": [
      "7\n"
     ]
    }
   ],
   "source": [
    "# Q.Write a python program to count how many times the leeter 'a' apperars in a givenn string . Using a for loop and continue statement.\n",
    "text = \"An apple a day keep a dockers away\"\n",
    "count_a = 0\n",
    "for char in text :\n",
    "    if char !='a'and char != \"A\":\n",
    "        continue\n",
    "        \n",
    "    count_a +=1\n",
    "print(count_a)\n",
    "## 7 times a oocurs"
   ]
  },
  {
   "cell_type": "code",
   "execution_count": 6,
   "metadata": {},
   "outputs": [
    {
     "name": "stdout",
     "output_type": "stream",
     "text": [
      "11\n",
      "13\n",
      "17\n",
      "19\n",
      "23\n",
      "29\n"
     ]
    }
   ],
   "source": [
    "# Q. Prime no find from 10 - 30\n",
    "# Prime no - no is divisible by 1 and itself\n",
    "\n",
    "for num in range (10,31):\n",
    "    if num > 1:\n",
    "        for i in range(2,num):\n",
    "            if num % i == 0:\n",
    "                break ## not prime no\n",
    "        else:\n",
    "            print(num)\n",
    "                \n",
    "\n"
   ]
  },
  {
   "cell_type": "code",
   "execution_count": 15,
   "metadata": {},
   "outputs": [
    {
     "name": "stdout",
     "output_type": "stream",
     "text": [
      "-1\n",
      "negative value\n",
      "10\n"
     ]
    }
   ],
   "source": [
    "# Q. Write a python program to sum positive numbers in a list until a zero encountered using a for loop and break statement\n",
    "\n",
    "l = [1,2,3,4,-1,7,6,9,5]\n",
    "sum  = 0\n",
    "for i in l:\n",
    "    if i == -1:\n",
    "        print(i)\n",
    "        print(\"negative value\")\n",
    "        break\n",
    "    sum  = sum +i\n",
    "print(sum)\n"
   ]
  },
  {
   "cell_type": "markdown",
   "metadata": {},
   "source": [
    "## While loop questions\n"
   ]
  },
  {
   "cell_type": "code",
   "execution_count": 17,
   "metadata": {},
   "outputs": [
    {
     "name": "stdout",
     "output_type": "stream",
     "text": [
      "54321\n"
     ]
    }
   ],
   "source": [
    "# Q. Write a python program to reverse a given number using a while loop\n",
    "## while loop is use in reverse a number\n",
    "\n",
    "number = 12345\n",
    "reverse = 0\n",
    "\n",
    "while number > 0:\n",
    "    remainder =  number % 10\n",
    "    reverse = (reverse*10) + remainder\n",
    "    number //= 10\n",
    "\n",
    "\n",
    "print(reverse)\n",
    "\n"
   ]
  },
  {
   "cell_type": "code",
   "execution_count": 20,
   "metadata": {},
   "outputs": [
    {
     "name": "stdout",
     "output_type": "stream",
     "text": [
      "15\n"
     ]
    }
   ],
   "source": [
    "# Q. Write a python program to reverse a given number and their sum using a while loop\n",
    "## while loop is use in reverse a number\n",
    "\n",
    "number = 12345\n",
    "sum = 0\n",
    "\n",
    "while number > 0:\n",
    "    sum +=  number % 10\n",
    "    number //= 10\n",
    "\n",
    "print(sum)\n"
   ]
  },
  {
   "cell_type": "code",
   "execution_count": 22,
   "metadata": {},
   "outputs": [
    {
     "name": "stdout",
     "output_type": "stream",
     "text": [
      "10\n",
      "9\n",
      "8\n",
      "7\n",
      "6\n",
      "5\n",
      "4\n",
      "3\n",
      "2\n",
      "1\n",
      "time up's \n"
     ]
    }
   ],
   "source": [
    "## Q. Write a python program to display a countdown timer from 10 to 1 using while loop\n",
    "\n",
    "import time\n",
    "countdown = 10\n",
    "while countdown > 0:\n",
    "    print(countdown)\n",
    "    time.sleep(1)\n",
    "    countdown -= 1\n",
    "print(\"time up's \")"
   ]
  },
  {
   "cell_type": "code",
   "execution_count": null,
   "metadata": {},
   "outputs": [],
   "source": [
    "# Q. Fibonaachic series\n",
    "# Q .Factorial"
   ]
  }
 ],
 "metadata": {
  "kernelspec": {
   "display_name": "Python 3",
   "language": "python",
   "name": "python3"
  },
  "language_info": {
   "codemirror_mode": {
    "name": "ipython",
    "version": 3
   },
   "file_extension": ".py",
   "mimetype": "text/x-python",
   "name": "python",
   "nbconvert_exporter": "python",
   "pygments_lexer": "ipython3",
   "version": "3.13.2"
  }
 },
 "nbformat": 4,
 "nbformat_minor": 2
}
