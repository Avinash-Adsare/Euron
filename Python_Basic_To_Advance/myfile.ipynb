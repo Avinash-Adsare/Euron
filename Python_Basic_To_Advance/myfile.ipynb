{
 "cells": [
  {
   "cell_type": "code",
   "execution_count": 1,
   "metadata": {},
   "outputs": [
    {
     "name": "stdout",
     "output_type": "stream",
     "text": [
      "Hello Avinash\n"
     ]
    }
   ],
   "source": [
    "print(\"Hello Avinash\")"
   ]
  },
  {
   "cell_type": "code",
   "execution_count": 2,
   "metadata": {},
   "outputs": [
    {
     "name": "stdout",
     "output_type": "stream",
     "text": [
      "7\n"
     ]
    }
   ],
   "source": [
    "print(3+4)"
   ]
  },
  {
   "cell_type": "code",
   "execution_count": 3,
   "metadata": {},
   "outputs": [
    {
     "name": "stdout",
     "output_type": "stream",
     "text": [
      " Temperature (in kelvin unit) = 311.63\n",
      " atmospheric pressure (in hPa unit) = 1005\n",
      " humidity (in percentage) = 13\n",
      " description = clear sky\n"
     ]
    }
   ],
   "source": [
    "import requests, json\n",
    "\n",
    "api_key = \"f59f27c8afe67b69db6bc53cdd064c02\"\n",
    "\n",
    "\n",
    "base_url = \"http://api.openweathermap.org/data/2.5/weather?\"\n",
    "\n",
    "city_name = input(\"Enter city name : \")\n",
    "\n",
    "complete_url = base_url + \"appid=\" + api_key + \"&q=\" + city_name\n",
    "\n",
    "\n",
    "response = requests.get(complete_url)\n",
    "\n",
    "\n",
    "x = response.json()\n",
    "\n",
    "if x[\"cod\"] != \"404\":\n",
    "\n",
    "\ty = x[\"main\"]\n",
    "\n",
    "\n",
    "\tcurrent_temperature = y[\"temp\"]\n",
    "\n",
    "\n",
    "\tcurrent_pressure = y[\"pressure\"]\n",
    "\n",
    "\n",
    "\tcurrent_humidity = y[\"humidity\"]\n",
    "\n",
    "\tz = x[\"weather\"]\n",
    "\n",
    "\tweather_description = z[0][\"description\"]\n",
    "\n",
    "\t# print following values\n",
    "\tprint(\" Temperature (in kelvin unit) = \" +\n",
    "\t\t\t\t\tstr(current_temperature) +\n",
    "\t\t\"\\n atmospheric pressure (in hPa unit) = \" +\n",
    "\t\t\t\t\tstr(current_pressure) +\n",
    "\t\t\"\\n humidity (in percentage) = \" +\n",
    "\t\t\t\t\tstr(current_humidity) +\n",
    "\t\t\"\\n description = \" +\n",
    "\t\t\t\t\tstr(weather_description))\n",
    "\n",
    "else:\n",
    "\tprint(\" City Not Found \")"
   ]
  },
  {
   "cell_type": "code",
   "execution_count": 4,
   "metadata": {},
   "outputs": [
    {
     "name": "stdout",
     "output_type": "stream",
     "text": [
      "Tutorials\n",
      "Exercises\n",
      "Certificates\n",
      "All Our Services\n",
      "Python Tutorial\n",
      "File Handling\n",
      "Python Modules\n",
      "Python Matplotlib\n",
      "Machine Learning\n",
      "Python MySQL\n",
      "Python MongoDB\n",
      "Python Reference\n",
      "Module Reference\n",
      "Python How To\n",
      "Python Examples\n",
      "Learn Python\n",
      "Learning by Examples\n",
      "Python File Handling\n",
      "Python Database Handling\n",
      "Python Exercises\n",
      "Python Examples\n",
      "Python Quiz\n",
      "My Learning\n",
      "Python Reference\n",
      "Download Python\n",
      "Kickstart your career\n",
      "Contact Sales\n",
      "Report Error\n"
     ]
    }
   ],
   "source": [
    "import requests\n",
    "from bs4 import BeautifulSoup\n",
    "\n",
    "def get_headlines(url):\n",
    "    response = requests.get(url)\n",
    "    soup = BeautifulSoup(response.content, 'html.parser')\n",
    "    headlines = soup.find_all('h2')\n",
    "    \n",
    "    for headline in headlines:\n",
    "        print(headline.text)\n",
    "\n",
    "# Example usage\n",
    "url = \"https://www.w3schools.com/python/\"  # Replace with a real news website\n",
    "get_headlines(url)"
   ]
  },
  {
   "cell_type": "code",
   "execution_count": 5,
   "metadata": {},
   "outputs": [
    {
     "name": "stdout",
     "output_type": "stream",
     "text": [
      "Your score: 0/3\n"
     ]
    }
   ],
   "source": [
    "def quiz_game():\n",
    "    questions = {\n",
    "        \"What is the capital of india?\": \"new delhi\",\n",
    "        \"What is 2 + 2?\": \"4\",\n",
    "        \"What is the largest planet in our solar system?\": \"Jupiter\"\n",
    "    }\n",
    "    \n",
    "    score = 0\n",
    "    for question, answer in questions.items():\n",
    "        user_answer = input(question + \" \")\n",
    "        if user_answer.lower() == answer.lower():\n",
    "            score += 1\n",
    "    \n",
    "    print(f\"Your score: {score}/{len(questions)}\")\n",
    "\n",
    "quiz_game()"
   ]
  },
  {
   "cell_type": "code",
   "execution_count": 7,
   "metadata": {},
   "outputs": [
    {
     "name": "stdout",
     "output_type": "stream",
     "text": [
      "^C\n"
     ]
    },
    {
     "ename": "ValueError",
     "evalue": "Mime type rendering requires nbformat>=4.2.0 but it is not installed",
     "output_type": "error",
     "traceback": [
      "\u001b[1;31m---------------------------------------------------------------------------\u001b[0m",
      "\u001b[1;31mValueError\u001b[0m                                Traceback (most recent call last)",
      "Cell \u001b[1;32mIn[7], line 12\u001b[0m\n\u001b[0;32m     10\u001b[0m x \u001b[38;5;241m=\u001b[39m [\u001b[38;5;241m1\u001b[39m, \u001b[38;5;241m2\u001b[39m, \u001b[38;5;241m3\u001b[39m, \u001b[38;5;241m4\u001b[39m, \u001b[38;5;241m5\u001b[39m]\n\u001b[0;32m     11\u001b[0m y \u001b[38;5;241m=\u001b[39m [\u001b[38;5;241m10\u001b[39m, \u001b[38;5;241m11\u001b[39m, \u001b[38;5;241m12\u001b[39m, \u001b[38;5;241m13\u001b[39m, \u001b[38;5;241m43\u001b[39m]\n\u001b[1;32m---> 12\u001b[0m \u001b[43mcreate_line_chart\u001b[49m\u001b[43m(\u001b[49m\u001b[43mx\u001b[49m\u001b[43m,\u001b[49m\u001b[43m \u001b[49m\u001b[43my\u001b[49m\u001b[43m)\u001b[49m\n",
      "Cell \u001b[1;32mIn[7], line 7\u001b[0m, in \u001b[0;36mcreate_line_chart\u001b[1;34m(x, y)\u001b[0m\n\u001b[0;32m      5\u001b[0m fig \u001b[38;5;241m=\u001b[39m go\u001b[38;5;241m.\u001b[39mFigure(data\u001b[38;5;241m=\u001b[39mgo\u001b[38;5;241m.\u001b[39mScatter(x\u001b[38;5;241m=\u001b[39mx, y\u001b[38;5;241m=\u001b[39my, mode\u001b[38;5;241m=\u001b[39m\u001b[38;5;124m'\u001b[39m\u001b[38;5;124mlines+markers\u001b[39m\u001b[38;5;124m'\u001b[39m))\n\u001b[0;32m      6\u001b[0m fig\u001b[38;5;241m.\u001b[39mupdate_layout(title\u001b[38;5;241m=\u001b[39m\u001b[38;5;124m'\u001b[39m\u001b[38;5;124mInteractive Line Chart\u001b[39m\u001b[38;5;124m'\u001b[39m, xaxis_title\u001b[38;5;241m=\u001b[39m\u001b[38;5;124m'\u001b[39m\u001b[38;5;124mX Axis\u001b[39m\u001b[38;5;124m'\u001b[39m, yaxis_title\u001b[38;5;241m=\u001b[39m\u001b[38;5;124m'\u001b[39m\u001b[38;5;124mY Axis\u001b[39m\u001b[38;5;124m'\u001b[39m)\n\u001b[1;32m----> 7\u001b[0m \u001b[43mfig\u001b[49m\u001b[38;5;241;43m.\u001b[39;49m\u001b[43mshow\u001b[49m\u001b[43m(\u001b[49m\u001b[43m)\u001b[49m\n",
      "File \u001b[1;32m~\\AppData\\Local\\Packages\\PythonSoftwareFoundation.Python.3.13_qbz5n2kfra8p0\\LocalCache\\local-packages\\Python313\\site-packages\\plotly\\basedatatypes.py:3414\u001b[0m, in \u001b[0;36mBaseFigure.show\u001b[1;34m(self, *args, **kwargs)\u001b[0m\n\u001b[0;32m   3381\u001b[0m \u001b[38;5;250m\u001b[39m\u001b[38;5;124;03m\"\"\"\u001b[39;00m\n\u001b[0;32m   3382\u001b[0m \u001b[38;5;124;03mShow a figure using either the default renderer(s) or the renderer(s)\u001b[39;00m\n\u001b[0;32m   3383\u001b[0m \u001b[38;5;124;03mspecified by the renderer argument\u001b[39;00m\n\u001b[1;32m   (...)\u001b[0m\n\u001b[0;32m   3410\u001b[0m \u001b[38;5;124;03mNone\u001b[39;00m\n\u001b[0;32m   3411\u001b[0m \u001b[38;5;124;03m\"\"\"\u001b[39;00m\n\u001b[0;32m   3412\u001b[0m \u001b[38;5;28;01mimport\u001b[39;00m\u001b[38;5;250m \u001b[39m\u001b[38;5;21;01mplotly\u001b[39;00m\u001b[38;5;21;01m.\u001b[39;00m\u001b[38;5;21;01mio\u001b[39;00m\u001b[38;5;250m \u001b[39m\u001b[38;5;28;01mas\u001b[39;00m\u001b[38;5;250m \u001b[39m\u001b[38;5;21;01mpio\u001b[39;00m\n\u001b[1;32m-> 3414\u001b[0m \u001b[38;5;28;01mreturn\u001b[39;00m \u001b[43mpio\u001b[49m\u001b[38;5;241;43m.\u001b[39;49m\u001b[43mshow\u001b[49m\u001b[43m(\u001b[49m\u001b[38;5;28;43mself\u001b[39;49m\u001b[43m,\u001b[49m\u001b[43m \u001b[49m\u001b[38;5;241;43m*\u001b[39;49m\u001b[43margs\u001b[49m\u001b[43m,\u001b[49m\u001b[43m \u001b[49m\u001b[38;5;241;43m*\u001b[39;49m\u001b[38;5;241;43m*\u001b[39;49m\u001b[43mkwargs\u001b[49m\u001b[43m)\u001b[49m\n",
      "File \u001b[1;32m~\\AppData\\Local\\Packages\\PythonSoftwareFoundation.Python.3.13_qbz5n2kfra8p0\\LocalCache\\local-packages\\Python313\\site-packages\\plotly\\io\\_renderers.py:425\u001b[0m, in \u001b[0;36mshow\u001b[1;34m(fig, renderer, validate, **kwargs)\u001b[0m\n\u001b[0;32m    420\u001b[0m     \u001b[38;5;28;01mraise\u001b[39;00m \u001b[38;5;167;01mValueError\u001b[39;00m(\n\u001b[0;32m    421\u001b[0m         \u001b[38;5;124m\"\u001b[39m\u001b[38;5;124mMime type rendering requires ipython but it is not installed\u001b[39m\u001b[38;5;124m\"\u001b[39m\n\u001b[0;32m    422\u001b[0m     )\n\u001b[0;32m    424\u001b[0m \u001b[38;5;28;01mif\u001b[39;00m \u001b[38;5;129;01mnot\u001b[39;00m nbformat \u001b[38;5;129;01mor\u001b[39;00m Version(nbformat\u001b[38;5;241m.\u001b[39m__version__) \u001b[38;5;241m<\u001b[39m Version(\u001b[38;5;124m\"\u001b[39m\u001b[38;5;124m4.2.0\u001b[39m\u001b[38;5;124m\"\u001b[39m):\n\u001b[1;32m--> 425\u001b[0m     \u001b[38;5;28;01mraise\u001b[39;00m \u001b[38;5;167;01mValueError\u001b[39;00m(\n\u001b[0;32m    426\u001b[0m         \u001b[38;5;124m\"\u001b[39m\u001b[38;5;124mMime type rendering requires nbformat>=4.2.0 but it is not installed\u001b[39m\u001b[38;5;124m\"\u001b[39m\n\u001b[0;32m    427\u001b[0m     )\n\u001b[0;32m    429\u001b[0m display_jupyter_version_warnings()\n\u001b[0;32m    431\u001b[0m ipython_display\u001b[38;5;241m.\u001b[39mdisplay(bundle, raw\u001b[38;5;241m=\u001b[39m\u001b[38;5;28;01mTrue\u001b[39;00m)\n",
      "\u001b[1;31mValueError\u001b[0m: Mime type rendering requires nbformat>=4.2.0 but it is not installed"
     ]
    },
    {
     "name": "stdout",
     "output_type": "stream",
     "text": [
      "Defaulting to user installation because normal site-packages is not writeable\n",
      "Collecting plotly\n",
      "  Downloading plotly-6.0.1-py3-none-any.whl.metadata (6.7 kB)\n",
      "Requirement already satisfied: narwhals>=1.15.1 in c:\\users\\dell\\appdata\\local\\packages\\pythonsoftwarefoundation.python.3.13_qbz5n2kfra8p0\\localcache\\local-packages\\python313\\site-packages (from plotly) (1.30.0)\n",
      "Requirement already satisfied: packaging in c:\\users\\dell\\appdata\\local\\packages\\pythonsoftwarefoundation.python.3.13_qbz5n2kfra8p0\\localcache\\local-packages\\python313\\site-packages (from plotly) (24.2)\n",
      "Downloading plotly-6.0.1-py3-none-any.whl (14.8 MB)\n",
      "   ---------------------------------------- 0.0/14.8 MB ? eta -:--:--\n",
      "   --------- ------------------------------ 3.7/14.8 MB 21.0 MB/s eta 0:00:01\n",
      "   ------------ --------------------------- 4.7/14.8 MB 13.4 MB/s eta 0:00:01\n",
      "   -------------- ------------------------- 5.5/14.8 MB 9.2 MB/s eta 0:00:02\n",
      "   --------------- ------------------------ 5.8/14.8 MB 8.4 MB/s eta 0:00:02\n",
      "   ---------------- ----------------------- 6.0/14.8 MB 6.0 MB/s eta 0:00:02\n",
      "   ---------------- ----------------------- 6.3/14.8 MB 5.2 MB/s eta 0:00:02\n",
      "   ----------------- ---------------------- 6.6/14.8 MB 4.9 MB/s eta 0:00:02\n",
      "   ------------------- -------------------- 7.1/14.8 MB 4.5 MB/s eta 0:00:02\n",
      "   --------------------- ------------------ 7.9/14.8 MB 4.3 MB/s eta 0:00:02\n",
      "   ------------------------ --------------- 8.9/14.8 MB 4.3 MB/s eta 0:00:02\n",
      "   -------------------------- ------------- 10.0/14.8 MB 4.4 MB/s eta 0:00:02\n",
      "   ------------------------------ --------- 11.3/14.8 MB 4.6 MB/s eta 0:00:01\n",
      "   ---------------------------------- ----- 12.8/14.8 MB 4.8 MB/s eta 0:00:01\n",
      "   ------------------------------------ --- 13.6/14.8 MB 4.7 MB/s eta 0:00:01\n",
      "   -------------------------------------- - 14.2/14.8 MB 4.6 MB/s eta 0:00:01\n",
      "   ---------------------------------------- 14.8/14.8 MB 4.5 MB/s eta 0:00:00\n",
      "Installing collected packages: plotly\n",
      "Successfully installed plotly-6.0.1\n"
     ]
    },
    {
     "name": "stderr",
     "output_type": "stream",
     "text": [
      "\n",
      "[notice] A new release of pip is available: 24.3.1 -> 25.0.1\n",
      "[notice] To update, run: C:\\Users\\Dell\\AppData\\Local\\Microsoft\\WindowsApps\\PythonSoftwareFoundation.Python.3.13_qbz5n2kfra8p0\\python.exe -m pip install --upgrade pip\n"
     ]
    }
   ],
   "source": [
    "! pip install plotly\n",
    "import plotly.graph_objects as go\n",
    "\n",
    "def create_line_chart(x, y):\n",
    "    fig = go.Figure(data=go.Scatter(x=x, y=y, mode='lines+markers'))\n",
    "    fig.update_layout(title='Interactive Line Chart', xaxis_title='X Axis', yaxis_title='Y Axis')\n",
    "    fig.show()\n",
    "\n",
    "# Example usage\n",
    "x = [1, 2, 3, 4, 5]\n",
    "y = [10, 11, 12, 13, 43]\n",
    "create_line_chart(x, y)"
   ]
  },
  {
   "cell_type": "code",
   "execution_count": null,
   "metadata": {},
   "outputs": [],
   "source": [
    "import pygame\n",
    "import time\n",
    "import random\n",
    "\n",
    "# Initialize Pygame\n",
    "pygame.init()\n",
    "\n",
    "# Define colors\n",
    "WHITE = (255, 255, 255)\n",
    "BLACK = (0, 0, 0)\n",
    "GREEN = (0, 255, 0)\n",
    "RED = (255, 0, 0)\n",
    "\n",
    "# Define screen dimensions\n",
    "SCREEN_WIDTH = 600\n",
    "SCREEN_HEIGHT = 400\n",
    "BLOCK_SIZE = 20\n",
    "\n",
    "# Create the screen\n",
    "screen = pygame.display.set_mode((SCREEN_WIDTH, SCREEN_HEIGHT))\n",
    "pygame.display.set_caption(\"Snake Game\")\n",
    "\n",
    "# Clock for controlling the speed of the snake\n",
    "clock = pygame.time.Clock()\n",
    "snake_speed = 15\n",
    "\n",
    "# Define the snake and food\n",
    "def our_snake(block_size, snake_list):\n",
    "    for x in snake_list:\n",
    "        pygame.draw.rect(screen, GREEN, [x[0], x[1], block_size, block_size])\n",
    "\n",
    "def message(msg, color):\n",
    "    font = pygame.font.SysFont(None, 35)\n",
    "    mesg = font.render(msg, True, color)\n",
    "    screen.blit(mesg, [SCREEN_WIDTH / 6, SCREEN_HEIGHT / 3])\n",
    "\n",
    "def gameLoop():\n",
    "    game_over = False\n",
    "    game_close = False\n",
    "\n",
    "    x1 = SCREEN_WIDTH / 2\n",
    "    y1 = SCREEN_HEIGHT / 2\n",
    "\n",
    "    x1_change = 0\n",
    "    y1_change = 0\n",
    "\n",
    "    snake_List = []\n",
    "    Length_of_snake = 1\n",
    "\n",
    "    foodx = round(random.randrange(0, SCREEN_WIDTH - BLOCK_SIZE) / 20.0) * 20.0\n",
    "    foody = round(random.randrange(0, SCREEN_HEIGHT - BLOCK_SIZE) / 20.0) * 20.0\n",
    "\n",
    "    while not game_over:\n",
    "\n",
    "        while game_close == True:\n",
    "            screen.fill(BLACK)\n",
    "            message(\"You Lost! Press Q-Quit or C-Play Again\", RED)\n",
    "            pygame.display.update()\n",
    "\n",
    "            for event in pygame.event.get():\n",
    "                if event.type == pygame.KEYDOWN:\n",
    "                    if event.key == pygame.K_q:\n",
    "                        game_over = True\n",
    "                        game_close = False\n",
    "                    if event.key == pygame.K_c:\n",
    "                        gameLoop()\n",
    "\n",
    "        for event in pygame.event.get():\n",
    "            if event.type == pygame.QUIT:\n",
    "                game_over = True\n",
    "            if event.type == pygame.KEYDOWN:\n",
    "                if event.key == pygame.K_LEFT:\n",
    "                    x1_change = -BLOCK_SIZE\n",
    "                    y1_change = 0\n",
    "                elif event.key == pygame.K_RIGHT:\n",
    "                    x1_change = BLOCK_SIZE\n",
    "                    y1_change = 0\n",
    "                elif event.key == pygame.K_UP:\n",
    "                    y1_change = -BLOCK_SIZE\n",
    "                    x1_change = 0\n",
    "                elif event.key == pygame.K_DOWN:\n",
    "                    y1_change = BLOCK_SIZE\n",
    "                    x1_change = 0\n",
    "\n",
    "        if x1 >= SCREEN_WIDTH or x1 < 0 or y1 >= SCREEN_HEIGHT or y1 < 0:\n",
    "            game_close = True\n",
    "        x1 += x1_change\n",
    "        y1 += y1_change\n",
    "        screen.fill(BLACK)\n",
    "        pygame.draw.rect(screen, RED, [foodx, foody, BLOCK_SIZE, BLOCK_SIZE])\n",
    "        snake_Head = []\n",
    "        snake_Head.append(x1)\n",
    "        snake_Head.append(y1)\n",
    "        snake_List.append(snake_Head)\n",
    "        if len(snake_List) > Length_of_snake:\n",
    "            del snake_List[0]\n",
    "\n",
    "        for x in snake_List[:-1]:\n",
    "            if x == snake_Head:\n",
    "                game_close = True\n",
    "\n",
    "        our_snake(BLOCK_SIZE, snake_List)\n",
    "\n",
    "        pygame.display.update()\n",
    "\n",
    "        if x1 == foodx and y1 == foody:\n",
    "            foodx = round(random.randrange(0, SCREEN_WIDTH - BLOCK_SIZE) / 20.0) * 20.0\n",
    "            foody = round(random.randrange(0, SCREEN_HEIGHT - BLOCK_SIZE) / 20.0) * 20.0\n",
    "            Length_of_snake += 1\n",
    "\n",
    "        clock.tick(snake_speed)\n",
    "\n",
    "    pygame.quit()\n",
    "    quit()\n",
    "\n",
    "gameLoop()"
   ]
  },
  {
   "cell_type": "code",
   "execution_count": 8,
   "metadata": {},
   "outputs": [],
   "source": [
    "## variable\n",
    "\n",
    "a = 658511452"
   ]
  },
  {
   "cell_type": "code",
   "execution_count": 9,
   "metadata": {},
   "outputs": [
    {
     "name": "stdout",
     "output_type": "stream",
     "text": [
      "658511452\n"
     ]
    }
   ],
   "source": [
    "print(a)"
   ]
  },
  {
   "cell_type": "code",
   "execution_count": 11,
   "metadata": {},
   "outputs": [
    {
     "data": {
      "text/plain": [
       "658511453"
      ]
     },
     "execution_count": 11,
     "metadata": {},
     "output_type": "execute_result"
    }
   ],
   "source": [
    "b= a+1\n",
    "b"
   ]
  },
  {
   "cell_type": "code",
   "execution_count": 12,
   "metadata": {},
   "outputs": [
    {
     "name": "stdout",
     "output_type": "stream",
     "text": [
      "658511452\n",
      "658511453\n"
     ]
    }
   ],
   "source": [
    "print(a)\n",
    "print(b)"
   ]
  },
  {
   "cell_type": "code",
   "execution_count": 13,
   "metadata": {},
   "outputs": [],
   "source": [
    "a,b,c = 1,2,3"
   ]
  },
  {
   "cell_type": "code",
   "execution_count": 14,
   "metadata": {},
   "outputs": [
    {
     "data": {
      "text/plain": [
       "1"
      ]
     },
     "execution_count": 14,
     "metadata": {},
     "output_type": "execute_result"
    }
   ],
   "source": [
    "a"
   ]
  },
  {
   "cell_type": "code",
   "execution_count": 15,
   "metadata": {},
   "outputs": [
    {
     "data": {
      "text/plain": [
       "2"
      ]
     },
     "execution_count": 15,
     "metadata": {},
     "output_type": "execute_result"
    }
   ],
   "source": [
    "b"
   ]
  },
  {
   "cell_type": "code",
   "execution_count": 16,
   "metadata": {},
   "outputs": [
    {
     "data": {
      "text/plain": [
       "3"
      ]
     },
     "execution_count": 16,
     "metadata": {},
     "output_type": "execute_result"
    }
   ],
   "source": [
    "c"
   ]
  },
  {
   "cell_type": "code",
   "execution_count": null,
   "metadata": {},
   "outputs": [],
   "source": []
  },
  {
   "cell_type": "code",
   "execution_count": 17,
   "metadata": {},
   "outputs": [],
   "source": [
    "a,b,*c=1,2,3,4,5"
   ]
  },
  {
   "cell_type": "code",
   "execution_count": 18,
   "metadata": {},
   "outputs": [
    {
     "data": {
      "text/plain": [
       "2"
      ]
     },
     "execution_count": 18,
     "metadata": {},
     "output_type": "execute_result"
    }
   ],
   "source": [
    "b"
   ]
  },
  {
   "cell_type": "code",
   "execution_count": 19,
   "metadata": {},
   "outputs": [
    {
     "data": {
      "text/plain": [
       "[3, 4, 5]"
      ]
     },
     "execution_count": 19,
     "metadata": {},
     "output_type": "execute_result"
    }
   ],
   "source": [
    "c"
   ]
  },
  {
   "cell_type": "code",
   "execution_count": null,
   "metadata": {},
   "outputs": [],
   "source": []
  }
 ],
 "metadata": {
  "kernelspec": {
   "display_name": "Python 3",
   "language": "python",
   "name": "python3"
  },
  "language_info": {
   "codemirror_mode": {
    "name": "ipython",
    "version": 3
   },
   "file_extension": ".py",
   "mimetype": "text/x-python",
   "name": "python",
   "nbconvert_exporter": "python",
   "pygments_lexer": "ipython3",
   "version": "3.13.2"
  }
 },
 "nbformat": 4,
 "nbformat_minor": 2
}
